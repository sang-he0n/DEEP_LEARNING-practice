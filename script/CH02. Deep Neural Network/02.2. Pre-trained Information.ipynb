{
 "cells": [
  {
   "cell_type": "markdown",
   "metadata": {},
   "source": [
    "# CH02.2. **사전-학습 정보(Pre-train Information)**"
   ]
  },
  {
   "cell_type": "markdown",
   "metadata": {},
   "source": [
    "## 00. **작업 환경 설정**"
   ]
  },
  {
   "cell_type": "markdown",
   "metadata": {},
   "source": [
    "#### 00.0. **사전 변수 설정**"
   ]
  },
  {
   "cell_type": "code",
   "execution_count": null,
   "metadata": {},
   "outputs": [],
   "source": [
    "SEED_NUM = 2025\n",
    "BATCH_SIZE = 32\n",
    "EPOCH_NUM = 5000\n",
    "USE_PRETRAIN_YN = 'Y' # 'Y' or 'N'\n",
    "MODEL_PTH = '../../model/bostonRegGPU.pt'"
   ]
  },
  {
   "cell_type": "markdown",
   "metadata": {},
   "source": [
    "#### 00.1. **라이브러리 호출 및 옵션 설정**"
   ]
  },
  {
   "cell_type": "code",
   "execution_count": 2,
   "metadata": {},
   "outputs": [
    {
     "data": {
      "text/plain": [
       "<torch._C.Generator at 0x17a1f04b0>"
      ]
     },
     "execution_count": 2,
     "metadata": {},
     "output_type": "execute_result"
    }
   ],
   "source": [
    "#(1) Import libraries\n",
    "import os\n",
    "import random\n",
    "import tqdm\n",
    "import numpy as np\n",
    "import pandas as pd\n",
    "import matplotlib.pyplot as plt \n",
    "import sklearn\n",
    "import torch\n",
    "\n",
    "#(2) Set options\n",
    "os.environ['PYTHONHASHSEED'] = str(SEED_NUM)\n",
    "random.seed(a=SEED_NUM)\n",
    "np.random.seed(seed=SEED_NUM)\n",
    "torch.use_deterministic_algorithms(mode=True)\n",
    "torch.manual_seed(seed=SEED_NUM)"
   ]
  },
  {
   "cell_type": "markdown",
   "metadata": {},
   "source": [
    "#### 00.2. **사용자정의함수 정의**"
   ]
  },
  {
   "cell_type": "code",
   "execution_count": null,
   "metadata": {},
   "outputs": [],
   "source": [
    "#(1) Define `describe_df()` function\n",
    "def describe_df(df:pd.DataFrame) :\n",
    "    output = pd.DataFrame(data={\n",
    "        'dataType'     : df.dtypes,\n",
    "        'nullCount'    : df.isnull().sum(),\n",
    "        'nonNullCount' : (df.shape[0]-df.isnull().sum()),\n",
    "        'uniqueCount'  : df.nunique()\n",
    "    })\n",
    "    return output\n",
    "\n",
    "#(2) Define `compute_rmse()` function\n",
    "def compute_rmse(model:torch.nn.Module, loader:torch.utils.data.DataLoader) :\n",
    "    model.eval()\n",
    "    with torch.no_grad() : \n",
    "        square_sum = 0\n",
    "        instance_num = 0\n",
    "        for inputs, targets in loader :\n",
    "            preds = model(x=inputs)\n",
    "            square_sum += torch.sum(input=(preds - targets)**2).item()\n",
    "            instance_num += len(targets)\n",
    "    model.train()\n",
    "    output = np.sqrt(square_sum/instance_num)\n",
    "    return output"
   ]
  },
  {
   "cell_type": "markdown",
   "metadata": {},
   "source": [
    "#### 00.3. **클래스 정의**"
   ]
  },
  {
   "cell_type": "code",
   "execution_count": 4,
   "metadata": {},
   "outputs": [],
   "source": [
    "#(1) Define `MyTensorDataset` class\n",
    "class MyTensorDataset(torch.utils.data.Dataset) :\n",
    "    def __init__(self, df:pd.DataFrame, pred_label_nm:'str', data_type:torch.dtype=torch.float32) :\n",
    "        self.feature = torch.tensor(data=df.drop(labels=pred_label_nm, axis=1).values, dtype=data_type)\n",
    "        self.label = torch.tensor(data=df.loc[:, pred_label_nm].values, dtype=data_type).reshape(shape=(-1, 1))\n",
    "        self.len = self.label.shape[0]\n",
    "    def __getitem__(self, index) :\n",
    "        return self.feature[index], self.label[index]\n",
    "    def __len__(self) :\n",
    "        return self.len\n",
    "\n",
    "#(2) Define `MyRegressionModel` class\n",
    "class MyRegressionModel(torch.nn.Module) :\n",
    "    def __init__(self) :\n",
    "        super().__init__()\n",
    "        dims = [13, 128, 64, 32]\n",
    "        self.layers = torch.nn.ModuleDict()\n",
    "        for i in range(len(dims)-1) :\n",
    "            fc_block = torch.nn.ModuleList(modules=[\n",
    "                torch.nn.Linear(in_features=dims[i], out_features=dims[i+1]),\n",
    "                torch.nn.BatchNorm1d(num_features=dims[i+1]),\n",
    "                torch.nn.ReLU(),\n",
    "                torch.nn.Dropout(p=0.2)\n",
    "            ])\n",
    "            self.layers[f'fc_{i}'] = fc_block\n",
    "        layer = torch.nn.Linear(in_features=dims[-1], out_features=1)\n",
    "        self.layers[f'fc_{i+1}'] = layer\n",
    "    def forward(self, x) :\n",
    "        _layers = list(self.layers.values())\n",
    "        for fc_block in _layers[:-1]:\n",
    "            for layer in fc_block:\n",
    "                x = layer(x)\n",
    "        x = _layers[-1](x)\n",
    "        return x"
   ]
  },
  {
   "cell_type": "markdown",
   "metadata": {},
   "source": [
    "<b></b>"
   ]
  },
  {
   "cell_type": "markdown",
   "metadata": {},
   "source": [
    "## 01. **데이터셋 로드 및 EDA**"
   ]
  },
  {
   "cell_type": "markdown",
   "metadata": {},
   "source": [
    "#### 01.1. **데이터셋 로드**"
   ]
  },
  {
   "cell_type": "code",
   "execution_count": 5,
   "metadata": {},
   "outputs": [],
   "source": [
    "boston_raw = pd.read_csv(filepath_or_buffer='../../data/boston.csv', index_col=[0])"
   ]
  },
  {
   "cell_type": "markdown",
   "metadata": {},
   "source": [
    "#### 01.2. **EDA**"
   ]
  },
  {
   "cell_type": "code",
   "execution_count": 6,
   "metadata": {},
   "outputs": [],
   "source": [
    "#(1) Display `boston_raw`\n",
    "# boston_raw.head(n=10)"
   ]
  },
  {
   "cell_type": "code",
   "execution_count": 7,
   "metadata": {},
   "outputs": [],
   "source": [
    "#(2) Describe `boston_raw`\n",
    "# describe_df(df=boston_raw)"
   ]
  },
  {
   "cell_type": "code",
   "execution_count": 8,
   "metadata": {},
   "outputs": [],
   "source": [
    "#(3) Check the statistics of `boston_raw`\n",
    "# boston_raw.describe(percentiles=[0.01, 0.1, 0.25, 0.5, 0.75, 0.9, 0.99]).transpose()"
   ]
  },
  {
   "cell_type": "markdown",
   "metadata": {},
   "source": [
    "<b></b>"
   ]
  },
  {
   "cell_type": "markdown",
   "metadata": {},
   "source": [
    "## 02. **데이터셋 전처리**"
   ]
  },
  {
   "cell_type": "markdown",
   "metadata": {},
   "source": [
    "#### 02.1. **학습 및 검증 데이터셋 분리**"
   ]
  },
  {
   "cell_type": "code",
   "execution_count": 9,
   "metadata": {},
   "outputs": [],
   "source": [
    "boston_train, boston_test = sklearn.model_selection.train_test_split(boston_raw, train_size=0.7, random_state=SEED_NUM)"
   ]
  },
  {
   "cell_type": "markdown",
   "metadata": {},
   "source": [
    "#### 02.2. **텐서 변환**"
   ]
  },
  {
   "cell_type": "code",
   "execution_count": 10,
   "metadata": {},
   "outputs": [],
   "source": [
    "boston_train = MyTensorDataset(df=boston_train, pred_label_nm='Price', data_type=torch.float32)\n",
    "boston_test = MyTensorDataset(df=boston_test, pred_label_nm='Price', data_type=torch.float32)"
   ]
  },
  {
   "cell_type": "markdown",
   "metadata": {},
   "source": [
    "#### 02.3. **데이터로더 변환**"
   ]
  },
  {
   "cell_type": "code",
   "execution_count": 11,
   "metadata": {},
   "outputs": [],
   "source": [
    "boston_train_loader = torch.utils.data.DataLoader(dataset=boston_train, batch_size=BATCH_SIZE, shuffle=True)\n",
    "boston_test_loader = torch.utils.data.DataLoader(dataset=boston_test, batch_size=BATCH_SIZE, shuffle=True)"
   ]
  },
  {
   "cell_type": "markdown",
   "metadata": {},
   "source": [
    "<b></b>"
   ]
  },
  {
   "cell_type": "markdown",
   "metadata": {},
   "source": [
    "## 03. **모델 구축 및 학습**"
   ]
  },
  {
   "cell_type": "markdown",
   "metadata": {},
   "source": [
    "#### 03.1. **모델 정의**"
   ]
  },
  {
   "cell_type": "code",
   "execution_count": 12,
   "metadata": {},
   "outputs": [],
   "source": [
    "#(1) Define `model`\n",
    "model = MyRegressionModel().to(dtype=torch.float32)\n",
    "\n",
    "#(2) Display `model`\n",
    "# model"
   ]
  },
  {
   "cell_type": "code",
   "execution_count": 13,
   "metadata": {},
   "outputs": [],
   "source": [
    "#(3)\n",
    "# dummy = torch.randn(size=[BATCH_SIZE]+list(boston_train[0][0].shape))\n",
    "# torchinfo.summary(model=model, input_data=dummy)"
   ]
  },
  {
   "cell_type": "code",
   "execution_count": 14,
   "metadata": {},
   "outputs": [],
   "source": [
    "#(3) Define loss function\n",
    "criterion = torch.nn.MSELoss()\n",
    "\n",
    "#(4) Define optimizer(optimization method)\n",
    "optimizer = torch.optim.Adam(params=model.parameters(), lr=1e-2, weight_decay=1e-7)\n",
    "\n",
    "#(5) Define Scheduler\n",
    "scheduler = torch.optim.lr_scheduler.StepLR(optimizer=optimizer, step_size=30, gamma=0.1)"
   ]
  },
  {
   "cell_type": "markdown",
   "metadata": {},
   "source": [
    "#### 03.2. **학습 전 변수 정의(사전학습 활용)**"
   ]
  },
  {
   "cell_type": "code",
   "execution_count": null,
   "metadata": {},
   "outputs": [
    {
     "name": "stdout",
     "output_type": "stream",
     "text": [
      ">> Epoch=74, Train Loss=0.00872905362242212\n"
     ]
    }
   ],
   "source": [
    "batch_cnt = len(boston_train_loader)\n",
    "if USE_PRETRAIN_YN == 'Y' :\n",
    "    checkpoint = torch.load(f=MODEL_PTH)\n",
    "    model.load_state_dict(state_dict=checkpoint['model'])\n",
    "    optimizer.load_state_dict(state_dict=checkpoint['optimizer'])\n",
    "    epoch = checkpoint['epoch']\n",
    "    loss_hist = checkpoint['loss_hist']\n",
    "    best_loss = loss_hist[-1]\n",
    "else :\n",
    "    epoch = 0\n",
    "    loss_hist = []\n",
    "    best_loss = float('inf')\n",
    "print(f\">> Epoch={epoch}, Train Loss={best_loss}\")"
   ]
  },
  {
   "cell_type": "markdown",
   "metadata": {},
   "source": [
    "#### **(`PLUS`)** `.pt` 파일은 PyTorch에서 모델의 상태(가중치, 옵티마이저 상태 등)를 저장하거나 불러올 때 사용하는 딕셔너리 구조임"
   ]
  },
  {
   "cell_type": "markdown",
   "metadata": {},
   "source": [
    "#### 03.3. **모델 학습**"
   ]
  },
  {
   "cell_type": "code",
   "execution_count": null,
   "metadata": {},
   "outputs": [
    {
     "name": "stderr",
     "output_type": "stream",
     "text": [
      "100%|██████████| 4926/4926 [02:09<00:00, 38.16it/s, epoch=5000, loss=0.138] \n"
     ]
    }
   ],
   "source": [
    "progress_bar = tqdm.trange(epoch, EPOCH_NUM)\n",
    "for epoch in progress_bar : \n",
    "    running_loss = 0.0\n",
    "    model.train()\n",
    "    for inputs, targets in boston_train_loader :\n",
    "        optimizer.zero_grad() \n",
    "        outputs = model(x=inputs)\n",
    "        loss = criterion(input=outputs, target=targets)\n",
    "        loss.backward()\n",
    "        optimizer.step()\n",
    "        running_loss += loss.item()\n",
    "    running_loss_avg = running_loss / batch_cnt\n",
    "    loss_hist.append(running_loss_avg)\n",
    "    if running_loss_avg < best_loss :\n",
    "        best_loss = running_loss_avg\n",
    "        torch.save(\n",
    "            obj={\n",
    "                'epoch'     : epoch,\n",
    "                'loss_hist' : loss_hist,\n",
    "                'model'     : model.state_dict(),\n",
    "                'optimizer' : optimizer.state_dict()\n",
    "            }, \n",
    "            f=MODEL_PTH\n",
    "        )\n",
    "    scheduler.step()\n",
    "    progress_bar.set_postfix(ordered_dict={'epoch':epoch+1, 'loss':running_loss}) "
   ]
  },
  {
   "cell_type": "markdown",
   "metadata": {},
   "source": [
    "<b></b>"
   ]
  },
  {
   "cell_type": "markdown",
   "metadata": {},
   "source": [
    "## 04. **모델 평가**"
   ]
  },
  {
   "cell_type": "markdown",
   "metadata": {},
   "source": [
    "#### 04.1. **최적 성능 모델 로드**"
   ]
  },
  {
   "cell_type": "code",
   "execution_count": null,
   "metadata": {},
   "outputs": [
    {
     "name": "stdout",
     "output_type": "stream",
     "text": [
      ">> Epoch : 766, Loss : 0.007427760232531\n"
     ]
    }
   ],
   "source": [
    "checkpoint = torch.load(f=MODEL_PTH)\n",
    "model.load_state_dict(state_dict=checkpoint['model'])\n",
    "print(f'>> Epoch : {checkpoint[\"epoch\"]}, Loss : {checkpoint[\"loss_hist\"][-1]}')"
   ]
  },
  {
   "cell_type": "markdown",
   "metadata": {},
   "source": [
    "#### 04.2. **학습 손실(Traing Loss) 확인**"
   ]
  },
  {
   "cell_type": "code",
   "execution_count": 18,
   "metadata": {},
   "outputs": [
    {
     "name": "stdout",
     "output_type": "stream",
     "text": [
      ">> Train RMSE: 0.07555563746950143\n"
     ]
    }
   ],
   "source": [
    "#(1) Check RMSE\n",
    "rmse_train = compute_rmse(model=model, loader=boston_train_loader)\n",
    "print(f'>> Train RMSE: {rmse_train}')"
   ]
  },
  {
   "cell_type": "code",
   "execution_count": 19,
   "metadata": {},
   "outputs": [
    {
     "data": {
      "image/png": "[encoded data removed]",
      "text/plain": [
       "<Figure size 1200x600 with 1 Axes>"
      ]
     },
     "metadata": {},
     "output_type": "display_data"
    }
   ],
   "source": [
    "#(2) Plot traing loss\n",
    "plt.figure(figsize=(12, 6))\n",
    "plt.title(label='Training Loss')\n",
    "plt.xlabel(xlabel='epoch')\n",
    "plt.ylabel(ylabel='loss')\n",
    "plt.plot(loss_hist)\n",
    "plt.show()"
   ]
  },
  {
   "cell_type": "markdown",
   "metadata": {},
   "source": [
    "#### 04.3. **성능 평가**"
   ]
  },
  {
   "cell_type": "code",
   "execution_count": 20,
   "metadata": {},
   "outputs": [
    {
     "name": "stdout",
     "output_type": "stream",
     "text": [
      ">> Test RMSE : 0.10420820757888229\n"
     ]
    }
   ],
   "source": [
    "rmse_test = compute_rmse(model=model, loader=boston_test_loader)\n",
    "print(f'>> Test RMSE : {rmse_test}')"
   ]
  }
 ],
 "metadata": {
  "kernelspec": {
   "display_name": "PYTCH",
   "language": "python",
   "name": "python3"
  },
  "language_info": {
   "codemirror_mode": {
    "name": "ipython",
    "version": 3
   },
   "file_extension": ".py",
   "mimetype": "text/x-python",
   "name": "python",
   "nbconvert_exporter": "python",
   "pygments_lexer": "ipython3",
   "version": "3.10.16"
  }
 },
 "nbformat": 4,
 "nbformat_minor": 2
}
