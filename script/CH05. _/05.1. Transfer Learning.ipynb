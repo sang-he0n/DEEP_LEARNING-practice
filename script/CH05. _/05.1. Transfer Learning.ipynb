{
 "cells": [
  {
   "cell_type": "markdown",
   "metadata": {},
   "source": [
    "# CH05.1. **Transfer Learning**"
   ]
  },
  {
   "cell_type": "markdown",
   "metadata": {},
   "source": [
    "## 00. **작업 환경 설정**"
   ]
  },
  {
   "cell_type": "markdown",
   "metadata": {},
   "source": [
    "#### 00.0. **사전 변수 설정**"
   ]
  },
  {
   "cell_type": "code",
   "execution_count": 1,
   "metadata": {},
   "outputs": [],
   "source": [
    "SEED_NUM = 2025\n",
    "BATCH_SIZE = 32\n",
    "EPOCH_NUM = 100\n",
    "USE_PRETRAIN_YN = 'N'\n",
    "MODEL_PTH = '../../model/cifaResNet.pt'"
   ]
  },
  {
   "cell_type": "markdown",
   "metadata": {},
   "source": [
    "#### 00.1. **라이브러리 호출 및 옵션 설정**"
   ]
  },
  {
   "cell_type": "code",
   "execution_count": 2,
   "metadata": {},
   "outputs": [
    {
     "name": "stdout",
     "output_type": "stream",
     "text": [
      ">> Device : mps\n"
     ]
    }
   ],
   "source": [
    "#(1) Import libraries\n",
    "import os\n",
    "import random\n",
    "import tqdm\n",
    "import numpy as np\n",
    "import pandas as pd\n",
    "import matplotlib.pyplot as plt \n",
    "import sklearn\n",
    "import torch\n",
    "import torchvision\n",
    "import torchinfo\n",
    "\n",
    "#(2) Set up options\n",
    "os.environ['PYTHONHASHSEED'] = str(SEED_NUM)\n",
    "random.seed(a=SEED_NUM)\n",
    "np.random.seed(seed=SEED_NUM)\n",
    "torch.use_deterministic_algorithms(mode=True)\n",
    "torch.manual_seed(seed=SEED_NUM)\n",
    "torch.mps.manual_seed(seed=SEED_NUM)\n",
    "\n",
    "#(3) Set up device\n",
    "if torch.backends.mps.is_available() :\n",
    "    device = torch.device(device='mps')\n",
    "else :\n",
    "    device = torch.device(device='cpu')\n",
    "print(f'>> Device : {device}')"
   ]
  },
  {
   "cell_type": "markdown",
   "metadata": {},
   "source": [
    "#### 00.2. **사용자정의함수 정의**"
   ]
  },
  {
   "cell_type": "code",
   "execution_count": 3,
   "metadata": {},
   "outputs": [],
   "source": [
    "#(1) Define `show_img()` function\n",
    "def show_img(df:torchvision.datasets, index:int) :\n",
    "    img = df[index][0]\n",
    "    target = df[index][1]\n",
    "    img = img / 2 + 0.5    \n",
    "    img = np.transpose(a=img.numpy(), axes=(1, 2, 0)) # axes 파라미터는 축 순서 변경\n",
    "    plt.imshow(X=img) \n",
    "    plt.xlabel(xlabel=f'Target : {target}({df.classes[target]})')\n",
    "    plt.show()\n",
    "\n",
    "#(2) Define `compute_metrics()` function\n",
    "def compute_metrics(model:torch.nn.Module, loader:torch.utils.data.DataLoader) :\n",
    "    _preds = []\n",
    "    _targets = []\n",
    "    model.eval()\n",
    "    with torch.no_grad() : \n",
    "        for inputs, targets in loader :\n",
    "            preds = model(x=inputs.to(device=device))\n",
    "            preds = torch.argmax(input=preds, dim=1)\n",
    "            _preds.extend(preds.cpu().numpy())\n",
    "            _targets.extend(targets.cpu().numpy())\n",
    "    model.train()\n",
    "    accuracy = sklearn.metrics.accuracy_score(y_true=_targets, y_pred=_preds)\n",
    "    precision = sklearn.metrics.precision_score(y_true=_targets, y_pred=_preds, average='weighted')\n",
    "    recall = sklearn.metrics.recall_score(y_true=_targets, y_pred=_preds, average='weighted')\n",
    "    f1 = sklearn.metrics.f1_score(y_true=_targets, y_pred=_preds, average='weighted')\n",
    "    output = pd.DataFrame(data={\n",
    "        'metricName' : ['accuracy', 'precision', 'recall', 'f1'], \n",
    "        'value'      : [accuracy, precision, recall, f1] \n",
    "    })\n",
    "    return output"
   ]
  },
  {
   "cell_type": "markdown",
   "metadata": {},
   "source": [
    "#### 00.3. **클래스 정의**"
   ]
  },
  {
   "cell_type": "code",
   "execution_count": 4,
   "metadata": {},
   "outputs": [],
   "source": [
    "pass"
   ]
  },
  {
   "cell_type": "markdown",
   "metadata": {},
   "source": [
    "<b></b>"
   ]
  },
  {
   "cell_type": "markdown",
   "metadata": {},
   "source": [
    "## 01. **데이터셋 전처리 및 로드**"
   ]
  },
  {
   "cell_type": "markdown",
   "metadata": {},
   "source": [
    "#### 01.1. **이미지 전처리 파이프라인 정의**"
   ]
  },
  {
   "cell_type": "code",
   "execution_count": 5,
   "metadata": {},
   "outputs": [],
   "source": [
    "img_tf = torchvision.transforms.Compose(\n",
    "    transforms=[\n",
    "        torchvision.transforms.RandomCrop(size=32, padding=4),\n",
    "        torchvision.transforms.ToTensor(),\n",
    "        torchvision.transforms.Normalize(mean=(0.5, 0.5, 0.5), std=(0.5, 0.5, 0.5))\n",
    "    ]\n",
    ")"
   ]
  },
  {
   "cell_type": "markdown",
   "metadata": {},
   "source": [
    "#### 01.2. **데이터셋 로드**"
   ]
  },
  {
   "cell_type": "code",
   "execution_count": 6,
   "metadata": {},
   "outputs": [],
   "source": [
    "cifa_train = torchvision.datasets.CIFAR10(root='../../data', train=True, download=True, transform=img_tf)\n",
    "cifa_test = torchvision.datasets.CIFAR10(root='../../data', train=False, download=True, transform=img_tf)"
   ]
  },
  {
   "cell_type": "markdown",
   "metadata": {},
   "source": [
    "#### 01.3. **데이터로더 변환**"
   ]
  },
  {
   "cell_type": "code",
   "execution_count": 7,
   "metadata": {},
   "outputs": [],
   "source": [
    "cifa_train_loader = torch.utils.data.DataLoader(dataset=cifa_train, batch_size=BATCH_SIZE, shuffle=True)\n",
    "cifa_test_loader = torch.utils.data.DataLoader(dataset=cifa_test, batch_size=BATCH_SIZE, shuffle=True)"
   ]
  },
  {
   "cell_type": "markdown",
   "metadata": {},
   "source": [
    "<b></b>"
   ]
  },
  {
   "cell_type": "markdown",
   "metadata": {},
   "source": [
    "## 02. **모델 구축 및 학습**"
   ]
  },
  {
   "cell_type": "markdown",
   "metadata": {},
   "source": [
    "#### 02.1. **모델 정의**"
   ]
  },
  {
   "cell_type": "code",
   "execution_count": 8,
   "metadata": {},
   "outputs": [
    {
     "data": {
      "text/plain": [
       "==========================================================================================\n",
       "Layer (type:depth-idx)                   Output Shape              Param #\n",
       "==========================================================================================\n",
       "ResNet                                   [32, 10]                  --\n",
       "├─Conv2d: 1-1                            [32, 64, 32, 32]          1,728\n",
       "├─BatchNorm2d: 1-2                       [32, 64, 32, 32]          128\n",
       "├─ReLU: 1-3                              [32, 64, 32, 32]          --\n",
       "├─MaxPool2d: 1-4                         [32, 64, 16, 16]          --\n",
       "├─Sequential: 1-5                        [32, 64, 16, 16]          --\n",
       "│    └─BasicBlock: 2-1                   [32, 64, 16, 16]          --\n",
       "│    │    └─Conv2d: 3-1                  [32, 64, 16, 16]          36,864\n",
       "│    │    └─BatchNorm2d: 3-2             [32, 64, 16, 16]          128\n",
       "│    │    └─ReLU: 3-3                    [32, 64, 16, 16]          --\n",
       "│    │    └─Conv2d: 3-4                  [32, 64, 16, 16]          36,864\n",
       "│    │    └─BatchNorm2d: 3-5             [32, 64, 16, 16]          128\n",
       "│    │    └─ReLU: 3-6                    [32, 64, 16, 16]          --\n",
       "│    └─BasicBlock: 2-2                   [32, 64, 16, 16]          --\n",
       "│    │    └─Conv2d: 3-7                  [32, 64, 16, 16]          36,864\n",
       "│    │    └─BatchNorm2d: 3-8             [32, 64, 16, 16]          128\n",
       "│    │    └─ReLU: 3-9                    [32, 64, 16, 16]          --\n",
       "│    │    └─Conv2d: 3-10                 [32, 64, 16, 16]          36,864\n",
       "│    │    └─BatchNorm2d: 3-11            [32, 64, 16, 16]          128\n",
       "│    │    └─ReLU: 3-12                   [32, 64, 16, 16]          --\n",
       "├─Sequential: 1-6                        [32, 128, 8, 8]           --\n",
       "│    └─BasicBlock: 2-3                   [32, 128, 8, 8]           --\n",
       "│    │    └─Conv2d: 3-13                 [32, 128, 8, 8]           73,728\n",
       "│    │    └─BatchNorm2d: 3-14            [32, 128, 8, 8]           256\n",
       "│    │    └─ReLU: 3-15                   [32, 128, 8, 8]           --\n",
       "│    │    └─Conv2d: 3-16                 [32, 128, 8, 8]           147,456\n",
       "│    │    └─BatchNorm2d: 3-17            [32, 128, 8, 8]           256\n",
       "│    │    └─Sequential: 3-18             [32, 128, 8, 8]           8,448\n",
       "│    │    └─ReLU: 3-19                   [32, 128, 8, 8]           --\n",
       "│    └─BasicBlock: 2-4                   [32, 128, 8, 8]           --\n",
       "│    │    └─Conv2d: 3-20                 [32, 128, 8, 8]           147,456\n",
       "│    │    └─BatchNorm2d: 3-21            [32, 128, 8, 8]           256\n",
       "│    │    └─ReLU: 3-22                   [32, 128, 8, 8]           --\n",
       "│    │    └─Conv2d: 3-23                 [32, 128, 8, 8]           147,456\n",
       "│    │    └─BatchNorm2d: 3-24            [32, 128, 8, 8]           256\n",
       "│    │    └─ReLU: 3-25                   [32, 128, 8, 8]           --\n",
       "├─Sequential: 1-7                        [32, 256, 4, 4]           --\n",
       "│    └─BasicBlock: 2-5                   [32, 256, 4, 4]           --\n",
       "│    │    └─Conv2d: 3-26                 [32, 256, 4, 4]           294,912\n",
       "│    │    └─BatchNorm2d: 3-27            [32, 256, 4, 4]           512\n",
       "│    │    └─ReLU: 3-28                   [32, 256, 4, 4]           --\n",
       "│    │    └─Conv2d: 3-29                 [32, 256, 4, 4]           589,824\n",
       "│    │    └─BatchNorm2d: 3-30            [32, 256, 4, 4]           512\n",
       "│    │    └─Sequential: 3-31             [32, 256, 4, 4]           33,280\n",
       "│    │    └─ReLU: 3-32                   [32, 256, 4, 4]           --\n",
       "│    └─BasicBlock: 2-6                   [32, 256, 4, 4]           --\n",
       "│    │    └─Conv2d: 3-33                 [32, 256, 4, 4]           589,824\n",
       "│    │    └─BatchNorm2d: 3-34            [32, 256, 4, 4]           512\n",
       "│    │    └─ReLU: 3-35                   [32, 256, 4, 4]           --\n",
       "│    │    └─Conv2d: 3-36                 [32, 256, 4, 4]           589,824\n",
       "│    │    └─BatchNorm2d: 3-37            [32, 256, 4, 4]           512\n",
       "│    │    └─ReLU: 3-38                   [32, 256, 4, 4]           --\n",
       "├─Sequential: 1-8                        [32, 512, 2, 2]           --\n",
       "│    └─BasicBlock: 2-7                   [32, 512, 2, 2]           --\n",
       "│    │    └─Conv2d: 3-39                 [32, 512, 2, 2]           1,179,648\n",
       "│    │    └─BatchNorm2d: 3-40            [32, 512, 2, 2]           1,024\n",
       "│    │    └─ReLU: 3-41                   [32, 512, 2, 2]           --\n",
       "│    │    └─Conv2d: 3-42                 [32, 512, 2, 2]           2,359,296\n",
       "│    │    └─BatchNorm2d: 3-43            [32, 512, 2, 2]           1,024\n",
       "│    │    └─Sequential: 3-44             [32, 512, 2, 2]           132,096\n",
       "│    │    └─ReLU: 3-45                   [32, 512, 2, 2]           --\n",
       "│    └─BasicBlock: 2-8                   [32, 512, 2, 2]           --\n",
       "│    │    └─Conv2d: 3-46                 [32, 512, 2, 2]           2,359,296\n",
       "│    │    └─BatchNorm2d: 3-47            [32, 512, 2, 2]           1,024\n",
       "│    │    └─ReLU: 3-48                   [32, 512, 2, 2]           --\n",
       "│    │    └─Conv2d: 3-49                 [32, 512, 2, 2]           2,359,296\n",
       "│    │    └─BatchNorm2d: 3-50            [32, 512, 2, 2]           1,024\n",
       "│    │    └─ReLU: 3-51                   [32, 512, 2, 2]           --\n",
       "├─AdaptiveAvgPool2d: 1-9                 [32, 512, 1, 1]           --\n",
       "├─Linear: 1-10                           [32, 10]                  5,130\n",
       "==========================================================================================\n",
       "Total params: 11,173,962\n",
       "Trainable params: 11,173,962\n",
       "Non-trainable params: 0\n",
       "Total mult-adds (G): 4.49\n",
       "==========================================================================================\n",
       "Input size (MB): 0.39\n",
       "Forward/backward pass size (MB): 103.81\n",
       "Params size (MB): 44.70\n",
       "Estimated Total Size (MB): 148.90\n",
       "=========================================================================================="
      ]
     },
     "execution_count": 8,
     "metadata": {},
     "output_type": "execute_result"
    }
   ],
   "source": [
    "#(2) Define `model`\n",
    "model = torchvision.models.resnet18(weights='DEFAULT')\n",
    "\n",
    "#(2) Customize layer\n",
    "model.conv1 = torch.nn.Conv2d(in_channels=3, out_channels=64, kernel_size=(3, 3), stride=(1, 1), padding=(1, 1), bias=False)\n",
    "model.fc = torch.nn.Linear(in_features=512, out_features=10)\n",
    "\n",
    "#(3) \n",
    "model = model.to(dtype=torch.float32, device=device)\n",
    "\n",
    "#(4) Display `model`\n",
    "torchinfo.summary(\n",
    "    model=model, \n",
    "    input_size=[BATCH_SIZE]+list(cifa_train[0][0].shape),\n",
    "    device=device\n",
    ")"
   ]
  },
  {
   "cell_type": "code",
   "execution_count": 9,
   "metadata": {},
   "outputs": [],
   "source": [
    "#(5) Define loss function\n",
    "criterion = torch.nn.CrossEntropyLoss()\n",
    "\n",
    "#(6) Define optimizer(optimization method)\n",
    "optimizer = torch.optim.Adam(params=model.parameters(), lr=1e-3, weight_decay=1e-7)\n",
    "\n",
    "#(7) Define Scheduler\n",
    "# scheduler = torch.optim.lr_scheduler.StepLR(optimizer=optimizer, step_size=30, gamma=0.1)"
   ]
  },
  {
   "cell_type": "markdown",
   "metadata": {},
   "source": [
    "#### **(`PLUS`)** 모델 동결(Model Freezing)하기 : `param.requires_grade=False`"
   ]
  },
  {
   "cell_type": "code",
   "execution_count": 10,
   "metadata": {},
   "outputs": [],
   "source": [
    "#(1)\n",
    "# for param in model.parameters() :\n",
    "#     param.requires_grad = False\n",
    "\n",
    "#(2)\n",
    "# for param in model.conv1.parameters():\n",
    "#     param.requires_grad = True\n",
    "# for param in model.fc.parameters():\n",
    "#     param.requires_grad = True"
   ]
  },
  {
   "cell_type": "markdown",
   "metadata": {},
   "source": [
    "#### 02.2. **모델 체크포인트 로드**"
   ]
  },
  {
   "cell_type": "code",
   "execution_count": 11,
   "metadata": {},
   "outputs": [
    {
     "name": "stdout",
     "output_type": "stream",
     "text": [
      ">> Epoch=0, Train Loss=inf\n"
     ]
    }
   ],
   "source": [
    "if USE_PRETRAIN_YN == 'Y' :\n",
    "    checkpoint = torch.load(f=MODEL_PTH)\n",
    "    model.load_state_dict(state_dict=checkpoint['model'])\n",
    "    optimizer.load_state_dict(state_dict=checkpoint['optimizer'])\n",
    "    epoch = checkpoint['epoch']\n",
    "    loss_hist = checkpoint['loss_hist']\n",
    "    best_loss = loss_hist[-1]\n",
    "else :\n",
    "    epoch = 0\n",
    "    loss_hist = []\n",
    "    best_loss = float('inf')\n",
    "print(f\">> Epoch={epoch}, Train Loss={best_loss}\")"
   ]
  },
  {
   "cell_type": "markdown",
   "metadata": {},
   "source": [
    "#### 02.3. **모델 학습**"
   ]
  },
  {
   "cell_type": "code",
   "execution_count": null,
   "metadata": {},
   "outputs": [
    {
     "name": "stderr",
     "output_type": "stream",
     "text": [
      " 22%|██▏       | 22/100 [36:03<2:05:24, 96.47s/it, epoch=22, last_loss=0.138, best_loss=0.138]"
     ]
    }
   ],
   "source": [
    "batch_len = len(cifa_train_loader)\n",
    "progress_bar = tqdm.trange(epoch, EPOCH_NUM)\n",
    "for epoch in progress_bar : \n",
    "    last_loss = 0.0\n",
    "    model.train()\n",
    "    for inputs, targets in cifa_train_loader :\n",
    "        optimizer.zero_grad() \n",
    "        preds = model(x=inputs.to(device=device))\n",
    "        loss = criterion(input=preds, target=targets.to(device=device))\n",
    "        loss.backward()\n",
    "        optimizer.step()\n",
    "        last_loss += loss.item()\n",
    "    last_loss_avg = last_loss / batch_len\n",
    "    loss_hist.append(last_loss_avg)\n",
    "    if last_loss_avg < best_loss :\n",
    "        best_epoch = epoch\n",
    "        best_loss = last_loss_avg\n",
    "        torch.save(\n",
    "            obj={\n",
    "                'epoch'     : epoch,\n",
    "                'loss_hist' : loss_hist,\n",
    "                'model'     : model.state_dict(),\n",
    "                'optimizer' : optimizer.state_dict()\n",
    "            }, \n",
    "            f=MODEL_PTH\n",
    "        )\n",
    "    # scheduler.step()\n",
    "    progress_bar.set_postfix(ordered_dict={'last_epoch':epoch+1, 'last_loss':last_loss_avg, 'best_epoch':best_epoch, 'best_loss':best_loss}) "
   ]
  },
  {
   "cell_type": "markdown",
   "metadata": {},
   "source": [
    "<b></b>"
   ]
  },
  {
   "cell_type": "markdown",
   "metadata": {},
   "source": [
    "## 03. **모델 평가**"
   ]
  },
  {
   "cell_type": "markdown",
   "metadata": {},
   "source": [
    "#### 03.1. **최적 성능 모델 로드**"
   ]
  },
  {
   "cell_type": "code",
   "execution_count": null,
   "metadata": {},
   "outputs": [],
   "source": [
    "checkpoint = torch.load(f=MODEL_PTH)\n",
    "model.load_state_dict(state_dict=checkpoint['model'])\n",
    "print(f'>> Best Epoch : {checkpoint[\"epoch\"]}, Best Loss : {checkpoint[\"loss_hist\"][-1]}')"
   ]
  },
  {
   "cell_type": "markdown",
   "metadata": {},
   "source": [
    "#### 03.2. **학습 손실(Traing Loss) 확인**"
   ]
  },
  {
   "cell_type": "code",
   "execution_count": null,
   "metadata": {},
   "outputs": [],
   "source": [
    "#(1) Check metrics\n",
    "compute_metrics(model=model, loader=cifa_train_loader)"
   ]
  },
  {
   "cell_type": "code",
   "execution_count": null,
   "metadata": {},
   "outputs": [],
   "source": [
    "#(2) Plot traing loss\n",
    "plt.figure(figsize=(12, 6))\n",
    "plt.title(label='Training Loss')\n",
    "plt.xlabel(xlabel='epoch')\n",
    "plt.ylabel(ylabel='loss')\n",
    "plt.plot(loss_hist)\n",
    "plt.show()"
   ]
  },
  {
   "cell_type": "markdown",
   "metadata": {},
   "source": [
    "#### 03.3. **성능 평가**"
   ]
  },
  {
   "cell_type": "code",
   "execution_count": null,
   "metadata": {},
   "outputs": [],
   "source": [
    "compute_metrics(model=model, loader=cifa_test_loader)"
   ]
  }
 ],
 "metadata": {
  "kernelspec": {
   "display_name": "PYTCH",
   "language": "python",
   "name": "python3"
  },
  "language_info": {
   "codemirror_mode": {
    "name": "ipython",
    "version": 3
   },
   "file_extension": ".py",
   "mimetype": "text/x-python",
   "name": "python",
   "nbconvert_exporter": "python",
   "pygments_lexer": "ipython3",
   "version": "3.10.16"
  }
 },
 "nbformat": 4,
 "nbformat_minor": 2
}
