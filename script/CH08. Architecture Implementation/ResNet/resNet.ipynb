{
 "cells": [
  {
   "cell_type": "markdown",
   "metadata": {},
   "source": [
    "# **ResNet(Residual Network)**"
   ]
  },
  {
   "cell_type": "markdown",
   "metadata": {},
   "source": [
    "## 01. **Train**"
   ]
  },
  {
   "cell_type": "code",
   "execution_count": 1,
   "metadata": {},
   "outputs": [
    {
     "name": "stdout",
     "output_type": "stream",
     "text": [
      ">> Set seed number successfully.\n",
      ">> Loaded datasets successfully.\n",
      ">> Checkpoint Path is \"checkpoint/resnet18Best.pt\".\n",
      ">> Loaded pretrained model successfully.\n",
      "  - Best(Last) Epoch=174, Best Train Loss=0.03294934186598529, Best Validation Loss=0.3793724954128265.\n",
      ">> Training start.\n",
      "100%|█| 76/76 [41:07<00:00, 32.47s/it, last_train_cost=0.0345, last_val_cost=0.4\n",
      ">> Training End.\n"
     ]
    }
   ],
   "source": [
    "!python main.py --model_nm resnet18 --mode train --use_cp_tf True --batch_size 512 --epoch_num 250"
   ]
  },
  {
   "cell_type": "markdown",
   "metadata": {},
   "source": [
    "## 02. **Evaluate**"
   ]
  },
  {
   "cell_type": "code",
   "execution_count": 2,
   "metadata": {},
   "outputs": [
    {
     "name": "stdout",
     "output_type": "stream",
     "text": [
      ">> Set seed number successfully.\n",
      ">> Loaded datasets successfully.\n",
      ">> Checkpoint Path is \"checkpoint/resnet18Best.pt\".\n",
      ">> Loaded pretrained model successfully.\n",
      "  - Best(Last) Epoch=174, Best Train Loss=0.03294934186598529, Best Validation Loss=0.3793724954128265.\n",
      ">> Loaded datasets successfully.\n",
      ">> Training Metrics : {'accuracy': 0.9636, 'precision': 0.9638523837315306, 'recall': 0.9636, 'f1': 0.9636269969511666}.\n",
      ">> Testing Metrics : {'accuracy': 0.9052, 'precision': 0.9057378519779546, 'recall': 0.9052, 'f1': 0.9050879958315363}.\n"
     ]
    }
   ],
   "source": [
    "!python main.py --model_nm resnet18 --mode eval --use_cp_tf True"
   ]
  }
 ],
 "metadata": {
  "kernelspec": {
   "display_name": "PYTCH",
   "language": "python",
   "name": "python3"
  },
  "language_info": {
   "codemirror_mode": {
    "name": "ipython",
    "version": 3
   },
   "file_extension": ".py",
   "mimetype": "text/x-python",
   "name": "python",
   "nbconvert_exporter": "python",
   "pygments_lexer": "ipython3",
   "version": "3.12.11"
  }
 },
 "nbformat": 4,
 "nbformat_minor": 2
}
