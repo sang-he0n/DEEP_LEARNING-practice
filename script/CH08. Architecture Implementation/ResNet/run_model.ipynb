{
 "cells": [
  {
   "cell_type": "markdown",
   "metadata": {},
   "source": [
    "# **ResNet(Residual Network)**"
   ]
  },
  {
   "cell_type": "markdown",
   "metadata": {},
   "source": [
    "## 01. **Train Models**"
   ]
  },
  {
   "cell_type": "code",
   "execution_count": 1,
   "metadata": {},
   "outputs": [
    {
     "name": "stdout",
     "output_type": "stream",
     "text": [
      ">> Loaded pretrained model successfully.\n",
      "  - Best(Last) Epoch=85, Best Train Loss=0.05776062472790912, Best Validation Loss=0.3837982436021169.\n",
      ">> Loaded datasets successfully.\n",
      ">> Training start.\n",
      "100%|#| 415/415 [3:32:02<00:00, 30.66s/it, last_train_cost=0.0282, last_val_cost\n",
      ">> Training End.\n"
     ]
    }
   ],
   "source": [
    "!python main.py --model_nm resnet18 --mode train --use_cp_yn Y --batch_size 512 --epoch_num 500 "
   ]
  },
  {
   "cell_type": "markdown",
   "metadata": {},
   "source": [
    "## 02. **Evaluate Models**"
   ]
  },
  {
   "cell_type": "code",
   "execution_count": 2,
   "metadata": {},
   "outputs": [
    {
     "name": "stdout",
     "output_type": "stream",
     "text": [
      ">> Loaded pretrained model successfully.\n",
      "  - Best(Last) Epoch=222, Best Train Loss=0.03819389140530341, Best Validation Loss=0.3613968441883723.\n",
      ">> Loaded datasets successfully.\n",
      ">> Training Metrics : {'accuracy': 0.96746, 'precision': 0.9674516825753181, 'recall': 0.96746, 'f1': 0.9674329382618232}.\n",
      ">> Testing Metrics : {'accuracy': 0.904, 'precision': 0.9037896417964711, 'recall': 0.904, 'f1': 0.9036708804197086}\n"
     ]
    }
   ],
   "source": [
    "!python main.py --model_nm resnet18 --mode eval --use_cp_yn Y"
   ]
  }
 ],
 "metadata": {
  "kernelspec": {
   "display_name": "PYTCH",
   "language": "python",
   "name": "python3"
  },
  "language_info": {
   "codemirror_mode": {
    "name": "ipython",
    "version": 3
   },
   "file_extension": ".py",
   "mimetype": "text/x-python",
   "name": "python",
   "nbconvert_exporter": "python",
   "pygments_lexer": "ipython3",
   "version": "3.10.16"
  }
 },
 "nbformat": 4,
 "nbformat_minor": 2
}
