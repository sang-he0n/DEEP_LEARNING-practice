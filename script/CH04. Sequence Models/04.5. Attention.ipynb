{
 "cells": [
  {
   "cell_type": "markdown",
   "metadata": {},
   "source": [
    "# CH04.5. **Attention**"
   ]
  },
  {
   "cell_type": "markdown",
   "metadata": {},
   "source": [
    "#### [][][][][]"
   ]
  },
  {
   "cell_type": "markdown",
   "metadata": {},
   "source": [
    "## 00. **작업 환경 설정**"
   ]
  },
  {
   "cell_type": "markdown",
   "metadata": {},
   "source": [
    "#### 00.0. **사전 변수 설정**"
   ]
  },
  {
   "cell_type": "code",
   "execution_count": null,
   "metadata": {},
   "outputs": [],
   "source": [
    "SEED_NUM = 2025\n",
    "BATCH_SIZE = 32\n",
    "EPOCH_NUM = 100\n",
    "USE_PRETRAIN_YN = 'N'\n",
    "MODEL_PTH = '../../model/mnistBiSeq.pt'"
   ]
  },
  {
   "cell_type": "markdown",
   "metadata": {},
   "source": [
    "#### 00.1. **라이브러리 호출 및 옵션 설정**"
   ]
  },
  {
   "cell_type": "code",
   "execution_count": null,
   "metadata": {},
   "outputs": [],
   "source": [
    "#(1) Import libraries\n",
    "import os\n",
    "import random\n",
    "import tqdm\n",
    "import collections\n",
    "import numpy as np\n",
    "import pandas as pd\n",
    "import matplotlib.pyplot as plt \n",
    "import sklearn\n",
    "import torch\n",
    "# import torchtext\n",
    "import torchinfo\n",
    "\n",
    "#(2) Set options\n",
    "os.environ['PYTHONHASHSEED'] = str(SEED_NUM)\n",
    "random.seed(a=SEED_NUM)\n",
    "np.random.seed(seed=SEED_NUM)\n",
    "torch.use_deterministic_algorithms(mode=True)\n",
    "torch.manual_seed(seed=SEED_NUM)\n",
    "torch.mps.manual_seed(seed=SEED_NUM)\n",
    "\n",
    "#(3) Define device(hardware)\n",
    "if torch.backends.mps.is_available() :\n",
    "    device = torch.device(device='mps')\n",
    "else :\n",
    "    device = torch.device(device='cpu')\n",
    "print(f'>> Device : {device}')"
   ]
  },
  {
   "cell_type": "markdown",
   "metadata": {},
   "source": [
    "#### 00.2. **사용자정의함수 정의**"
   ]
  },
  {
   "cell_type": "code",
   "execution_count": null,
   "metadata": {},
   "outputs": [],
   "source": [
    "#(1) Define `compute_metrics()` function\n",
    "def compute_metrics(model:torch.torch.nnModule, loader:torch.utils.data.DataLoader) :\n",
    "    _preds = []\n",
    "    _targets = []\n",
    "    model.eval()\n",
    "    with torch.no_grad() : \n",
    "        for inputs, targets in loader :\n",
    "            inputs = inputs.to(device=device) \n",
    "            targets = targets.to(device=device)\n",
    "            preds = model(x=inputs)\n",
    "            preds = torch.argmax(input=preds, dim=1)\n",
    "            _preds.extend(preds.cpu().numpy())\n",
    "            _targets.extend(targets.cpu().numpy())\n",
    "    model.train()\n",
    "    accuracy = sklearn.metrics.accuracy_score(y_true=_targets, y_pred=_preds)\n",
    "    precision = sklearn.metrics.precision_score(y_true=_targets, y_pred=_preds, average='weighted')\n",
    "    recall = sklearn.metrics.recall_score(y_true=_targets, y_pred=_preds, average='weighted')\n",
    "    f1 = sklearn.metrics.f1_score(y_true=_targets, y_pred=_preds, average='weighted')\n",
    "    output = pd.DataFrame(data={\n",
    "        'metricName' : ['accuracy', 'precision', 'recall', 'f1'], \n",
    "        'value'      : [accuracy, precision, recall, f1] \n",
    "    })\n",
    "    return output"
   ]
  },
  {
   "cell_type": "markdown",
   "metadata": {},
   "source": [
    "#### 00.3. **클래스 정의**"
   ]
  },
  {
   "cell_type": "code",
   "execution_count": null,
   "metadata": {},
   "outputs": [],
   "source": [
    "# ---------------------------\n",
    "# Encoder Module\n",
    "# ---------------------------\n",
    "class Encoder(torch.nnModule):\n",
    "    def __init__(self, input_dim, emb_dim, hid_dim, n_layers, dropout):\n",
    "        super().__init__()\n",
    "        self.embedding = torch.nnEmbedding(input_dim, emb_dim)\n",
    "        # 양방향 GRU: hidden dim이 2배가 됨에 주의\n",
    "        self.rnn = torch.nnGRU(emb_dim, hid_dim, n_layers, dropout=dropout, bidirectional=True)\n",
    "        self.dropout = torch.nnDropout(dropout)\n",
    "        self.hid_dim = hid_dim\n",
    "\n",
    "    def forward(self, src):\n",
    "        # src: [src_len, batch_size]\n",
    "        embedded = self.dropout(self.embedding(src))\n",
    "        # embedded: [src_len, batch_size, emb_dim]\n",
    "        outputs, hidden = self.rnn(embedded)\n",
    "        # outputs: [src_len, batch_size, hid_dim * 2]\n",
    "        # hidden: [n_layers * 2, batch_size, hid_dim]\n",
    "        return outputs, hidden\n",
    "\n",
    "# ---------------------------\n",
    "# Attention Module\n",
    "# ---------------------------\n",
    "class Attention(torch.nnModule):\n",
    "    def __init__(self, hid_dim):\n",
    "        super().__init__()\n",
    "        # 입력: [batch, src_len, hid_dim + hid_dim] → 중간 차원 hid_dim\n",
    "        self.attn = torch.nnLinear(hid_dim + hid_dim * 2, hid_dim)\n",
    "        self.v = torch.nnLinear(hid_dim, 1, bias=False)\n",
    "\n",
    "    def forward(self, hidden, encoder_outputs):\n",
    "        # hidden: [batch_size, hid_dim] (디코더의 마지막 층 상태)\n",
    "        # encoder_outputs: [src_len, batch_size, hid_dim*2]\n",
    "        src_len = encoder_outputs.shape[0]\n",
    "        # 디코더 상태를 모든 인코더 시퀀스 길이만큼 반복\n",
    "        hidden = hidden.unsqueeze(1).repeat(1, src_len, 1)  # [batch_size, src_len, hid_dim]\n",
    "        encoder_outputs = encoder_outputs.permute(1, 0, 2)   # [batch_size, src_len, hid_dim*2]\n",
    "        energy = torch.tanh(self.attn(torch.cat((hidden, encoder_outputs), dim=2)))  # [batch_size, src_len, hid_dim]\n",
    "        attention = self.v(energy).squeeze(2)  # [batch_size, src_len]\n",
    "        return torch.softmax(attention, dim=1)\n",
    "\n",
    "# ---------------------------\n",
    "# Decoder Module\n",
    "# ---------------------------\n",
    "class Decoder(torch.nnModule):\n",
    "    def __init__(self, output_dim, emb_dim, hid_dim, n_layers, dropout, attention):\n",
    "        super().__init__()\n",
    "        self.output_dim = output_dim\n",
    "        self.attention = attention\n",
    "        self.embedding = torch.nnEmbedding(output_dim, emb_dim)\n",
    "        # 입력은 [emb_dim + hid_dim*2] (어텐션으로 가중합된 인코더 출력 포함)\n",
    "        self.rnn = torch.nnGRU((hid_dim * 2) + emb_dim, hid_dim, n_layers, dropout=dropout)\n",
    "        self.fc_out = torch.nnLinear((hid_dim * 2) + hid_dim + emb_dim, output_dim)\n",
    "        self.dropout = torch.nnDropout(dropout)\n",
    "\n",
    "    def forward(self, input, hidden, encoder_outputs):\n",
    "        # input: [batch_size] (현재 입력 토큰)\n",
    "        # hidden: [n_layers, batch_size, hid_dim]\n",
    "        # encoder_outputs: [src_len, batch_size, hid_dim*2]\n",
    "        input = input.unsqueeze(0)  # [1, batch_size]\n",
    "        embedded = self.dropout(self.embedding(input))  # [1, batch_size, emb_dim]\n",
    "        # 어텐션 가중치 계산 (디코더의 마지막 층 상태 사용)\n",
    "        a = self.attention(hidden[-1], encoder_outputs)  # [batch_size, src_len]\n",
    "        a = a.unsqueeze(1)  # [batch_size, 1, src_len]\n",
    "        encoder_outputs = encoder_outputs.permute(1, 0, 2)  # [batch_size, src_len, hid_dim*2]\n",
    "        weighted = torch.bmm(a, encoder_outputs)  # [batch_size, 1, hid_dim*2]\n",
    "        weighted = weighted.permute(1, 0, 2)  # [1, batch_size, hid_dim*2]\n",
    "        rnn_input = torch.cat((embedded, weighted), dim=2)  # [1, batch_si]\n",
    "\n",
    "class MyTranslationModel(torch.nnModule) : \n",
    "    pass"
   ]
  },
  {
   "cell_type": "code",
   "execution_count": null,
   "metadata": {},
   "outputs": [],
   "source": [
    "import torchtext\n",
    "from torchtext.data import Field, BucketIterator\n",
    "import spacy\n",
    "import numpy as np\n",
    "\n",
    "SEED = 1234\n",
    "random.seed(SEED)\n",
    "np.random.seed(SEED)\n",
    "torch.manual_seed(SEED)\n",
    "\n",
    "device = torch.device('cuda' if torch.cuda.is_available() else 'cpu')\n",
    "\n",
    "# spacy 모델 로드 (미리 설치 필요)\n",
    "spacy_de = spacy.load('de_core_news_sm')\n",
    "spacy_en = spacy.load('en_core_web_sm')\n",
    "\n",
    "def tokenize_de(text):\n",
    "    return [tok.text for tok in spacy_de.tokenizer(text)]\n",
    "\n",
    "def tokenize_en(text):\n",
    "    return [tok.text for tok in spacy_en.tokenizer(text)]\n",
    "\n",
    "SRC = Field(tokenize=tokenize_de, init_token='<sos>', eos_token='<eos>', lower=True)\n",
    "TRG = Field(tokenize=tokenize_en, init_token='<sos>', eos_token='<eos>', lower=True)\n",
    "\n",
    "# IWSLT2016 데이터셋 다운로드 및 분할 (영어-독일어)\n",
    "train_data, valid_data, test_data = torchtext.datasets.IWSLT2016.splits(\n",
    "    exts=('.de', '.en'),\n",
    "    fields=(SRC, TRG)\n",
    ")\n",
    "\n",
    "SRC.build_vocab(train_data, min_freq=2)\n",
    "TRG.build_vocab(train_data, min_freq=2)\n",
    "\n",
    "BATCH_SIZE = 128\n",
    "\n",
    "train_iterator, valid_iterator, test_iterator = BucketIterator.splits(\n",
    "    (train_data, valid_data, test_data),\n",
    "    batch_size=BATCH_SIZE,\n",
    "    device=device\n",
    ")\n",
    "\n",
    "INPUT_DIM = len(SRC.vocab)\n",
    "OUTPUT_DIM = len(TRG.vocab)\n",
    "ENC_EMB_DIM = 256\n",
    "DEC_EMB_DIM = 256\n",
    "HID_DIM = 512\n",
    "N_LAYERS = 1\n",
    "ENC_DROPOUT = 0.5\n",
    "DEC_DROPOUT = 0.5\n",
    "\n",
    "attn = Attention(HID_DIM)\n",
    "encoder = Encoder(INPUT_DIM, ENC_EMB_DIM, HID_DIM, N_LAYERS, ENC_DROPOUT)\n",
    "decoder = Decoder(OUTPUT_DIM, DEC_EMB_DIM, HID_DIM, N_LAYERS, DEC_DROPOUT, attn)\n",
    "\n",
    "model = Seq2Seq(encoder, decoder, device).to(device)\n",
    "\n",
    "optimizer = optim.Adam(model.parameters())\n",
    "criterion = torch.nnCrossEntropyLoss(ignore_index=TRG.vocab.stoi[TRG.pad_token])\n",
    "\n",
    "def train(model, iterator, optimizer, criterion, clip):\n",
    "    model.train()\n",
    "    epoch_loss = 0\n",
    "    for batch in iterator:\n",
    "        src = batch.src\n",
    "        trg = batch.trg\n",
    "        optimizer.zero_grad()\n",
    "        output = model(src, trg)\n",
    "        # output: [trg_len, batch_size, output_dim]\n",
    "        output_dim = output.shape[-1]\n",
    "        output = output[1:].view(-1, output_dim)\n",
    "        trg = trg[1:].view(-1)\n",
    "        loss = criterion(output, trg)\n",
    "        loss.backward()\n",
    "        torch.torch.nnutils.clip_grad_norm_(model.parameters(), clip)\n",
    "        optimizer.step()\n",
    "        epoch_loss += loss.item()\n",
    "    return epoch_loss / len(iterator)\n",
    "\n",
    "N_EPOCHS = 10\n",
    "CLIP = 1\n",
    "\n",
    "for epoch in range(N_EPOCHS):\n",
    "    train_loss = train(model, train_iterator, optimizer, criterion, CLIP)\n",
    "    print(f'Epoch: {epoch+1:02} | Train Loss: {train_loss:.3f}')"
   ]
  },
  {
   "cell_type": "markdown",
   "metadata": {},
   "source": [
    "<b></b>"
   ]
  },
  {
   "cell_type": "markdown",
   "metadata": {},
   "source": [
    "## 01. **데이터셋 전처리 및 로드**"
   ]
  },
  {
   "cell_type": "markdown",
   "metadata": {},
   "source": [
    "#### 01.1. **이미지 전처리 파이프라인 정의**"
   ]
  },
  {
   "cell_type": "code",
   "execution_count": null,
   "metadata": {},
   "outputs": [],
   "source": [
    "img_tf = torchvision.transforms.Compose(\n",
    "    transforms=[\n",
    "        torchvision.transforms.ToTensor(),\n",
    "        torchvision.transforms.Lambda(lambda x: x.squeeze(0))\n",
    "    ]\n",
    ")"
   ]
  },
  {
   "cell_type": "markdown",
   "metadata": {},
   "source": [
    "#### 01.2. **데이터셋 로드**"
   ]
  },
  {
   "cell_type": "code",
   "execution_count": null,
   "metadata": {},
   "outputs": [],
   "source": [
    "mnist_train = torchvision.datasets.MNIST(root='../../data', train=True, download=True, transform=img_tf)\n",
    "mnist_test = torchvision.datasets.MNIST(root='../../data', train=False, download=True, transform=img_tf)"
   ]
  },
  {
   "cell_type": "markdown",
   "metadata": {},
   "source": [
    "#### 01.3. **EDA**"
   ]
  },
  {
   "cell_type": "code",
   "execution_count": null,
   "metadata": {},
   "outputs": [],
   "source": [
    "#(1) Print sample of train\n",
    "len(mnist_train)"
   ]
  },
  {
   "cell_type": "code",
   "execution_count": null,
   "metadata": {},
   "outputs": [],
   "source": [
    "#(2) Print image shape \n",
    "mnist_train[0][0].shape"
   ]
  },
  {
   "cell_type": "code",
   "execution_count": null,
   "metadata": {},
   "outputs": [],
   "source": [
    "#(3) Print frequency of target class\n",
    "target_freq = collections.Counter()\n",
    "for i in range(len(mnist_train)):\n",
    "    input, target = mnist_train[i]\n",
    "    if isinstance(target, torch.Tensor) :\n",
    "        target = target.item()\n",
    "    target_freq[target] += 1\n",
    "pd.DataFrame(data=list(target_freq.items()), columns=['class', 'count']).sort_values(by='class')"
   ]
  },
  {
   "cell_type": "code",
   "execution_count": null,
   "metadata": {},
   "outputs": [],
   "source": [
    "#(4) Display image\n",
    "show_img(df=mnist_train, index=5)"
   ]
  },
  {
   "cell_type": "markdown",
   "metadata": {},
   "source": [
    "#### 01.4. **데이터로더 변환**"
   ]
  },
  {
   "cell_type": "code",
   "execution_count": null,
   "metadata": {},
   "outputs": [],
   "source": [
    "mnist_train_loader = torch.utils.data.DataLoader(dataset=mnist_train, batch_size=BATCH_SIZE, shuffle=True)\n",
    "mnist_test_loader = torch.utils.data.DataLoader(dataset=mnist_test, batch_size=BATCH_SIZE, shuffle=True)"
   ]
  },
  {
   "cell_type": "markdown",
   "metadata": {},
   "source": [
    "<b></b>"
   ]
  },
  {
   "cell_type": "markdown",
   "metadata": {},
   "source": [
    "## 02. **모델 구축 및 학습**"
   ]
  },
  {
   "cell_type": "markdown",
   "metadata": {},
   "source": [
    "#### 02.1. **모델 정의**"
   ]
  },
  {
   "cell_type": "code",
   "execution_count": null,
   "metadata": {},
   "outputs": [],
   "source": [
    "#(1) Define hyper-parameter\n",
    "seq_len = mnist_train[0][0].shape[0]\n",
    "input_size = mnist_train[0][0].shape[1]\n",
    "layers_num = 2\n",
    "hidden_size = 12\n",
    "class_num = 10"
   ]
  },
  {
   "cell_type": "code",
   "execution_count": null,
   "metadata": {},
   "outputs": [],
   "source": [
    "#(2) Define `model`\n",
    "model = MyTranslationModel(\n",
    "    input_size=input_size, \n",
    "    hidden_size=hidden_size, \n",
    "    seq_len=seq_len, \n",
    "    layers_num=layers_num,\n",
    "    class_num=class_num,\n",
    "    device=device\n",
    ").to(dtype=torch.float32)\n",
    "\n",
    "#(3) Display `model`\n",
    "torchinfo.summary(\n",
    "    model=model, \n",
    "    input_size=[BATCH_SIZE]+list(mnist_train[0][0].shape),\n",
    "    device=device\n",
    ")"
   ]
  },
  {
   "cell_type": "code",
   "execution_count": null,
   "metadata": {},
   "outputs": [],
   "source": [
    "#(4) Define loss function\n",
    "criterion = torch.torch.nnCrossEntropyLoss()\n",
    "\n",
    "#(5) Define optimizer(optimization method)\n",
    "optimizer = torch.optim.Adam(params=model.parameters(), lr=1e-3, weight_decay=1e-7)\n",
    "\n",
    "#(6) Define Scheduler\n",
    "# scheduler = torch.optim.lr_scheduler.StepLR(optimizer=optimizer, step_size=30, gamma=0.1)"
   ]
  },
  {
   "cell_type": "markdown",
   "metadata": {},
   "source": [
    "#### 02.2. **학습 전 변수 정의**"
   ]
  },
  {
   "cell_type": "code",
   "execution_count": null,
   "metadata": {},
   "outputs": [],
   "source": [
    "batch_len = len(mnist_train_loader)\n",
    "if USE_PRETRAIN_YN == 'Y' :\n",
    "    checkpoint = torch.load(f=MODEL_PTH)\n",
    "    model.load_state_dict(state_dict=checkpoint['model'])\n",
    "    optimizer.load_state_dict(state_dict=checkpoint['optimizer'])\n",
    "    epoch = checkpoint['epoch']\n",
    "    loss_hist = checkpoint['loss_hist']\n",
    "    best_loss = loss_hist[-1]\n",
    "else :\n",
    "    epoch = 0\n",
    "    loss_hist = []\n",
    "    best_loss = float('inf')\n",
    "print(f\">> Epoch={epoch}, Train Loss={best_loss}\")"
   ]
  },
  {
   "cell_type": "markdown",
   "metadata": {},
   "source": [
    "#### 02.3. **모델 학습**"
   ]
  },
  {
   "cell_type": "code",
   "execution_count": null,
   "metadata": {},
   "outputs": [],
   "source": [
    "progress_bar = tqdm.trange(epoch, EPOCH_NUM)\n",
    "for epoch in progress_bar : \n",
    "    last_loss = 0.0\n",
    "    model.train()\n",
    "    for inputs, targets in mnist_train_loader :\n",
    "        optimizer.zero_grad() \n",
    "        preds = model(x=inputs)\n",
    "        loss = criterion(input=preds, target=targets.to(device=device))\n",
    "        loss.backward()\n",
    "        optimizer.step()\n",
    "        last_loss += loss.item()\n",
    "    last_loss_avg = last_loss / batch_len\n",
    "    loss_hist.append(last_loss_avg)\n",
    "    if last_loss_avg < best_loss :\n",
    "        best_epoch = epoch\n",
    "        best_loss = last_loss_avg\n",
    "        torch.save(\n",
    "            obj={\n",
    "                'epoch'     : epoch,\n",
    "                'loss_hist' : loss_hist,\n",
    "                'model'     : model.state_dict(),\n",
    "                'optimizer' : optimizer.state_dict()\n",
    "            }, \n",
    "            f=MODEL_PTH\n",
    "        )\n",
    "    # scheduler.step()\n",
    "    progress_bar.set_postfix(ordered_dict={'last_epoch':epoch+1, 'last_loss':last_loss_avg, 'best_epoch':best_epoch, 'best_loss':best_loss}) "
   ]
  },
  {
   "cell_type": "markdown",
   "metadata": {},
   "source": [
    "<b></b>"
   ]
  },
  {
   "cell_type": "markdown",
   "metadata": {},
   "source": [
    "## 03. **모델 평가**"
   ]
  },
  {
   "cell_type": "markdown",
   "metadata": {},
   "source": [
    "#### 03.1. **최적 성능 모델 로드**"
   ]
  },
  {
   "cell_type": "code",
   "execution_count": null,
   "metadata": {},
   "outputs": [],
   "source": [
    "checkpoint = torch.load(f=MODEL_PTH)\n",
    "model.load_state_dict(state_dict=checkpoint['model'])\n",
    "print(f'>> Best Epoch : {checkpoint[\"epoch\"]}, Best Loss : {checkpoint[\"loss_hist\"][-1]}')"
   ]
  },
  {
   "cell_type": "markdown",
   "metadata": {},
   "source": [
    "#### 03.2. **과소 적합 확인**"
   ]
  },
  {
   "cell_type": "code",
   "execution_count": null,
   "metadata": {},
   "outputs": [],
   "source": [
    "#(1) Plot traing loss\n",
    "plt.figure(figsize=(12, 6))\n",
    "plt.title(label='Training Loss')\n",
    "plt.xlabel(xlabel='epoch')\n",
    "plt.ylabel(ylabel='loss')\n",
    "plt.plot(loss_hist)\n",
    "plt.show()"
   ]
  },
  {
   "cell_type": "code",
   "execution_count": null,
   "metadata": {},
   "outputs": [],
   "source": [
    "#(2) Check metrics\n",
    "compute_metrics(model=model, loader=mnist_train_loader)"
   ]
  },
  {
   "cell_type": "markdown",
   "metadata": {},
   "source": [
    "#### 03.3. **일반화 성능 평가**"
   ]
  },
  {
   "cell_type": "code",
   "execution_count": null,
   "metadata": {},
   "outputs": [],
   "source": [
    "compute_metrics(model=model, loader=mnist_test_loader)"
   ]
  }
 ],
 "metadata": {
  "kernelspec": {
   "display_name": "PYTCH",
   "language": "python",
   "name": "python3"
  },
  "language_info": {
   "codemirror_mode": {
    "name": "ipython",
    "version": 3
   },
   "file_extension": ".py",
   "mimetype": "text/x-python",
   "name": "python",
   "nbconvert_exporter": "python",
   "pygments_lexer": "ipython3",
   "version": "3.10.16"
  }
 },
 "nbformat": 4,
 "nbformat_minor": 2
}
