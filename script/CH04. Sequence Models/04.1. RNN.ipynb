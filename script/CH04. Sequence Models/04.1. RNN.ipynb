{
 "cells": [
  {
   "cell_type": "markdown",
   "metadata": {},
   "source": [
    "# CH02.3. **Recurrent Neural Network**"
   ]
  },
  {
   "cell_type": "markdown",
   "metadata": {},
   "source": [
    "## 00. **작업 환경 설정**"
   ]
  },
  {
   "cell_type": "markdown",
   "metadata": {},
   "source": [
    "#### 00.0. **사전 변수 설정**"
   ]
  },
  {
   "cell_type": "code",
   "execution_count": 1,
   "metadata": {},
   "outputs": [],
   "source": [
    "SEED_NUM = 2025\n",
    "BATCH_SIZE = 32\n",
    "EPOCH_NUM = 1000\n",
    "USE_PRETRAIN_YN = 'N'\n",
    "MODEL_PTH = '../../model/kospiSeqRNN.pt'"
   ]
  },
  {
   "cell_type": "markdown",
   "metadata": {},
   "source": [
    "#### 00.1. **라이브러리 호출 및 옵션 설정**"
   ]
  },
  {
   "cell_type": "code",
   "execution_count": 2,
   "metadata": {},
   "outputs": [
    {
     "name": "stdout",
     "output_type": "stream",
     "text": [
      ">> Device : mps\n"
     ]
    }
   ],
   "source": [
    "#(1) Import libraries\n",
    "import os\n",
    "import random\n",
    "import tqdm\n",
    "import numpy as np\n",
    "import pandas as pd\n",
    "import matplotlib.pyplot as plt \n",
    "import sklearn\n",
    "import torch\n",
    "import torchinfo\n",
    "\n",
    "#(2) Set options\n",
    "os.environ['PYTHONHASHSEED'] = str(SEED_NUM)\n",
    "random.seed(a=SEED_NUM)\n",
    "np.random.seed(seed=SEED_NUM)\n",
    "torch.use_deterministic_algorithms(mode=True)\n",
    "torch.manual_seed(seed=SEED_NUM)\n",
    "pd.options.display.float_format = '{:.4f}'.format\n",
    "\n",
    "#(3) Define device(hardware)\n",
    "if torch.backends.mps.is_available() :\n",
    "    device = torch.device(device='mps')\n",
    "else :\n",
    "    device = torch.device(device='cpu')\n",
    "print(f'>> Device : {device}')"
   ]
  },
  {
   "cell_type": "markdown",
   "metadata": {},
   "source": [
    "#### 00.2. **사용자정의함수 정의**"
   ]
  },
  {
   "cell_type": "code",
   "execution_count": 3,
   "metadata": {},
   "outputs": [],
   "source": [
    "#(1) Define `describe_df()` function\n",
    "def describe_df(df:pd.DataFrame) :\n",
    "    output = pd.DataFrame(data={\n",
    "        'dataType'     : df.dtypes,\n",
    "        'nullCount'    : df.isnull().sum(),\n",
    "        'nonNullCount' : (df.shape[0]-df.isnull().sum()),\n",
    "        'uniqueCount'  : df.nunique()\n",
    "    })\n",
    "    return output\n",
    "\n",
    "#(2) Define `make_seq_data()` function\n",
    "def make_seq_data(df:pd.DataFrame, target:str, seq_len:int) :\n",
    "    X = df.drop(labels=target, axis=1).values\n",
    "    y = df.loc[:, target].values\n",
    "    output = []\n",
    "    for i in range(len(X)-seq_len) : \n",
    "        output.append([X[i:i+seq_len].tolist(), y[i+seq_len]])\n",
    "    return output\n",
    "\n",
    "#(3) Define `compute_rmse()` function\n",
    "def compute_rmse(model:torch.nn, loader:torch.utils.data.DataLoader) :\n",
    "    model.eval()\n",
    "    with torch.no_grad() : \n",
    "        square_sum = 0\n",
    "        num_instances = 0\n",
    "        for inputs, targets in loader :\n",
    "            inputs = inputs.to(device=device) \n",
    "            targets = targets.to(device=device)\n",
    "            preds = model(x=inputs)\n",
    "            square_sum += torch.sum(input=(preds - targets)**2).item()\n",
    "            num_instances += len(targets)\n",
    "    model.train()\n",
    "    output = np.sqrt(square_sum/num_instances)\n",
    "    return output\n",
    "\n",
    "#(4) Define `plot_compare()` function\n",
    "def plot_compare(model:torch.nn, train_loader:torch.utils.data.DataLoader, test_loader:torch.utils.data.DataLoader) :\n",
    "    outputs_train = []\n",
    "    targets_train = []\n",
    "    outputs_test = []\n",
    "    targets_test = []\n",
    "    model.eval()\n",
    "    with torch.no_grad():\n",
    "        for inputs, targets in train_loader :\n",
    "            inputs = inputs.to(device=device)\n",
    "            outputs = model(x=inputs)\n",
    "            outputs_train += outputs.cpu().numpy().tolist()\n",
    "            targets_train += targets.numpy().tolist()\n",
    "        for inputs, targets in test_loader :\n",
    "            inputs = inputs.to(device=device)\n",
    "            outputs = model(x=inputs)\n",
    "            outputs_test += outputs.cpu().numpy().tolist()\n",
    "            targets_test += targets.numpy().tolist()\n",
    "    model.train()\n",
    "    outputs = outputs_train + outputs_test\n",
    "    targets = targets_train + targets_test\n",
    "    plt.figure(figsize=(16, 8))\n",
    "    plt.plot(outputs, label='Predictions', color='blue', linestyle='-', linewidth=0.6)\n",
    "    plt.plot(targets, label='Actual', color='red', linestyle='--',  linewidth=0.6)\n",
    "    plt.axvline(x=len(targets_train), label='Train Boundary', color='grey', linestyle='--', linewidth=0.6)\n",
    "    plt.xlabel(xlabel='Time Step')\n",
    "    plt.ylabel(ylabel='Value')\n",
    "    plt.legend()\n",
    "    plt.grid(False)\n",
    "    plt.show()"
   ]
  },
  {
   "cell_type": "markdown",
   "metadata": {},
   "source": [
    "#### 00.3. **클래스 정의**"
   ]
  },
  {
   "cell_type": "code",
   "execution_count": 4,
   "metadata": {},
   "outputs": [],
   "source": [
    "#(1) Define `MyTensorDataset` class\n",
    "class MyTensorDataset(torch.utils.data.Dataset) :\n",
    "    def __init__(self, seq_data:np.array, data_type:torch.dtype=torch.float32) :\n",
    "        features = []\n",
    "        targets = []\n",
    "        for i in range(len(seq_data)) : \n",
    "            features.append(seq_data[i][0])\n",
    "            targets.append(seq_data[i][1])\n",
    "        self.feature = torch.tensor(data=features, dtype=data_type)\n",
    "        self.target = torch.tensor(data=targets, dtype=data_type).reshape(shape=(-1, 1))\n",
    "        self.len = self.target.shape[0]\n",
    "    def __getitem__(self, index) :\n",
    "        return self.feature[index], self.target[index]\n",
    "    def __len__(self) :\n",
    "        return self.len\n",
    "    \n",
    "#(2) Define `MySequenceModel` class\n",
    "class MySequenceModel(torch.nn.Module) :\n",
    "    def __init__(self, input_size:int, hidden_size:int, seq_len:int, layers_num:int, device:torch.device) :\n",
    "        super().__init__()\n",
    "        self.hidden_size = hidden_size\n",
    "        self.layers_num = layers_num\n",
    "        self.device = device\n",
    "        self.layers = torch.nn.ModuleDict()\n",
    "        self.layers['rnn'] = torch.nn.RNN(\n",
    "            input_size=input_size, \n",
    "            hidden_size=hidden_size, \n",
    "            num_layers=layers_num, \n",
    "            batch_first=True\n",
    "        )\n",
    "        self.layers['fc'] = torch.nn.Linear(in_features=hidden_size*seq_len, out_features=1)\n",
    "        self.to(device=self.device)\n",
    "    def forward(self, x:torch.Tensor) :\n",
    "        h0 = torch.zeros(size=(self.layers_num, x.size()[0], self.hidden_size), device=self.device)\n",
    "        x = self.layers['rnn'](x, h0)[0]\n",
    "        x = x.reshape(shape=(x.shape[0], -1))\n",
    "        x = self.layers['fc'](x)\n",
    "        return x"
   ]
  },
  {
   "cell_type": "markdown",
   "metadata": {},
   "source": [
    "<b></b>"
   ]
  },
  {
   "cell_type": "markdown",
   "metadata": {},
   "source": [
    "## 01. **데이터셋 로드 및 EDA**"
   ]
  },
  {
   "cell_type": "markdown",
   "metadata": {},
   "source": [
    "#### 01.1. **데이터셋 로드**"
   ]
  },
  {
   "cell_type": "code",
   "execution_count": 5,
   "metadata": {},
   "outputs": [],
   "source": [
    "kospi_raw = pd.read_csv(filepath_or_buffer='../../data/kospi.csv', index_col=[0])"
   ]
  },
  {
   "cell_type": "markdown",
   "metadata": {},
   "source": [
    "#### 01.2. **EDA**"
   ]
  },
  {
   "cell_type": "code",
   "execution_count": 6,
   "metadata": {},
   "outputs": [
    {
     "data": {
      "text/html": [
       "<div>\n",
       "<style scoped>\n",
       "    .dataframe tbody tr th:only-of-type {\n",
       "        vertical-align: middle;\n",
       "    }\n",
       "\n",
       "    .dataframe tbody tr th {\n",
       "        vertical-align: top;\n",
       "    }\n",
       "\n",
       "    .dataframe thead th {\n",
       "        text-align: right;\n",
       "    }\n",
       "</style>\n",
       "<table border=\"1\" class=\"dataframe\">\n",
       "  <thead>\n",
       "    <tr style=\"text-align: right;\">\n",
       "      <th></th>\n",
       "      <th>Open</th>\n",
       "      <th>High</th>\n",
       "      <th>Low</th>\n",
       "      <th>Close</th>\n",
       "      <th>Adj Close</th>\n",
       "      <th>Volume</th>\n",
       "    </tr>\n",
       "    <tr>\n",
       "      <th>Date</th>\n",
       "      <th></th>\n",
       "      <th></th>\n",
       "      <th></th>\n",
       "      <th></th>\n",
       "      <th></th>\n",
       "      <th></th>\n",
       "    </tr>\n",
       "  </thead>\n",
       "  <tbody>\n",
       "    <tr>\n",
       "      <th>2019-01-30</th>\n",
       "      <td>2183.4900</td>\n",
       "      <td>2206.2000</td>\n",
       "      <td>2177.8799</td>\n",
       "      <td>2206.2000</td>\n",
       "      <td>2206.2000</td>\n",
       "      <td>480400</td>\n",
       "    </tr>\n",
       "    <tr>\n",
       "      <th>2019-01-31</th>\n",
       "      <td>2222.8799</td>\n",
       "      <td>2222.8799</td>\n",
       "      <td>2201.2200</td>\n",
       "      <td>2204.8501</td>\n",
       "      <td>2204.8501</td>\n",
       "      <td>545200</td>\n",
       "    </tr>\n",
       "    <tr>\n",
       "      <th>2019-02-01</th>\n",
       "      <td>2211.9299</td>\n",
       "      <td>2218.7800</td>\n",
       "      <td>2201.4099</td>\n",
       "      <td>2203.4600</td>\n",
       "      <td>2203.4600</td>\n",
       "      <td>479400</td>\n",
       "    </tr>\n",
       "    <tr>\n",
       "      <th>2019-02-07</th>\n",
       "      <td>2215.7700</td>\n",
       "      <td>2215.7900</td>\n",
       "      <td>2196.7700</td>\n",
       "      <td>2203.4199</td>\n",
       "      <td>2203.4199</td>\n",
       "      <td>427800</td>\n",
       "    </tr>\n",
       "    <tr>\n",
       "      <th>2019-02-08</th>\n",
       "      <td>2192.0100</td>\n",
       "      <td>2192.4800</td>\n",
       "      <td>2171.9600</td>\n",
       "      <td>2177.0500</td>\n",
       "      <td>2177.0500</td>\n",
       "      <td>391000</td>\n",
       "    </tr>\n",
       "    <tr>\n",
       "      <th>2019-02-11</th>\n",
       "      <td>2180.5400</td>\n",
       "      <td>2181.5801</td>\n",
       "      <td>2167.3601</td>\n",
       "      <td>2180.7300</td>\n",
       "      <td>2180.7300</td>\n",
       "      <td>406100</td>\n",
       "    </tr>\n",
       "    <tr>\n",
       "      <th>2019-02-12</th>\n",
       "      <td>2182.7100</td>\n",
       "      <td>2195.0500</td>\n",
       "      <td>2178.5901</td>\n",
       "      <td>2190.4700</td>\n",
       "      <td>2190.4700</td>\n",
       "      <td>429900</td>\n",
       "    </tr>\n",
       "    <tr>\n",
       "      <th>2019-02-13</th>\n",
       "      <td>2200.0000</td>\n",
       "      <td>2203.7100</td>\n",
       "      <td>2194.7500</td>\n",
       "      <td>2201.4800</td>\n",
       "      <td>2201.4800</td>\n",
       "      <td>422000</td>\n",
       "    </tr>\n",
       "    <tr>\n",
       "      <th>2019-02-14</th>\n",
       "      <td>2195.9199</td>\n",
       "      <td>2225.8501</td>\n",
       "      <td>2186.0901</td>\n",
       "      <td>2225.8501</td>\n",
       "      <td>2225.8501</td>\n",
       "      <td>573400</td>\n",
       "    </tr>\n",
       "    <tr>\n",
       "      <th>2019-02-15</th>\n",
       "      <td>2210.9399</td>\n",
       "      <td>2210.9399</td>\n",
       "      <td>2187.7100</td>\n",
       "      <td>2196.0901</td>\n",
       "      <td>2196.0901</td>\n",
       "      <td>400600</td>\n",
       "    </tr>\n",
       "  </tbody>\n",
       "</table>\n",
       "</div>"
      ],
      "text/plain": [
       "                Open      High       Low     Close  Adj Close  Volume\n",
       "Date                                                                 \n",
       "2019-01-30 2183.4900 2206.2000 2177.8799 2206.2000  2206.2000  480400\n",
       "2019-01-31 2222.8799 2222.8799 2201.2200 2204.8501  2204.8501  545200\n",
       "2019-02-01 2211.9299 2218.7800 2201.4099 2203.4600  2203.4600  479400\n",
       "2019-02-07 2215.7700 2215.7900 2196.7700 2203.4199  2203.4199  427800\n",
       "2019-02-08 2192.0100 2192.4800 2171.9600 2177.0500  2177.0500  391000\n",
       "2019-02-11 2180.5400 2181.5801 2167.3601 2180.7300  2180.7300  406100\n",
       "2019-02-12 2182.7100 2195.0500 2178.5901 2190.4700  2190.4700  429900\n",
       "2019-02-13 2200.0000 2203.7100 2194.7500 2201.4800  2201.4800  422000\n",
       "2019-02-14 2195.9199 2225.8501 2186.0901 2225.8501  2225.8501  573400\n",
       "2019-02-15 2210.9399 2210.9399 2187.7100 2196.0901  2196.0901  400600"
      ]
     },
     "execution_count": 6,
     "metadata": {},
     "output_type": "execute_result"
    }
   ],
   "source": [
    "#(1) Display `kospi_raw`\n",
    "kospi_raw.head(n=10)"
   ]
  },
  {
   "cell_type": "code",
   "execution_count": 7,
   "metadata": {},
   "outputs": [
    {
     "data": {
      "text/html": [
       "<div>\n",
       "<style scoped>\n",
       "    .dataframe tbody tr th:only-of-type {\n",
       "        vertical-align: middle;\n",
       "    }\n",
       "\n",
       "    .dataframe tbody tr th {\n",
       "        vertical-align: top;\n",
       "    }\n",
       "\n",
       "    .dataframe thead th {\n",
       "        text-align: right;\n",
       "    }\n",
       "</style>\n",
       "<table border=\"1\" class=\"dataframe\">\n",
       "  <thead>\n",
       "    <tr style=\"text-align: right;\">\n",
       "      <th></th>\n",
       "      <th>dataType</th>\n",
       "      <th>nullCount</th>\n",
       "      <th>nonNullCount</th>\n",
       "      <th>uniqueCount</th>\n",
       "    </tr>\n",
       "  </thead>\n",
       "  <tbody>\n",
       "    <tr>\n",
       "      <th>Open</th>\n",
       "      <td>float64</td>\n",
       "      <td>0</td>\n",
       "      <td>431</td>\n",
       "      <td>429</td>\n",
       "    </tr>\n",
       "    <tr>\n",
       "      <th>High</th>\n",
       "      <td>float64</td>\n",
       "      <td>0</td>\n",
       "      <td>431</td>\n",
       "      <td>427</td>\n",
       "    </tr>\n",
       "    <tr>\n",
       "      <th>Low</th>\n",
       "      <td>float64</td>\n",
       "      <td>0</td>\n",
       "      <td>431</td>\n",
       "      <td>429</td>\n",
       "    </tr>\n",
       "    <tr>\n",
       "      <th>Close</th>\n",
       "      <td>float64</td>\n",
       "      <td>0</td>\n",
       "      <td>431</td>\n",
       "      <td>430</td>\n",
       "    </tr>\n",
       "    <tr>\n",
       "      <th>Adj Close</th>\n",
       "      <td>float64</td>\n",
       "      <td>0</td>\n",
       "      <td>431</td>\n",
       "      <td>430</td>\n",
       "    </tr>\n",
       "    <tr>\n",
       "      <th>Volume</th>\n",
       "      <td>int64</td>\n",
       "      <td>0</td>\n",
       "      <td>431</td>\n",
       "      <td>420</td>\n",
       "    </tr>\n",
       "  </tbody>\n",
       "</table>\n",
       "</div>"
      ],
      "text/plain": [
       "          dataType  nullCount  nonNullCount  uniqueCount\n",
       "Open       float64          0           431          429\n",
       "High       float64          0           431          427\n",
       "Low        float64          0           431          429\n",
       "Close      float64          0           431          430\n",
       "Adj Close  float64          0           431          430\n",
       "Volume       int64          0           431          420"
      ]
     },
     "execution_count": 7,
     "metadata": {},
     "output_type": "execute_result"
    }
   ],
   "source": [
    "#(2) Describe `kospi_raw`\n",
    "describe_df(df=kospi_raw)"
   ]
  },
  {
   "cell_type": "code",
   "execution_count": 8,
   "metadata": {},
   "outputs": [
    {
     "data": {
      "text/html": [
       "<div>\n",
       "<style scoped>\n",
       "    .dataframe tbody tr th:only-of-type {\n",
       "        vertical-align: middle;\n",
       "    }\n",
       "\n",
       "    .dataframe tbody tr th {\n",
       "        vertical-align: top;\n",
       "    }\n",
       "\n",
       "    .dataframe thead th {\n",
       "        text-align: right;\n",
       "    }\n",
       "</style>\n",
       "<table border=\"1\" class=\"dataframe\">\n",
       "  <thead>\n",
       "    <tr style=\"text-align: right;\">\n",
       "      <th></th>\n",
       "      <th>count</th>\n",
       "      <th>mean</th>\n",
       "      <th>std</th>\n",
       "      <th>min</th>\n",
       "      <th>1%</th>\n",
       "      <th>10%</th>\n",
       "      <th>25%</th>\n",
       "      <th>50%</th>\n",
       "      <th>75%</th>\n",
       "      <th>90%</th>\n",
       "      <th>99%</th>\n",
       "      <th>max</th>\n",
       "    </tr>\n",
       "  </thead>\n",
       "  <tbody>\n",
       "    <tr>\n",
       "      <th>Open</th>\n",
       "      <td>431.0000</td>\n",
       "      <td>2122.4498</td>\n",
       "      <td>159.5239</td>\n",
       "      <td>1474.4500</td>\n",
       "      <td>1649.0450</td>\n",
       "      <td>1928.9800</td>\n",
       "      <td>2057.5900</td>\n",
       "      <td>2132.3799</td>\n",
       "      <td>2211.4500</td>\n",
       "      <td>2333.5601</td>\n",
       "      <td>2424.9941</td>\n",
       "      <td>2455.2800</td>\n",
       "    </tr>\n",
       "    <tr>\n",
       "      <th>High</th>\n",
       "      <td>431.0000</td>\n",
       "      <td>2134.7560</td>\n",
       "      <td>155.8090</td>\n",
       "      <td>1516.7500</td>\n",
       "      <td>1698.0570</td>\n",
       "      <td>1938.6200</td>\n",
       "      <td>2065.6200</td>\n",
       "      <td>2141.2700</td>\n",
       "      <td>2220.5951</td>\n",
       "      <td>2357.0801</td>\n",
       "      <td>2434.3550</td>\n",
       "      <td>2458.1699</td>\n",
       "    </tr>\n",
       "    <tr>\n",
       "      <th>Low</th>\n",
       "      <td>431.0000</td>\n",
       "      <td>2106.9765</td>\n",
       "      <td>161.9264</td>\n",
       "      <td>1439.4301</td>\n",
       "      <td>1605.1480</td>\n",
       "      <td>1913.4900</td>\n",
       "      <td>2041.2450</td>\n",
       "      <td>2119.0701</td>\n",
       "      <td>2196.6000</td>\n",
       "      <td>2322.6399</td>\n",
       "      <td>2397.9820</td>\n",
       "      <td>2429.9399</td>\n",
       "    </tr>\n",
       "    <tr>\n",
       "      <th>Close</th>\n",
       "      <td>431.0000</td>\n",
       "      <td>2121.1954</td>\n",
       "      <td>159.0381</td>\n",
       "      <td>1457.6400</td>\n",
       "      <td>1628.7110</td>\n",
       "      <td>1927.2800</td>\n",
       "      <td>2055.2999</td>\n",
       "      <td>2131.2400</td>\n",
       "      <td>2209.2450</td>\n",
       "      <td>2341.5300</td>\n",
       "      <td>2425.1379</td>\n",
       "      <td>2443.5801</td>\n",
       "    </tr>\n",
       "    <tr>\n",
       "      <th>Adj Close</th>\n",
       "      <td>431.0000</td>\n",
       "      <td>2121.1954</td>\n",
       "      <td>159.0381</td>\n",
       "      <td>1457.6400</td>\n",
       "      <td>1628.7110</td>\n",
       "      <td>1927.2800</td>\n",
       "      <td>2055.2999</td>\n",
       "      <td>2131.2400</td>\n",
       "      <td>2209.2450</td>\n",
       "      <td>2341.5300</td>\n",
       "      <td>2425.1379</td>\n",
       "      <td>2443.5801</td>\n",
       "    </tr>\n",
       "    <tr>\n",
       "      <th>Volume</th>\n",
       "      <td>431.0000</td>\n",
       "      <td>648225.7193</td>\n",
       "      <td>259363.7224</td>\n",
       "      <td>0.0000</td>\n",
       "      <td>265070.0000</td>\n",
       "      <td>358600.0000</td>\n",
       "      <td>440650.0000</td>\n",
       "      <td>608700.0000</td>\n",
       "      <td>810950.0000</td>\n",
       "      <td>979400.0000</td>\n",
       "      <td>1418500.0000</td>\n",
       "      <td>1984200.0000</td>\n",
       "    </tr>\n",
       "  </tbody>\n",
       "</table>\n",
       "</div>"
      ],
      "text/plain": [
       "             count        mean         std       min          1%         10%  \\\n",
       "Open      431.0000   2122.4498    159.5239 1474.4500   1649.0450   1928.9800   \n",
       "High      431.0000   2134.7560    155.8090 1516.7500   1698.0570   1938.6200   \n",
       "Low       431.0000   2106.9765    161.9264 1439.4301   1605.1480   1913.4900   \n",
       "Close     431.0000   2121.1954    159.0381 1457.6400   1628.7110   1927.2800   \n",
       "Adj Close 431.0000   2121.1954    159.0381 1457.6400   1628.7110   1927.2800   \n",
       "Volume    431.0000 648225.7193 259363.7224    0.0000 265070.0000 358600.0000   \n",
       "\n",
       "                  25%         50%         75%         90%          99%  \\\n",
       "Open        2057.5900   2132.3799   2211.4500   2333.5601    2424.9941   \n",
       "High        2065.6200   2141.2700   2220.5951   2357.0801    2434.3550   \n",
       "Low         2041.2450   2119.0701   2196.6000   2322.6399    2397.9820   \n",
       "Close       2055.2999   2131.2400   2209.2450   2341.5300    2425.1379   \n",
       "Adj Close   2055.2999   2131.2400   2209.2450   2341.5300    2425.1379   \n",
       "Volume    440650.0000 608700.0000 810950.0000 979400.0000 1418500.0000   \n",
       "\n",
       "                   max  \n",
       "Open         2455.2800  \n",
       "High         2458.1699  \n",
       "Low          2429.9399  \n",
       "Close        2443.5801  \n",
       "Adj Close    2443.5801  \n",
       "Volume    1984200.0000  "
      ]
     },
     "execution_count": 8,
     "metadata": {},
     "output_type": "execute_result"
    }
   ],
   "source": [
    "#(3) Check the statistics of `kospi_raw`\n",
    "kospi_raw.describe(percentiles=[0.01, 0.1, 0.25, 0.5, 0.75, 0.9, 0.99]).transpose()"
   ]
  },
  {
   "cell_type": "markdown",
   "metadata": {},
   "source": [
    "<b></b>"
   ]
  },
  {
   "cell_type": "markdown",
   "metadata": {},
   "source": [
    "## 02. **데이터셋 전처리**"
   ]
  },
  {
   "cell_type": "markdown",
   "metadata": {},
   "source": [
    "#### 02.3. **학습 및 검증 데이터셋 분리**"
   ]
  },
  {
   "cell_type": "code",
   "execution_count": 9,
   "metadata": {},
   "outputs": [],
   "source": [
    "#(1)\n",
    "kospi = kospi_raw.loc[:, ['Open', 'High', 'Low', 'Volume', 'Close']].copy().astype(dtype=float)\n",
    "\n",
    "#(2)\n",
    "train_size = 0.5\n",
    "train_idx = int(len(kospi_raw)*train_size)\n",
    "\n",
    "#(3)\n",
    "kospi_train = kospi.iloc[:train_idx, :]\n",
    "kospi_test = kospi.iloc[train_idx:, :]"
   ]
  },
  {
   "cell_type": "markdown",
   "metadata": {},
   "source": [
    "#### 02.1. **스케일링 처리**"
   ]
  },
  {
   "cell_type": "code",
   "execution_count": 10,
   "metadata": {},
   "outputs": [],
   "source": [
    "#(1)\n",
    "scaler = sklearn.preprocessing.MinMaxScaler()\n",
    "\n",
    "#(2)\n",
    "kospi_train = pd.DataFrame(\n",
    "    data=scaler.fit_transform(X=kospi_train), \n",
    "    columns=kospi.columns\n",
    ")\n",
    "kospi_test = pd.DataFrame(\n",
    "    data=scaler.transform(X=kospi_test), \n",
    "    columns=kospi.columns\n",
    ")"
   ]
  },
  {
   "cell_type": "markdown",
   "metadata": {},
   "source": [
    "#### 02.2. **시퀀스 데이터로 변환** (윈도우 크기 : $ 5 $)"
   ]
  },
  {
   "cell_type": "code",
   "execution_count": 11,
   "metadata": {},
   "outputs": [],
   "source": [
    "#(1)\n",
    "seq_len = 5\n",
    "\n",
    "#(2)\n",
    "kospi_train = make_seq_data(df=kospi_train, target='Close', seq_len=seq_len)\n",
    "kospi_test = make_seq_data(df=kospi_test, target='Close', seq_len=seq_len)"
   ]
  },
  {
   "cell_type": "markdown",
   "metadata": {},
   "source": [
    "#### 02.4. **텐서 변환**"
   ]
  },
  {
   "cell_type": "code",
   "execution_count": 12,
   "metadata": {},
   "outputs": [],
   "source": [
    "kospi_train = MyTensorDataset(seq_data=kospi_train, data_type=torch.float32)\n",
    "kospi_test = MyTensorDataset(seq_data=kospi_test, data_type=torch.float32)"
   ]
  },
  {
   "cell_type": "markdown",
   "metadata": {},
   "source": [
    "#### 02.5. **데이터로더 변환**"
   ]
  },
  {
   "cell_type": "code",
   "execution_count": 13,
   "metadata": {},
   "outputs": [],
   "source": [
    "kospi_train_loader = torch.utils.data.DataLoader(dataset=kospi_train, batch_size=BATCH_SIZE, shuffle=True)\n",
    "kospi_test_loader = torch.utils.data.DataLoader(dataset=kospi_test, batch_size=BATCH_SIZE, shuffle=False)"
   ]
  },
  {
   "cell_type": "markdown",
   "metadata": {},
   "source": [
    "<b></b>"
   ]
  },
  {
   "cell_type": "markdown",
   "metadata": {},
   "source": [
    "## 03. **모델 구축 및 학습**"
   ]
  },
  {
   "cell_type": "markdown",
   "metadata": {},
   "source": [
    "#### 03.1. **모델 정의**"
   ]
  },
  {
   "cell_type": "code",
   "execution_count": 14,
   "metadata": {},
   "outputs": [],
   "source": [
    "#(1) Define hyper-parameter\n",
    "input_size = kospi_train[0][0].shape[1]\n",
    "layers_num = 2\n",
    "hidden_size = 8"
   ]
  },
  {
   "cell_type": "code",
   "execution_count": 15,
   "metadata": {},
   "outputs": [
    {
     "data": {
      "text/plain": [
       "MySequenceModel(\n",
       "  (layers): ModuleDict(\n",
       "    (rnn): RNN(4, 8, num_layers=2, batch_first=True)\n",
       "    (fc): Linear(in_features=40, out_features=1, bias=True)\n",
       "  )\n",
       ")"
      ]
     },
     "execution_count": 15,
     "metadata": {},
     "output_type": "execute_result"
    }
   ],
   "source": [
    "#(2) Define `model`\n",
    "model = MySequenceModel(\n",
    "    input_size=input_size, \n",
    "    hidden_size=hidden_size, \n",
    "    seq_len=seq_len, \n",
    "    layers_num=layers_num,\n",
    "    device=device\n",
    ").to(dtype=torch.float32)\n",
    "\n",
    "#(3) Display `model`\n",
    "model"
   ]
  },
  {
   "cell_type": "code",
   "execution_count": 16,
   "metadata": {},
   "outputs": [
    {
     "data": {
      "text/plain": [
       "==========================================================================================\n",
       "Layer (type:depth-idx)                   Output Shape              Param #\n",
       "==========================================================================================\n",
       "MySequenceModel                          [32, 1]                   --\n",
       "├─ModuleDict: 1-1                        --                        --\n",
       "│    └─RNN: 2-1                          [32, 5, 8]                256\n",
       "│    └─Linear: 2-2                       [32, 1]                   41\n",
       "==========================================================================================\n",
       "Total params: 297\n",
       "Trainable params: 297\n",
       "Non-trainable params: 0\n",
       "Total mult-adds (M): 0.04\n",
       "==========================================================================================\n",
       "Input size (MB): 0.00\n",
       "Forward/backward pass size (MB): 0.01\n",
       "Params size (MB): 0.00\n",
       "Estimated Total Size (MB): 0.01\n",
       "=========================================================================================="
      ]
     },
     "execution_count": 16,
     "metadata": {},
     "output_type": "execute_result"
    }
   ],
   "source": [
    "#(4)\n",
    "dummy = torch.randn(size=[BATCH_SIZE]+list(kospi_train[0][0].shape)).to(device=device)\n",
    "torchinfo.summary(model=model, input_data=dummy)"
   ]
  },
  {
   "cell_type": "code",
   "execution_count": 17,
   "metadata": {},
   "outputs": [],
   "source": [
    "#(5) Define loss function\n",
    "criterion = torch.nn.MSELoss()\n",
    "\n",
    "#(6) Define optimizer(optimization method)\n",
    "optimizer = torch.optim.Adam(params=model.parameters(), lr=1e-2, weight_decay=1e-7)\n",
    "\n",
    "#(7) Define Scheduler\n",
    "# scheduler = torch.optim.lr_scheduler.StepLR(optimizer=optimizer, step_size=30, gamma=0.1)"
   ]
  },
  {
   "cell_type": "markdown",
   "metadata": {},
   "source": [
    "#### 03.2. **학습 전 변수 정의**"
   ]
  },
  {
   "cell_type": "code",
   "execution_count": 18,
   "metadata": {},
   "outputs": [
    {
     "name": "stdout",
     "output_type": "stream",
     "text": [
      ">> Epoch=0, Train Loss=inf\n"
     ]
    }
   ],
   "source": [
    "batch_cnt = len(kospi_train_loader)\n",
    "if USE_PRETRAIN_YN == 'Y' :\n",
    "    checkpoint = torch.load(f=MODEL_PTH)\n",
    "    model.load_state_dict(state_dict=checkpoint['model'])\n",
    "    optimizer.load_state_dict(state_dict=checkpoint['optimizer'])\n",
    "    epoch = checkpoint['epoch']\n",
    "    loss_hist = checkpoint['loss_hist']\n",
    "    best_loss = loss_hist[-1]\n",
    "else :\n",
    "    epoch = 0\n",
    "    loss_hist = []\n",
    "    best_loss = float('inf')\n",
    "print(f\">> Epoch={epoch}, Train Loss={best_loss}\")"
   ]
  },
  {
   "cell_type": "markdown",
   "metadata": {},
   "source": [
    "#### 03.3. **모델 학습**"
   ]
  },
  {
   "cell_type": "code",
   "execution_count": 19,
   "metadata": {},
   "outputs": [
    {
     "name": "stderr",
     "output_type": "stream",
     "text": [
      "100%|██████████| 1000/1000 [01:43<00:00,  9.62it/s, epoch=1000, loss=0.00196]\n"
     ]
    }
   ],
   "source": [
    "progress_bar = tqdm.trange(epoch, EPOCH_NUM)\n",
    "for epoch in progress_bar : \n",
    "    running_loss = 0.0\n",
    "    model.train()\n",
    "    for inputs, targets in kospi_train_loader :\n",
    "        inputs = inputs.to(device=device) \n",
    "        targets = targets.to(device=device)\n",
    "        optimizer.zero_grad() \n",
    "        preds = model(x=inputs)\n",
    "        loss = criterion(input=preds, target=targets)\n",
    "        loss.backward()\n",
    "        optimizer.step()\n",
    "        running_loss += loss.item()\n",
    "    running_loss_avg = running_loss / batch_cnt\n",
    "    loss_hist.append(running_loss_avg)\n",
    "    if running_loss_avg < best_loss :\n",
    "        best_loss = running_loss_avg\n",
    "        torch.save(\n",
    "            obj={\n",
    "                'epoch'     : epoch,\n",
    "                'loss_hist' : loss_hist,\n",
    "                'model'     : model.state_dict(),\n",
    "                'optimizer' : optimizer.state_dict()\n",
    "            }, \n",
    "            f=MODEL_PTH\n",
    "        )\n",
    "    # scheduler.step()\n",
    "    progress_bar.set_postfix(ordered_dict={'epoch':epoch+1, 'loss':running_loss_avg}) "
   ]
  },
  {
   "cell_type": "markdown",
   "metadata": {},
   "source": [
    "<b></b>"
   ]
  },
  {
   "cell_type": "markdown",
   "metadata": {},
   "source": [
    "## 04. **모델 평가**"
   ]
  },
  {
   "cell_type": "markdown",
   "metadata": {},
   "source": [
    "#### 04.0. **최적 성능 모델 로드**"
   ]
  },
  {
   "cell_type": "code",
   "execution_count": 20,
   "metadata": {},
   "outputs": [
    {
     "name": "stdout",
     "output_type": "stream",
     "text": [
      ">> Epoch : 974, Loss : 0.0017268491044108356\n"
     ]
    }
   ],
   "source": [
    "checkpoint = torch.load(f=MODEL_PTH)\n",
    "model.load_state_dict(state_dict=checkpoint['model'])\n",
    "print(f'>> Epoch : {checkpoint[\"epoch\"]}, Loss : {checkpoint[\"loss_hist\"][-1]}')"
   ]
  },
  {
   "cell_type": "markdown",
   "metadata": {},
   "source": [
    "#### 04.1. **학습 손실(Traing Loss) 확인**"
   ]
  },
  {
   "cell_type": "code",
   "execution_count": 21,
   "metadata": {},
   "outputs": [
    {
     "name": "stdout",
     "output_type": "stream",
     "text": [
      ">> Train RMSE: 0.04285760372038011\n"
     ]
    }
   ],
   "source": [
    "#(1) Check RMSE\n",
    "rmse_train = compute_rmse(model=model, loader=kospi_train_loader)\n",
    "print(f'>> Train RMSE: {rmse_train}')"
   ]
  },
  {
   "cell_type": "code",
   "execution_count": 22,
   "metadata": {},
   "outputs": [
    {
     "data": {
      "image/png": "[encoded data removed]",
      "text/plain": [
       "<Figure size 1200x600 with 1 Axes>"
      ]
     },
     "metadata": {},
     "output_type": "display_data"
    }
   ],
   "source": [
    "#(2) Plot traing loss\n",
    "plt.figure(figsize=(12, 6))\n",
    "plt.title(label='Training Loss')\n",
    "plt.xlabel(xlabel='epoch')\n",
    "plt.ylabel(ylabel='loss')\n",
    "plt.plot(loss_hist)\n",
    "plt.show()"
   ]
  },
  {
   "cell_type": "markdown",
   "metadata": {},
   "source": [
    "#### 04.2. **성능 평가**"
   ]
  },
  {
   "cell_type": "code",
   "execution_count": 23,
   "metadata": {},
   "outputs": [
    {
     "name": "stdout",
     "output_type": "stream",
     "text": [
      ">> Test RMSE : 0.28067917898656747\n"
     ]
    }
   ],
   "source": [
    "#(1)\n",
    "rmse_test = compute_rmse(model=model, loader=kospi_test_loader)\n",
    "print(f'>> Test RMSE : {rmse_test}')"
   ]
  },
  {
   "cell_type": "code",
   "execution_count": 24,
   "metadata": {},
   "outputs": [
    {
     "data": {
      "image/png": "[encoded data removed]",
      "text/plain": [
       "<Figure size 1600x800 with 1 Axes>"
      ]
     },
     "metadata": {},
     "output_type": "display_data"
    }
   ],
   "source": [
    "#(2)\n",
    "kospi_train_loader = torch.utils.data.DataLoader(dataset=kospi_train, batch_size=BATCH_SIZE, shuffle=False)\n",
    "plot_compare(model=model, train_loader=kospi_train_loader, test_loader=kospi_test_loader)"
   ]
  }
 ],
 "metadata": {
  "kernelspec": {
   "display_name": "PYTCH",
   "language": "python",
   "name": "python3"
  },
  "language_info": {
   "codemirror_mode": {
    "name": "ipython",
    "version": 3
   },
   "file_extension": ".py",
   "mimetype": "text/x-python",
   "name": "python",
   "nbconvert_exporter": "python",
   "pygments_lexer": "ipython3",
   "version": "3.10.16"
  }
 },
 "nbformat": 4,
 "nbformat_minor": 2
}
