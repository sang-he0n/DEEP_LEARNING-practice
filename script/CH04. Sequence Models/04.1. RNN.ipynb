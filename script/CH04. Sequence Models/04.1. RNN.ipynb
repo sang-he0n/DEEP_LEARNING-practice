{
 "cells": [
  {
   "cell_type": "markdown",
   "metadata": {},
   "source": [
    "# CH02.3. **Recurrent Neural Network**"
   ]
  },
  {
   "cell_type": "markdown",
   "metadata": {},
   "source": [
    "## 00. **작업 환경 설정**"
   ]
  },
  {
   "cell_type": "markdown",
   "metadata": {},
   "source": [
    "#### 00.0. **사전 변수 설정**"
   ]
  },
  {
   "cell_type": "code",
   "execution_count": 1,
   "metadata": {},
   "outputs": [],
   "source": [
    "SEED_NUM = 2025\n",
    "BATCH_SIZE = 32\n",
    "EPOCH_NUM = 1000\n",
    "USE_PRETRAIN_YN = 'N'\n",
    "MODEL_PTH = '../../model/kospiSeqRNN.pt'"
   ]
  },
  {
   "cell_type": "markdown",
   "metadata": {},
   "source": [
    "#### 00.1. **라이브러리 호출 및 옵션 설정**"
   ]
  },
  {
   "cell_type": "code",
   "execution_count": 2,
   "metadata": {},
   "outputs": [
    {
     "name": "stdout",
     "output_type": "stream",
     "text": [
      ">> Device : mps\n"
     ]
    }
   ],
   "source": [
    "#(1) Import libraries\n",
    "import os\n",
    "import random\n",
    "import tqdm\n",
    "import numpy as np\n",
    "import pandas as pd\n",
    "import matplotlib.pyplot as plt \n",
    "import sklearn\n",
    "import torch\n",
    "import torchinfo\n",
    "\n",
    "#(2) Set up options\n",
    "os.environ['PYTHONHASHSEED'] = str(SEED_NUM)\n",
    "random.seed(a=SEED_NUM)\n",
    "np.random.seed(seed=SEED_NUM)\n",
    "torch.use_deterministic_algorithms(mode=True)\n",
    "torch.manual_seed(seed=SEED_NUM)\n",
    "torch.mps.manual_seed(seed=SEED_NUM)\n",
    "\n",
    "#(3) Set up device\n",
    "if torch.backends.mps.is_available() :\n",
    "    device = torch.device(device='mps')\n",
    "else :\n",
    "    device = torch.device(device='cpu')\n",
    "print(f'>> Device : {device}')"
   ]
  },
  {
   "cell_type": "markdown",
   "metadata": {},
   "source": [
    "#### 00.2. **사용자정의함수 정의**"
   ]
  },
  {
   "cell_type": "code",
   "execution_count": 3,
   "metadata": {},
   "outputs": [],
   "source": [
    "#(1) Define `describe_df()` function\n",
    "def describe_df(df:pd.DataFrame) :\n",
    "    output = pd.DataFrame(data={\n",
    "        'dataType'     : df.dtypes,\n",
    "        'nullCount'    : df.isnull().sum(),\n",
    "        'nonNullCount' : (df.shape[0]-df.isnull().sum()),\n",
    "        'uniqueCount'  : df.nunique()\n",
    "    })\n",
    "    return output\n",
    "\n",
    "#(2) Define `make_seq_data()` function\n",
    "def make_seq_data(df:pd.DataFrame, target:str, seq_len:int) :\n",
    "    X = df.drop(labels=target, axis=1).values\n",
    "    y = df.loc[:, target].values\n",
    "    output = []\n",
    "    for i in range(len(X)-seq_len) : \n",
    "        output.append([X[i:i+seq_len].tolist(), y[i+seq_len]])\n",
    "    return output\n",
    "\n",
    "#(3) Define `compute_rmse()` function\n",
    "def compute_rmse(model:torch.nn.Module, loader:torch.utils.data.DataLoader) :\n",
    "    model.eval()\n",
    "    with torch.no_grad() : \n",
    "        square_sum = 0\n",
    "        instance_num = 0\n",
    "        for inputs, targets in loader :\n",
    "            preds = model(x=inputs)\n",
    "            square_sum += torch.sum(\n",
    "                input=(preds-targets.to(device=preds.device))**2\n",
    "            ).item()\n",
    "            instance_num += len(targets)\n",
    "    model.train()\n",
    "    output = np.sqrt(square_sum/instance_num)\n",
    "    return output\n",
    "\n",
    "#(4) Define `plot_compare()` function\n",
    "def plot_compare(model:torch.nn, train_loader:torch.utils.data.DataLoader, test_loader:torch.utils.data.DataLoader) :\n",
    "    outputs_train = []\n",
    "    targets_train = []\n",
    "    outputs_test = []\n",
    "    targets_test = []\n",
    "    model.eval()\n",
    "    with torch.no_grad():\n",
    "        for inputs, targets in train_loader :\n",
    "            inputs = inputs.to(device=device)\n",
    "            outputs = model(x=inputs)\n",
    "            outputs_train += outputs.cpu().numpy().tolist()\n",
    "            targets_train += targets.numpy().tolist()\n",
    "        for inputs, targets in test_loader :\n",
    "            inputs = inputs.to(device=device)\n",
    "            outputs = model(x=inputs)\n",
    "            outputs_test += outputs.cpu().numpy().tolist()\n",
    "            targets_test += targets.numpy().tolist()\n",
    "    model.train()\n",
    "    outputs = outputs_train + outputs_test\n",
    "    targets = targets_train + targets_test\n",
    "    plt.figure(figsize=(16, 8))\n",
    "    plt.plot(outputs, label='Predictions', color='blue', linestyle='-', linewidth=0.6)\n",
    "    plt.plot(targets, label='Actual', color='red', linestyle='--',  linewidth=0.6)\n",
    "    plt.axvline(x=len(targets_train), label='Train Boundary', color='grey', linestyle='--', linewidth=0.6)\n",
    "    plt.xlabel(xlabel='Time Step')\n",
    "    plt.ylabel(ylabel='Value')\n",
    "    plt.legend()\n",
    "    plt.grid(False)\n",
    "    plt.show()"
   ]
  },
  {
   "cell_type": "markdown",
   "metadata": {},
   "source": [
    "#### 00.3. **클래스 정의**"
   ]
  },
  {
   "cell_type": "code",
   "execution_count": 4,
   "metadata": {},
   "outputs": [],
   "source": [
    "#(1) Define `MyTensorDataset` class\n",
    "class MyTensorDataset(torch.utils.data.Dataset) :\n",
    "    def __init__(self, seq_data:np.array, data_type:torch.dtype=torch.float32) :\n",
    "        features = []\n",
    "        targets = []\n",
    "        for i in range(len(seq_data)) : \n",
    "            features.append(seq_data[i][0])\n",
    "            targets.append(seq_data[i][1])\n",
    "        self.feature = torch.tensor(data=features, dtype=data_type)\n",
    "        self.target = torch.tensor(data=targets, dtype=data_type).reshape(shape=(-1, 1))\n",
    "        self.len = self.target.shape[0]\n",
    "    def __getitem__(self, index) :\n",
    "        return self.feature[index], self.target[index]\n",
    "    def __len__(self) :\n",
    "        return self.len\n",
    "    \n",
    "#(2) Define `MySequenceModel` class\n",
    "class MySequenceModel(torch.nn.Module) :\n",
    "    def __init__(self, input_size:int, hidden_size:int, seq_len:int, layers_num:int, device:torch.device) :\n",
    "        super().__init__()\n",
    "        self.hidden_size = hidden_size\n",
    "        self.layers_num = layers_num\n",
    "        self.device = device\n",
    "        self.rnn = torch.nn.RNN(\n",
    "            input_size=input_size, \n",
    "            hidden_size=hidden_size, \n",
    "            num_layers=layers_num, \n",
    "            batch_first=True\n",
    "        )\n",
    "        self.linear = torch.nn.Linear(in_features=hidden_size*seq_len, out_features=1)\n",
    "        self.to(device=self.device)\n",
    "    def forward(self, x:torch.Tensor) :\n",
    "        h0 = torch.zeros(size=(self.layers_num, x.shape[0], self.hidden_size), device=self.device)\n",
    "        x = x.to(device=self.device)\n",
    "        x = self.rnn(x, h0)[0]\n",
    "        x = x.reshape(shape=(x.shape[0], -1))\n",
    "        x = self.linear(x)\n",
    "        return x"
   ]
  },
  {
   "cell_type": "markdown",
   "metadata": {},
   "source": [
    "<b></b>"
   ]
  },
  {
   "cell_type": "markdown",
   "metadata": {},
   "source": [
    "## 01. **데이터셋 로드 및 EDA**"
   ]
  },
  {
   "cell_type": "markdown",
   "metadata": {},
   "source": [
    "#### 01.1. **데이터셋 로드**"
   ]
  },
  {
   "cell_type": "code",
   "execution_count": 5,
   "metadata": {},
   "outputs": [],
   "source": [
    "kospi_raw = pd.read_csv(filepath_or_buffer='../../data/kospi.csv', index_col=[0])"
   ]
  },
  {
   "cell_type": "markdown",
   "metadata": {},
   "source": [
    "#### 01.2. **EDA**"
   ]
  },
  {
   "cell_type": "code",
   "execution_count": 6,
   "metadata": {},
   "outputs": [
    {
     "data": {
      "text/html": [
       "<div>\n",
       "<style scoped>\n",
       "    .dataframe tbody tr th:only-of-type {\n",
       "        vertical-align: middle;\n",
       "    }\n",
       "\n",
       "    .dataframe tbody tr th {\n",
       "        vertical-align: top;\n",
       "    }\n",
       "\n",
       "    .dataframe thead th {\n",
       "        text-align: right;\n",
       "    }\n",
       "</style>\n",
       "<table border=\"1\" class=\"dataframe\">\n",
       "  <thead>\n",
       "    <tr style=\"text-align: right;\">\n",
       "      <th></th>\n",
       "      <th>Open</th>\n",
       "      <th>High</th>\n",
       "      <th>Low</th>\n",
       "      <th>Close</th>\n",
       "      <th>Adj Close</th>\n",
       "      <th>Volume</th>\n",
       "    </tr>\n",
       "    <tr>\n",
       "      <th>Date</th>\n",
       "      <th></th>\n",
       "      <th></th>\n",
       "      <th></th>\n",
       "      <th></th>\n",
       "      <th></th>\n",
       "      <th></th>\n",
       "    </tr>\n",
       "  </thead>\n",
       "  <tbody>\n",
       "    <tr>\n",
       "      <th>2019-01-30</th>\n",
       "      <td>2183.489990</td>\n",
       "      <td>2206.199951</td>\n",
       "      <td>2177.879883</td>\n",
       "      <td>2206.199951</td>\n",
       "      <td>2206.199951</td>\n",
       "      <td>480400</td>\n",
       "    </tr>\n",
       "    <tr>\n",
       "      <th>2019-01-31</th>\n",
       "      <td>2222.879883</td>\n",
       "      <td>2222.879883</td>\n",
       "      <td>2201.219971</td>\n",
       "      <td>2204.850098</td>\n",
       "      <td>2204.850098</td>\n",
       "      <td>545200</td>\n",
       "    </tr>\n",
       "    <tr>\n",
       "      <th>2019-02-01</th>\n",
       "      <td>2211.929932</td>\n",
       "      <td>2218.780029</td>\n",
       "      <td>2201.409912</td>\n",
       "      <td>2203.459961</td>\n",
       "      <td>2203.459961</td>\n",
       "      <td>479400</td>\n",
       "    </tr>\n",
       "    <tr>\n",
       "      <th>2019-02-07</th>\n",
       "      <td>2215.770020</td>\n",
       "      <td>2215.790039</td>\n",
       "      <td>2196.770020</td>\n",
       "      <td>2203.419922</td>\n",
       "      <td>2203.419922</td>\n",
       "      <td>427800</td>\n",
       "    </tr>\n",
       "    <tr>\n",
       "      <th>2019-02-08</th>\n",
       "      <td>2192.010010</td>\n",
       "      <td>2192.479980</td>\n",
       "      <td>2171.959961</td>\n",
       "      <td>2177.050049</td>\n",
       "      <td>2177.050049</td>\n",
       "      <td>391000</td>\n",
       "    </tr>\n",
       "    <tr>\n",
       "      <th>2019-02-11</th>\n",
       "      <td>2180.540039</td>\n",
       "      <td>2181.580078</td>\n",
       "      <td>2167.360107</td>\n",
       "      <td>2180.729980</td>\n",
       "      <td>2180.729980</td>\n",
       "      <td>406100</td>\n",
       "    </tr>\n",
       "    <tr>\n",
       "      <th>2019-02-12</th>\n",
       "      <td>2182.709961</td>\n",
       "      <td>2195.050049</td>\n",
       "      <td>2178.590088</td>\n",
       "      <td>2190.469971</td>\n",
       "      <td>2190.469971</td>\n",
       "      <td>429900</td>\n",
       "    </tr>\n",
       "    <tr>\n",
       "      <th>2019-02-13</th>\n",
       "      <td>2200.000000</td>\n",
       "      <td>2203.709961</td>\n",
       "      <td>2194.750000</td>\n",
       "      <td>2201.479980</td>\n",
       "      <td>2201.479980</td>\n",
       "      <td>422000</td>\n",
       "    </tr>\n",
       "    <tr>\n",
       "      <th>2019-02-14</th>\n",
       "      <td>2195.919922</td>\n",
       "      <td>2225.850098</td>\n",
       "      <td>2186.090088</td>\n",
       "      <td>2225.850098</td>\n",
       "      <td>2225.850098</td>\n",
       "      <td>573400</td>\n",
       "    </tr>\n",
       "    <tr>\n",
       "      <th>2019-02-15</th>\n",
       "      <td>2210.939941</td>\n",
       "      <td>2210.939941</td>\n",
       "      <td>2187.709961</td>\n",
       "      <td>2196.090088</td>\n",
       "      <td>2196.090088</td>\n",
       "      <td>400600</td>\n",
       "    </tr>\n",
       "  </tbody>\n",
       "</table>\n",
       "</div>"
      ],
      "text/plain": [
       "                   Open         High          Low        Close    Adj Close  \\\n",
       "Date                                                                          \n",
       "2019-01-30  2183.489990  2206.199951  2177.879883  2206.199951  2206.199951   \n",
       "2019-01-31  2222.879883  2222.879883  2201.219971  2204.850098  2204.850098   \n",
       "2019-02-01  2211.929932  2218.780029  2201.409912  2203.459961  2203.459961   \n",
       "2019-02-07  2215.770020  2215.790039  2196.770020  2203.419922  2203.419922   \n",
       "2019-02-08  2192.010010  2192.479980  2171.959961  2177.050049  2177.050049   \n",
       "2019-02-11  2180.540039  2181.580078  2167.360107  2180.729980  2180.729980   \n",
       "2019-02-12  2182.709961  2195.050049  2178.590088  2190.469971  2190.469971   \n",
       "2019-02-13  2200.000000  2203.709961  2194.750000  2201.479980  2201.479980   \n",
       "2019-02-14  2195.919922  2225.850098  2186.090088  2225.850098  2225.850098   \n",
       "2019-02-15  2210.939941  2210.939941  2187.709961  2196.090088  2196.090088   \n",
       "\n",
       "            Volume  \n",
       "Date                \n",
       "2019-01-30  480400  \n",
       "2019-01-31  545200  \n",
       "2019-02-01  479400  \n",
       "2019-02-07  427800  \n",
       "2019-02-08  391000  \n",
       "2019-02-11  406100  \n",
       "2019-02-12  429900  \n",
       "2019-02-13  422000  \n",
       "2019-02-14  573400  \n",
       "2019-02-15  400600  "
      ]
     },
     "execution_count": 6,
     "metadata": {},
     "output_type": "execute_result"
    }
   ],
   "source": [
    "#(1) Display `kospi_raw`\n",
    "kospi_raw.head(n=10)"
   ]
  },
  {
   "cell_type": "code",
   "execution_count": 7,
   "metadata": {},
   "outputs": [
    {
     "data": {
      "text/html": [
       "<div>\n",
       "<style scoped>\n",
       "    .dataframe tbody tr th:only-of-type {\n",
       "        vertical-align: middle;\n",
       "    }\n",
       "\n",
       "    .dataframe tbody tr th {\n",
       "        vertical-align: top;\n",
       "    }\n",
       "\n",
       "    .dataframe thead th {\n",
       "        text-align: right;\n",
       "    }\n",
       "</style>\n",
       "<table border=\"1\" class=\"dataframe\">\n",
       "  <thead>\n",
       "    <tr style=\"text-align: right;\">\n",
       "      <th></th>\n",
       "      <th>dataType</th>\n",
       "      <th>nullCount</th>\n",
       "      <th>nonNullCount</th>\n",
       "      <th>uniqueCount</th>\n",
       "    </tr>\n",
       "  </thead>\n",
       "  <tbody>\n",
       "    <tr>\n",
       "      <th>Open</th>\n",
       "      <td>float64</td>\n",
       "      <td>0</td>\n",
       "      <td>431</td>\n",
       "      <td>429</td>\n",
       "    </tr>\n",
       "    <tr>\n",
       "      <th>High</th>\n",
       "      <td>float64</td>\n",
       "      <td>0</td>\n",
       "      <td>431</td>\n",
       "      <td>427</td>\n",
       "    </tr>\n",
       "    <tr>\n",
       "      <th>Low</th>\n",
       "      <td>float64</td>\n",
       "      <td>0</td>\n",
       "      <td>431</td>\n",
       "      <td>429</td>\n",
       "    </tr>\n",
       "    <tr>\n",
       "      <th>Close</th>\n",
       "      <td>float64</td>\n",
       "      <td>0</td>\n",
       "      <td>431</td>\n",
       "      <td>430</td>\n",
       "    </tr>\n",
       "    <tr>\n",
       "      <th>Adj Close</th>\n",
       "      <td>float64</td>\n",
       "      <td>0</td>\n",
       "      <td>431</td>\n",
       "      <td>430</td>\n",
       "    </tr>\n",
       "    <tr>\n",
       "      <th>Volume</th>\n",
       "      <td>int64</td>\n",
       "      <td>0</td>\n",
       "      <td>431</td>\n",
       "      <td>420</td>\n",
       "    </tr>\n",
       "  </tbody>\n",
       "</table>\n",
       "</div>"
      ],
      "text/plain": [
       "          dataType  nullCount  nonNullCount  uniqueCount\n",
       "Open       float64          0           431          429\n",
       "High       float64          0           431          427\n",
       "Low        float64          0           431          429\n",
       "Close      float64          0           431          430\n",
       "Adj Close  float64          0           431          430\n",
       "Volume       int64          0           431          420"
      ]
     },
     "execution_count": 7,
     "metadata": {},
     "output_type": "execute_result"
    }
   ],
   "source": [
    "#(2) Describe `kospi_raw`\n",
    "describe_df(df=kospi_raw)"
   ]
  },
  {
   "cell_type": "code",
   "execution_count": 8,
   "metadata": {},
   "outputs": [
    {
     "data": {
      "text/html": [
       "<div>\n",
       "<style scoped>\n",
       "    .dataframe tbody tr th:only-of-type {\n",
       "        vertical-align: middle;\n",
       "    }\n",
       "\n",
       "    .dataframe tbody tr th {\n",
       "        vertical-align: top;\n",
       "    }\n",
       "\n",
       "    .dataframe thead th {\n",
       "        text-align: right;\n",
       "    }\n",
       "</style>\n",
       "<table border=\"1\" class=\"dataframe\">\n",
       "  <thead>\n",
       "    <tr style=\"text-align: right;\">\n",
       "      <th></th>\n",
       "      <th>count</th>\n",
       "      <th>mean</th>\n",
       "      <th>std</th>\n",
       "      <th>min</th>\n",
       "      <th>1%</th>\n",
       "      <th>10%</th>\n",
       "      <th>25%</th>\n",
       "      <th>50%</th>\n",
       "      <th>75%</th>\n",
       "      <th>90%</th>\n",
       "      <th>99%</th>\n",
       "      <th>max</th>\n",
       "    </tr>\n",
       "  </thead>\n",
       "  <tbody>\n",
       "    <tr>\n",
       "      <th>Open</th>\n",
       "      <td>431.0</td>\n",
       "      <td>2122.449765</td>\n",
       "      <td>159.523899</td>\n",
       "      <td>1474.449951</td>\n",
       "      <td>1649.044959</td>\n",
       "      <td>1928.979980</td>\n",
       "      <td>2057.589966</td>\n",
       "      <td>2132.379883</td>\n",
       "      <td>2211.449951</td>\n",
       "      <td>2333.560059</td>\n",
       "      <td>2.424994e+03</td>\n",
       "      <td>2.455280e+03</td>\n",
       "    </tr>\n",
       "    <tr>\n",
       "      <th>High</th>\n",
       "      <td>431.0</td>\n",
       "      <td>2134.756032</td>\n",
       "      <td>155.808986</td>\n",
       "      <td>1516.750000</td>\n",
       "      <td>1698.056970</td>\n",
       "      <td>1938.619995</td>\n",
       "      <td>2065.619995</td>\n",
       "      <td>2141.270020</td>\n",
       "      <td>2220.595092</td>\n",
       "      <td>2357.080078</td>\n",
       "      <td>2.434355e+03</td>\n",
       "      <td>2.458170e+03</td>\n",
       "    </tr>\n",
       "    <tr>\n",
       "      <th>Low</th>\n",
       "      <td>431.0</td>\n",
       "      <td>2106.976497</td>\n",
       "      <td>161.926432</td>\n",
       "      <td>1439.430054</td>\n",
       "      <td>1605.147998</td>\n",
       "      <td>1913.489990</td>\n",
       "      <td>2041.244995</td>\n",
       "      <td>2119.070068</td>\n",
       "      <td>2196.599976</td>\n",
       "      <td>2322.639893</td>\n",
       "      <td>2.397982e+03</td>\n",
       "      <td>2.429940e+03</td>\n",
       "    </tr>\n",
       "    <tr>\n",
       "      <th>Close</th>\n",
       "      <td>431.0</td>\n",
       "      <td>2121.195427</td>\n",
       "      <td>159.038127</td>\n",
       "      <td>1457.640015</td>\n",
       "      <td>1628.710962</td>\n",
       "      <td>1927.280029</td>\n",
       "      <td>2055.299927</td>\n",
       "      <td>2131.239990</td>\n",
       "      <td>2209.244995</td>\n",
       "      <td>2341.530029</td>\n",
       "      <td>2.425138e+03</td>\n",
       "      <td>2.443580e+03</td>\n",
       "    </tr>\n",
       "    <tr>\n",
       "      <th>Adj Close</th>\n",
       "      <td>431.0</td>\n",
       "      <td>2121.195427</td>\n",
       "      <td>159.038127</td>\n",
       "      <td>1457.640015</td>\n",
       "      <td>1628.710962</td>\n",
       "      <td>1927.280029</td>\n",
       "      <td>2055.299927</td>\n",
       "      <td>2131.239990</td>\n",
       "      <td>2209.244995</td>\n",
       "      <td>2341.530029</td>\n",
       "      <td>2.425138e+03</td>\n",
       "      <td>2.443580e+03</td>\n",
       "    </tr>\n",
       "    <tr>\n",
       "      <th>Volume</th>\n",
       "      <td>431.0</td>\n",
       "      <td>648225.719258</td>\n",
       "      <td>259363.722442</td>\n",
       "      <td>0.000000</td>\n",
       "      <td>265070.000000</td>\n",
       "      <td>358600.000000</td>\n",
       "      <td>440650.000000</td>\n",
       "      <td>608700.000000</td>\n",
       "      <td>810950.000000</td>\n",
       "      <td>979400.000000</td>\n",
       "      <td>1.418500e+06</td>\n",
       "      <td>1.984200e+06</td>\n",
       "    </tr>\n",
       "  </tbody>\n",
       "</table>\n",
       "</div>"
      ],
      "text/plain": [
       "           count           mean            std          min             1%  \\\n",
       "Open       431.0    2122.449765     159.523899  1474.449951    1649.044959   \n",
       "High       431.0    2134.756032     155.808986  1516.750000    1698.056970   \n",
       "Low        431.0    2106.976497     161.926432  1439.430054    1605.147998   \n",
       "Close      431.0    2121.195427     159.038127  1457.640015    1628.710962   \n",
       "Adj Close  431.0    2121.195427     159.038127  1457.640015    1628.710962   \n",
       "Volume     431.0  648225.719258  259363.722442     0.000000  265070.000000   \n",
       "\n",
       "                     10%            25%            50%            75%  \\\n",
       "Open         1928.979980    2057.589966    2132.379883    2211.449951   \n",
       "High         1938.619995    2065.619995    2141.270020    2220.595092   \n",
       "Low          1913.489990    2041.244995    2119.070068    2196.599976   \n",
       "Close        1927.280029    2055.299927    2131.239990    2209.244995   \n",
       "Adj Close    1927.280029    2055.299927    2131.239990    2209.244995   \n",
       "Volume     358600.000000  440650.000000  608700.000000  810950.000000   \n",
       "\n",
       "                     90%           99%           max  \n",
       "Open         2333.560059  2.424994e+03  2.455280e+03  \n",
       "High         2357.080078  2.434355e+03  2.458170e+03  \n",
       "Low          2322.639893  2.397982e+03  2.429940e+03  \n",
       "Close        2341.530029  2.425138e+03  2.443580e+03  \n",
       "Adj Close    2341.530029  2.425138e+03  2.443580e+03  \n",
       "Volume     979400.000000  1.418500e+06  1.984200e+06  "
      ]
     },
     "execution_count": 8,
     "metadata": {},
     "output_type": "execute_result"
    }
   ],
   "source": [
    "#(3) Check the statistics of `kospi_raw`\n",
    "kospi_raw.describe(percentiles=[0.01, 0.1, 0.25, 0.5, 0.75, 0.9, 0.99]).transpose()"
   ]
  },
  {
   "cell_type": "markdown",
   "metadata": {},
   "source": [
    "<b></b>"
   ]
  },
  {
   "cell_type": "markdown",
   "metadata": {},
   "source": [
    "## 02. **데이터셋 전처리**"
   ]
  },
  {
   "cell_type": "markdown",
   "metadata": {},
   "source": [
    "#### 02.3. **학습 및 검증 데이터셋 분리**"
   ]
  },
  {
   "cell_type": "code",
   "execution_count": 9,
   "metadata": {},
   "outputs": [],
   "source": [
    "#(1)\n",
    "kospi = kospi_raw.loc[:, ['Open', 'High', 'Low', 'Volume', 'Close']].copy().astype(dtype=float)\n",
    "\n",
    "#(2)\n",
    "train_size = 0.5\n",
    "train_idx = int(len(kospi_raw)*train_size)\n",
    "\n",
    "#(3)\n",
    "kospi_train = kospi.iloc[:train_idx, :]\n",
    "kospi_test = kospi.iloc[train_idx:, :]"
   ]
  },
  {
   "cell_type": "markdown",
   "metadata": {},
   "source": [
    "#### 02.1. **스케일링 처리**"
   ]
  },
  {
   "cell_type": "code",
   "execution_count": 10,
   "metadata": {},
   "outputs": [],
   "source": [
    "#(1)\n",
    "scaler = sklearn.preprocessing.MinMaxScaler()\n",
    "\n",
    "#(2)\n",
    "kospi_train = pd.DataFrame(\n",
    "    data=scaler.fit_transform(X=kospi_train), \n",
    "    columns=kospi.columns\n",
    ")\n",
    "kospi_test = pd.DataFrame(\n",
    "    data=scaler.transform(X=kospi_test), \n",
    "    columns=kospi.columns\n",
    ")"
   ]
  },
  {
   "cell_type": "markdown",
   "metadata": {},
   "source": [
    "#### 02.2. **시퀀스 데이터로 변환** (윈도우 크기 : $ 5 $)"
   ]
  },
  {
   "cell_type": "code",
   "execution_count": 11,
   "metadata": {},
   "outputs": [],
   "source": [
    "#(1)\n",
    "seq_len = 5\n",
    "\n",
    "#(2)\n",
    "kospi_train = make_seq_data(df=kospi_train, target='Close', seq_len=seq_len)\n",
    "kospi_test = make_seq_data(df=kospi_test, target='Close', seq_len=seq_len)"
   ]
  },
  {
   "cell_type": "markdown",
   "metadata": {},
   "source": [
    "#### 02.4. **텐서 변환**"
   ]
  },
  {
   "cell_type": "code",
   "execution_count": 12,
   "metadata": {},
   "outputs": [],
   "source": [
    "kospi_train = MyTensorDataset(seq_data=kospi_train, data_type=torch.float32)\n",
    "kospi_test = MyTensorDataset(seq_data=kospi_test, data_type=torch.float32)"
   ]
  },
  {
   "cell_type": "markdown",
   "metadata": {},
   "source": [
    "#### 02.5. **데이터로더 변환**"
   ]
  },
  {
   "cell_type": "code",
   "execution_count": 13,
   "metadata": {},
   "outputs": [],
   "source": [
    "kospi_train_loader = torch.utils.data.DataLoader(dataset=kospi_train, batch_size=BATCH_SIZE, shuffle=True)\n",
    "kospi_test_loader = torch.utils.data.DataLoader(dataset=kospi_test, batch_size=BATCH_SIZE, shuffle=False)"
   ]
  },
  {
   "cell_type": "markdown",
   "metadata": {},
   "source": [
    "<b></b>"
   ]
  },
  {
   "cell_type": "markdown",
   "metadata": {},
   "source": [
    "## 03. **모델 구축 및 학습**"
   ]
  },
  {
   "cell_type": "markdown",
   "metadata": {},
   "source": [
    "#### 03.1. **모델 정의**"
   ]
  },
  {
   "cell_type": "code",
   "execution_count": 14,
   "metadata": {},
   "outputs": [],
   "source": [
    "#(1) Define hyper-parameter\n",
    "input_size = kospi_train[0][0].shape[1]\n",
    "layers_num = 2\n",
    "hidden_size = 8"
   ]
  },
  {
   "cell_type": "code",
   "execution_count": 15,
   "metadata": {},
   "outputs": [
    {
     "data": {
      "text/plain": [
       "==========================================================================================\n",
       "Layer (type:depth-idx)                   Output Shape              Param #\n",
       "==========================================================================================\n",
       "MySequenceModel                          [32, 1]                   --\n",
       "├─RNN: 1-1                               [32, 5, 8]                256\n",
       "├─Linear: 1-2                            [32, 1]                   41\n",
       "==========================================================================================\n",
       "Total params: 297\n",
       "Trainable params: 297\n",
       "Non-trainable params: 0\n",
       "Total mult-adds (M): 0.04\n",
       "==========================================================================================\n",
       "Input size (MB): 0.00\n",
       "Forward/backward pass size (MB): 0.01\n",
       "Params size (MB): 0.00\n",
       "Estimated Total Size (MB): 0.01\n",
       "=========================================================================================="
      ]
     },
     "execution_count": 15,
     "metadata": {},
     "output_type": "execute_result"
    }
   ],
   "source": [
    "#(2) Define `model`\n",
    "model = MySequenceModel(\n",
    "    input_size=input_size, \n",
    "    hidden_size=hidden_size, \n",
    "    seq_len=seq_len, \n",
    "    layers_num=layers_num,\n",
    "    device=device\n",
    ").to(dtype=torch.float32)\n",
    "\n",
    "#(3) Display `model`\n",
    "torchinfo.summary(\n",
    "    model=model, \n",
    "    input_size=[BATCH_SIZE]+list(kospi_train[0][0].shape),\n",
    "    device=device\n",
    ")"
   ]
  },
  {
   "cell_type": "code",
   "execution_count": 16,
   "metadata": {},
   "outputs": [],
   "source": [
    "#(4) Define loss function\n",
    "criterion = torch.nn.MSELoss()\n",
    "\n",
    "#(5) Define optimizer(optimization method)\n",
    "optimizer = torch.optim.Adam(params=model.parameters(), lr=1e-3, weight_decay=1e-7)\n",
    "\n",
    "#(6) Define Scheduler\n",
    "# scheduler = torch.optim.lr_scheduler.StepLR(optimizer=optimizer, step_size=30, gamma=0.1)"
   ]
  },
  {
   "cell_type": "markdown",
   "metadata": {},
   "source": [
    "#### 03.2. **모델 체크포인트 로드**"
   ]
  },
  {
   "cell_type": "code",
   "execution_count": 17,
   "metadata": {},
   "outputs": [
    {
     "name": "stdout",
     "output_type": "stream",
     "text": [
      ">> Epoch=0, Train Loss=inf\n"
     ]
    }
   ],
   "source": [
    "if USE_PRETRAIN_YN == 'Y' :\n",
    "    checkpoint = torch.load(f=MODEL_PTH)\n",
    "    model.load_state_dict(state_dict=checkpoint['model'])\n",
    "    optimizer.load_state_dict(state_dict=checkpoint['optimizer'])\n",
    "    epoch = checkpoint['epoch']\n",
    "    loss_hist = checkpoint['loss_hist']\n",
    "    best_loss = loss_hist[-1]\n",
    "else :\n",
    "    epoch = 0\n",
    "    loss_hist = []\n",
    "    best_loss = float('inf')\n",
    "print(f\">> Epoch={epoch}, Train Loss={best_loss}\")"
   ]
  },
  {
   "cell_type": "markdown",
   "metadata": {},
   "source": [
    "#### 03.3. **모델 학습**"
   ]
  },
  {
   "cell_type": "code",
   "execution_count": 18,
   "metadata": {},
   "outputs": [
    {
     "name": "stderr",
     "output_type": "stream",
     "text": [
      "100%|██████████| 1000/1000 [02:40<00:00,  6.24it/s, last_epoch=1000, last_loss=0.00235, best_epoch=918, best_loss=0.0022]\n"
     ]
    }
   ],
   "source": [
    "batch_len = len(kospi_train_loader)\n",
    "progress_bar = tqdm.trange(epoch, EPOCH_NUM)\n",
    "for epoch in progress_bar : \n",
    "    last_loss = 0.0\n",
    "    model.train()\n",
    "    for inputs, targets in kospi_train_loader :\n",
    "        optimizer.zero_grad() \n",
    "        preds = model(x=inputs)\n",
    "        loss = criterion(input=preds, target=targets.to(device=device))\n",
    "        loss.backward()\n",
    "        optimizer.step()\n",
    "        last_loss += loss.item()\n",
    "    last_loss_avg = last_loss / batch_len\n",
    "    loss_hist.append(last_loss_avg)\n",
    "    if last_loss_avg < best_loss :\n",
    "        best_epoch = epoch\n",
    "        best_loss = last_loss_avg\n",
    "        torch.save(\n",
    "            obj={\n",
    "                'epoch'     : epoch,\n",
    "                'loss_hist' : loss_hist,\n",
    "                'model'     : model.state_dict(),\n",
    "                'optimizer' : optimizer.state_dict()\n",
    "            }, \n",
    "            f=MODEL_PTH\n",
    "        )\n",
    "    # scheduler.step()\n",
    "    progress_bar.set_postfix(ordered_dict={'last_epoch':epoch+1, 'last_loss':last_loss_avg, 'best_epoch':best_epoch, 'best_loss':best_loss})"
   ]
  },
  {
   "cell_type": "markdown",
   "metadata": {},
   "source": [
    "<b></b>"
   ]
  },
  {
   "cell_type": "markdown",
   "metadata": {},
   "source": [
    "## 04. **모델 평가**"
   ]
  },
  {
   "cell_type": "markdown",
   "metadata": {},
   "source": [
    "#### 04.1. **최적 성능 모델 로드**"
   ]
  },
  {
   "cell_type": "code",
   "execution_count": 19,
   "metadata": {},
   "outputs": [
    {
     "name": "stdout",
     "output_type": "stream",
     "text": [
      ">> Best Epoch : 918, Best Loss : 0.002204467941607748\n"
     ]
    }
   ],
   "source": [
    "checkpoint = torch.load(f=MODEL_PTH)\n",
    "model.load_state_dict(state_dict=checkpoint['model'])\n",
    "print(f'>> Best Epoch : {checkpoint[\"epoch\"]}, Best Loss : {checkpoint[\"loss_hist\"][-1]}')"
   ]
  },
  {
   "cell_type": "markdown",
   "metadata": {},
   "source": [
    "#### 04.2. **과소 적합 확인**"
   ]
  },
  {
   "cell_type": "code",
   "execution_count": 20,
   "metadata": {},
   "outputs": [
    {
     "data": {
      "image/png": "[encoded data removed]",
      "text/plain": [
       "<Figure size 1200x600 with 1 Axes>"
      ]
     },
     "metadata": {},
     "output_type": "display_data"
    }
   ],
   "source": [
    "#(1) Plot traing loss\n",
    "plt.figure(figsize=(12, 6))\n",
    "plt.title(label='Training Loss')\n",
    "plt.xlabel(xlabel='epoch')\n",
    "plt.ylabel(ylabel='loss')\n",
    "plt.plot(loss_hist)\n",
    "plt.show()"
   ]
  },
  {
   "cell_type": "code",
   "execution_count": 21,
   "metadata": {},
   "outputs": [
    {
     "name": "stdout",
     "output_type": "stream",
     "text": [
      ">> Train RMSE: 0.048156121442432295\n"
     ]
    }
   ],
   "source": [
    "#(2) Check RMSE\n",
    "rmse_train = compute_rmse(model=model, loader=kospi_train_loader)\n",
    "print(f'>> Train RMSE: {rmse_train}')"
   ]
  },
  {
   "cell_type": "markdown",
   "metadata": {},
   "source": [
    "#### 04.3. **일반화 성능 평가**"
   ]
  },
  {
   "cell_type": "code",
   "execution_count": 22,
   "metadata": {},
   "outputs": [
    {
     "name": "stdout",
     "output_type": "stream",
     "text": [
      ">> Test RMSE : 0.14369326936470253\n"
     ]
    }
   ],
   "source": [
    "#(1) Check RMSE\n",
    "rmse_test = compute_rmse(model=model, loader=kospi_test_loader)\n",
    "print(f'>> Test RMSE : {rmse_test}')"
   ]
  },
  {
   "cell_type": "code",
   "execution_count": 23,
   "metadata": {},
   "outputs": [
    {
     "data": {
      "image/png": "[encoded data removed]",
      "text/plain": [
       "<Figure size 1600x800 with 1 Axes>"
      ]
     },
     "metadata": {},
     "output_type": "display_data"
    }
   ],
   "source": [
    "#(2)\n",
    "kospi_train_loader = torch.utils.data.DataLoader(dataset=kospi_train, batch_size=BATCH_SIZE, shuffle=False) # no shuffle\n",
    "plot_compare(model=model, train_loader=kospi_train_loader, test_loader=kospi_test_loader)"
   ]
  }
 ],
 "metadata": {
  "kernelspec": {
   "display_name": "PYTCH",
   "language": "python",
   "name": "python3"
  },
  "language_info": {
   "codemirror_mode": {
    "name": "ipython",
    "version": 3
   },
   "file_extension": ".py",
   "mimetype": "text/x-python",
   "name": "python",
   "nbconvert_exporter": "python",
   "pygments_lexer": "ipython3",
   "version": "3.10.16"
  }
 },
 "nbformat": 4,
 "nbformat_minor": 2
}
