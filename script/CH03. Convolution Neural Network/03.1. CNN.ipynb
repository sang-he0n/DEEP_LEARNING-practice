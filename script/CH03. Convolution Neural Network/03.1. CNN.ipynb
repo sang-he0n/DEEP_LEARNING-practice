{
 "cells": [
  {
   "cell_type": "markdown",
   "metadata": {},
   "source": [
    "# CH03.1. **합성곱 신경망(Convolution Neural Network)**"
   ]
  },
  {
   "cell_type": "markdown",
   "metadata": {},
   "source": [
    "## 00. **작업 환경 설정**"
   ]
  },
  {
   "cell_type": "markdown",
   "metadata": {},
   "source": [
    "#### 00.0. **사전 변수 설정**"
   ]
  },
  {
   "cell_type": "code",
   "execution_count": 1,
   "metadata": {},
   "outputs": [],
   "source": [
    "SEED_NUM = 2025\n",
    "BATCH_SIZE = 32\n",
    "EPOCH_NUM = 100\n",
    "USE_PRETRAIN_YN = 'Y'\n",
    "MODEL_PTH = '../../model/cifaClf.pt'"
   ]
  },
  {
   "cell_type": "markdown",
   "metadata": {},
   "source": [
    "#### 00.1. **라이브러리 호출 및 옵션 설정**"
   ]
  },
  {
   "cell_type": "code",
   "execution_count": 2,
   "metadata": {},
   "outputs": [
    {
     "name": "stdout",
     "output_type": "stream",
     "text": [
      ">> Device : mps\n"
     ]
    }
   ],
   "source": [
    "#(1) Import libraries\n",
    "import os\n",
    "import random\n",
    "import tqdm\n",
    "import collections\n",
    "import numpy as np\n",
    "import pandas as pd\n",
    "import matplotlib.pyplot as plt \n",
    "import sklearn\n",
    "import torch\n",
    "import torchvision\n",
    "import torchinfo\n",
    "\n",
    "#(2) Set options\n",
    "os.environ['PYTHONHASHSEED'] = str(SEED_NUM)\n",
    "random.seed(a=SEED_NUM)\n",
    "np.random.seed(seed=SEED_NUM)\n",
    "torch.use_deterministic_algorithms(mode=True)\n",
    "torch.manual_seed(seed=SEED_NUM)\n",
    "torch.mps.manual_seed(seed=SEED_NUM)\n",
    "\n",
    "#(3) Define device(hardware)\n",
    "if torch.backends.mps.is_available() :\n",
    "    device = torch.device(device='mps')\n",
    "else :\n",
    "    device = torch.device(device='cpu')\n",
    "print(f'>> Device : {device}')"
   ]
  },
  {
   "cell_type": "markdown",
   "metadata": {},
   "source": [
    "#### 00.2. **사용자정의함수 정의**"
   ]
  },
  {
   "cell_type": "code",
   "execution_count": 3,
   "metadata": {},
   "outputs": [],
   "source": [
    "#(1) Define `show_img()` function\n",
    "def show_img(df:torchvision.datasets, index:int) :\n",
    "    img = df[index][0]\n",
    "    target = df[index][1]\n",
    "    img = img / 2 + 0.5    \n",
    "    img = np.transpose(a=img.numpy(), axes=(1, 2, 0)) # axes 파라미터는 축 순서 변경\n",
    "    plt.imshow(X=img) \n",
    "    plt.xlabel(xlabel=f'Target : {target}({df.classes[target]})')\n",
    "    plt.show()\n",
    "\n",
    "#(2) Define `compute_metrics()` function\n",
    "def compute_metrics(model:torch.nn.Module, loader:torch.utils.data.DataLoader) :\n",
    "    _preds = []\n",
    "    _targets = []\n",
    "    model.eval()\n",
    "    with torch.no_grad() : \n",
    "        for inputs, targets in loader :\n",
    "            inputs = inputs.to(device=device) \n",
    "            targets = targets.to(device=device)\n",
    "            preds = model(x=inputs)\n",
    "            preds = torch.argmax(input=preds, dim=1)\n",
    "            _preds.extend(preds.cpu().numpy())\n",
    "            _targets.extend(targets.cpu().numpy())\n",
    "    model.train()\n",
    "    accuracy = sklearn.metrics.accuracy_score(y_true=_targets, y_pred=_preds)\n",
    "    precision = sklearn.metrics.precision_score(y_true=_targets, y_pred=_preds, average='weighted')\n",
    "    recall = sklearn.metrics.recall_score(y_true=_targets, y_pred=_preds, average='weighted')\n",
    "    f1 = sklearn.metrics.f1_score(y_true=_targets, y_pred=_preds, average='weighted')\n",
    "    output = pd.DataFrame(data={\n",
    "        'metricName' : ['accuracy', 'precision', 'recall', 'f1'], \n",
    "        'value'      : [accuracy, precision, recall, f1] \n",
    "    })\n",
    "    return output"
   ]
  },
  {
   "cell_type": "markdown",
   "metadata": {},
   "source": [
    "#### 00.3. **클래스 정의**"
   ]
  },
  {
   "cell_type": "code",
   "execution_count": 4,
   "metadata": {},
   "outputs": [],
   "source": [
    "#(1) Define `MyClassificationModel` class\n",
    "class MyClassificationModel(torch.nn.Module) :\n",
    "    def __init__(self, input_shape:tuple) :\n",
    "        super().__init__()\n",
    "        kernels = [3, 16, 32, 16, 8]\n",
    "        self.layers = torch.nn.ModuleDict()\n",
    "        for i in range(len(kernels)-1) :\n",
    "            cnn_block = torch.nn.ModuleList(modules=[\n",
    "                torch.nn.Conv2d(in_channels=kernels[i], out_channels=kernels[i+1], kernel_size=3, stride=1, padding=1),\n",
    "                torch.nn.ReLU(),\n",
    "                torch.nn.MaxPool2d(kernel_size=2, stride=2)\n",
    "            ])\n",
    "            self.layers[f'conv_{i}'] = cnn_block\n",
    "        _conv_out_features = self.compute_cnn_feats(input_shape=input_shape)\n",
    "        fc_block = torch.nn.ModuleList(modules=[\n",
    "            torch.nn.Linear(in_features=_conv_out_features, out_features=32),\n",
    "            torch.nn.ReLU()\n",
    "        ])\n",
    "        self.layers['fc_0'] = fc_block\n",
    "        self.layers['fc_1'] = torch.nn.Linear(in_features=32, out_features=10)\n",
    "    def compute_cnn_feats(self, input_shape) :\n",
    "        _layers = list(self.layers.values())\n",
    "        _output = torch.zeros(size=(1, *input_shape))\n",
    "        with torch.no_grad() :\n",
    "            for cnn_block in _layers :\n",
    "                for layer in cnn_block :\n",
    "                    _output = layer(_output)\n",
    "        return _output.reshape(shape=(_output.shape[0], -1)).shape[1]\n",
    "    def forward(self, x) :\n",
    "        _layers = list(self.layers.values())\n",
    "        for cnn_block in _layers[:-2] :\n",
    "            for layer in cnn_block :\n",
    "                x = layer(x)\n",
    "        x = x.reshape(shape=(x.shape[0], -1))\n",
    "        for fc_block in _layers[-2:-1]:\n",
    "            for layer in fc_block :\n",
    "                x = layer(x)\n",
    "        x = _layers[-1](x)\n",
    "        return x"
   ]
  },
  {
   "cell_type": "markdown",
   "metadata": {},
   "source": [
    "<b></b>"
   ]
  },
  {
   "cell_type": "markdown",
   "metadata": {},
   "source": [
    "## 01. **데이터셋 전처리 및 로드**"
   ]
  },
  {
   "cell_type": "markdown",
   "metadata": {},
   "source": [
    "#### 01.1. **이미지 전처리 파이프라인 정의**"
   ]
  },
  {
   "cell_type": "code",
   "execution_count": 5,
   "metadata": {},
   "outputs": [],
   "source": [
    "img_tf = torchvision.transforms.Compose(\n",
    "    transforms=[\n",
    "        torchvision.transforms.ToTensor(),\n",
    "        torchvision.transforms.Normalize(mean=(0.5, 0.5, 0.5), std=(0.5, 0.5, 0.5))\n",
    "    ]\n",
    ")"
   ]
  },
  {
   "cell_type": "markdown",
   "metadata": {},
   "source": [
    "#### 01.2. **데이터셋 로드**"
   ]
  },
  {
   "cell_type": "code",
   "execution_count": 6,
   "metadata": {},
   "outputs": [],
   "source": [
    "cifa_train = torchvision.datasets.CIFAR10(root='../../data', train=True, download=True, transform=img_tf)\n",
    "cifa_test = torchvision.datasets.CIFAR10(root='../../data', train=False, download=True, transform=img_tf)"
   ]
  },
  {
   "cell_type": "markdown",
   "metadata": {},
   "source": [
    "#### 01.3. **EDA**"
   ]
  },
  {
   "cell_type": "code",
   "execution_count": 7,
   "metadata": {},
   "outputs": [
    {
     "data": {
      "text/plain": [
       "50000"
      ]
     },
     "execution_count": 7,
     "metadata": {},
     "output_type": "execute_result"
    }
   ],
   "source": [
    "#(1) Print sample of train\n",
    "len(cifa_train)"
   ]
  },
  {
   "cell_type": "code",
   "execution_count": 8,
   "metadata": {},
   "outputs": [
    {
     "data": {
      "text/plain": [
       "torch.Size([3, 32, 32])"
      ]
     },
     "execution_count": 8,
     "metadata": {},
     "output_type": "execute_result"
    }
   ],
   "source": [
    "#(2) Print image shape \n",
    "cifa_train[0][0].shape"
   ]
  },
  {
   "cell_type": "code",
   "execution_count": 9,
   "metadata": {},
   "outputs": [
    {
     "data": {
      "text/html": [
       "<div>\n",
       "<style scoped>\n",
       "    .dataframe tbody tr th:only-of-type {\n",
       "        vertical-align: middle;\n",
       "    }\n",
       "\n",
       "    .dataframe tbody tr th {\n",
       "        vertical-align: top;\n",
       "    }\n",
       "\n",
       "    .dataframe thead th {\n",
       "        text-align: right;\n",
       "    }\n",
       "</style>\n",
       "<table border=\"1\" class=\"dataframe\">\n",
       "  <thead>\n",
       "    <tr style=\"text-align: right;\">\n",
       "      <th></th>\n",
       "      <th>class</th>\n",
       "      <th>count</th>\n",
       "    </tr>\n",
       "  </thead>\n",
       "  <tbody>\n",
       "    <tr>\n",
       "      <th>9</th>\n",
       "      <td>0</td>\n",
       "      <td>5000</td>\n",
       "    </tr>\n",
       "    <tr>\n",
       "      <th>3</th>\n",
       "      <td>1</td>\n",
       "      <td>5000</td>\n",
       "    </tr>\n",
       "    <tr>\n",
       "      <th>4</th>\n",
       "      <td>2</td>\n",
       "      <td>5000</td>\n",
       "    </tr>\n",
       "    <tr>\n",
       "      <th>7</th>\n",
       "      <td>3</td>\n",
       "      <td>5000</td>\n",
       "    </tr>\n",
       "    <tr>\n",
       "      <th>2</th>\n",
       "      <td>4</td>\n",
       "      <td>5000</td>\n",
       "    </tr>\n",
       "    <tr>\n",
       "      <th>8</th>\n",
       "      <td>5</td>\n",
       "      <td>5000</td>\n",
       "    </tr>\n",
       "    <tr>\n",
       "      <th>0</th>\n",
       "      <td>6</td>\n",
       "      <td>5000</td>\n",
       "    </tr>\n",
       "    <tr>\n",
       "      <th>5</th>\n",
       "      <td>7</td>\n",
       "      <td>5000</td>\n",
       "    </tr>\n",
       "    <tr>\n",
       "      <th>6</th>\n",
       "      <td>8</td>\n",
       "      <td>5000</td>\n",
       "    </tr>\n",
       "    <tr>\n",
       "      <th>1</th>\n",
       "      <td>9</td>\n",
       "      <td>5000</td>\n",
       "    </tr>\n",
       "  </tbody>\n",
       "</table>\n",
       "</div>"
      ],
      "text/plain": [
       "   class  count\n",
       "9      0   5000\n",
       "3      1   5000\n",
       "4      2   5000\n",
       "7      3   5000\n",
       "2      4   5000\n",
       "8      5   5000\n",
       "0      6   5000\n",
       "5      7   5000\n",
       "6      8   5000\n",
       "1      9   5000"
      ]
     },
     "execution_count": 9,
     "metadata": {},
     "output_type": "execute_result"
    }
   ],
   "source": [
    "#(3) Print frequency of target class\n",
    "target_freq = collections.Counter()\n",
    "for i in range(len(cifa_train)):\n",
    "    input, target = cifa_train[i]\n",
    "    if isinstance(target, torch.Tensor) :\n",
    "        target = target.item()\n",
    "    target_freq[target] += 1\n",
    "pd.DataFrame(data=list(target_freq.items()), columns=['class', 'count']).sort_values(by='class')"
   ]
  },
  {
   "cell_type": "code",
   "execution_count": 10,
   "metadata": {},
   "outputs": [
    {
     "data": {
      "image/png": "[encoded data removed]",
      "text/plain": [
       "<Figure size 640x480 with 1 Axes>"
      ]
     },
     "metadata": {},
     "output_type": "display_data"
    }
   ],
   "source": [
    "#(4) Display image\n",
    "show_img(df=cifa_train, index=5)"
   ]
  },
  {
   "cell_type": "markdown",
   "metadata": {},
   "source": [
    "#### 01.4. **데이터로더 변환**"
   ]
  },
  {
   "cell_type": "code",
   "execution_count": 11,
   "metadata": {},
   "outputs": [],
   "source": [
    "cifa_train_loader = torch.utils.data.DataLoader(dataset=cifa_train, batch_size=BATCH_SIZE, shuffle=True)\n",
    "cifa_test_loader = torch.utils.data.DataLoader(dataset=cifa_test, batch_size=BATCH_SIZE, shuffle=True)"
   ]
  },
  {
   "cell_type": "markdown",
   "metadata": {},
   "source": [
    "<b></b>"
   ]
  },
  {
   "cell_type": "markdown",
   "metadata": {},
   "source": [
    "## 03. **모델 구축 및 학습**"
   ]
  },
  {
   "cell_type": "markdown",
   "metadata": {},
   "source": [
    "#### 03.1. **모델 정의**"
   ]
  },
  {
   "cell_type": "code",
   "execution_count": 12,
   "metadata": {},
   "outputs": [
    {
     "data": {
      "text/plain": [
       "MyClassificationModel(\n",
       "  (layers): ModuleDict(\n",
       "    (conv_0): ModuleList(\n",
       "      (0): Conv2d(3, 16, kernel_size=(3, 3), stride=(1, 1), padding=(1, 1))\n",
       "      (1): ReLU()\n",
       "      (2): MaxPool2d(kernel_size=2, stride=2, padding=0, dilation=1, ceil_mode=False)\n",
       "    )\n",
       "    (conv_1): ModuleList(\n",
       "      (0): Conv2d(16, 32, kernel_size=(3, 3), stride=(1, 1), padding=(1, 1))\n",
       "      (1): ReLU()\n",
       "      (2): MaxPool2d(kernel_size=2, stride=2, padding=0, dilation=1, ceil_mode=False)\n",
       "    )\n",
       "    (conv_2): ModuleList(\n",
       "      (0): Conv2d(32, 16, kernel_size=(3, 3), stride=(1, 1), padding=(1, 1))\n",
       "      (1): ReLU()\n",
       "      (2): MaxPool2d(kernel_size=2, stride=2, padding=0, dilation=1, ceil_mode=False)\n",
       "    )\n",
       "    (conv_3): ModuleList(\n",
       "      (0): Conv2d(16, 8, kernel_size=(3, 3), stride=(1, 1), padding=(1, 1))\n",
       "      (1): ReLU()\n",
       "      (2): MaxPool2d(kernel_size=2, stride=2, padding=0, dilation=1, ceil_mode=False)\n",
       "    )\n",
       "    (fc_0): ModuleList(\n",
       "      (0): Linear(in_features=32, out_features=32, bias=True)\n",
       "      (1): ReLU()\n",
       "    )\n",
       "    (fc_1): Linear(in_features=32, out_features=10, bias=True)\n",
       "  )\n",
       ")"
      ]
     },
     "execution_count": 12,
     "metadata": {},
     "output_type": "execute_result"
    }
   ],
   "source": [
    "#(1) Define `model`\n",
    "model = MyClassificationModel(input_shape=(3, 32, 32)).to(dtype=torch.float32, device=device)\n",
    "\n",
    "#(2) Display `model`\n",
    "model"
   ]
  },
  {
   "cell_type": "code",
   "execution_count": 13,
   "metadata": {},
   "outputs": [
    {
     "data": {
      "text/plain": [
       "==========================================================================================\n",
       "Layer (type:depth-idx)                   Output Shape              Param #\n",
       "==========================================================================================\n",
       "MyClassificationModel                    [32, 10]                  --\n",
       "├─ModuleDict: 1-1                        --                        --\n",
       "│    └─ModuleList: 2-1                   --                        --\n",
       "│    │    └─Conv2d: 3-1                  [32, 16, 32, 32]          448\n",
       "│    │    └─ReLU: 3-2                    [32, 16, 32, 32]          --\n",
       "│    │    └─MaxPool2d: 3-3               [32, 16, 16, 16]          --\n",
       "│    └─ModuleList: 2-2                   --                        --\n",
       "│    │    └─Conv2d: 3-4                  [32, 32, 16, 16]          4,640\n",
       "│    │    └─ReLU: 3-5                    [32, 32, 16, 16]          --\n",
       "│    │    └─MaxPool2d: 3-6               [32, 32, 8, 8]            --\n",
       "│    └─ModuleList: 2-3                   --                        --\n",
       "│    │    └─Conv2d: 3-7                  [32, 16, 8, 8]            4,624\n",
       "│    │    └─ReLU: 3-8                    [32, 16, 8, 8]            --\n",
       "│    │    └─MaxPool2d: 3-9               [32, 16, 4, 4]            --\n",
       "│    └─ModuleList: 2-4                   --                        --\n",
       "│    │    └─Conv2d: 3-10                 [32, 8, 4, 4]             1,160\n",
       "│    │    └─ReLU: 3-11                   [32, 8, 4, 4]             --\n",
       "│    │    └─MaxPool2d: 3-12              [32, 8, 2, 2]             --\n",
       "│    └─ModuleList: 2-5                   --                        --\n",
       "│    │    └─Linear: 3-13                 [32, 32]                  1,056\n",
       "│    │    └─ReLU: 3-14                   [32, 32]                  --\n",
       "│    └─Linear: 2-6                       [32, 10]                  330\n",
       "==========================================================================================\n",
       "Total params: 12,258\n",
       "Trainable params: 12,258\n",
       "Non-trainable params: 0\n",
       "Total mult-adds (M): 62.80\n",
       "==========================================================================================\n",
       "Input size (MB): 0.39\n",
       "Forward/backward pass size (MB): 6.60\n",
       "Params size (MB): 0.05\n",
       "Estimated Total Size (MB): 7.04\n",
       "=========================================================================================="
      ]
     },
     "execution_count": 13,
     "metadata": {},
     "output_type": "execute_result"
    }
   ],
   "source": [
    "#(3)\n",
    "dummy = torch.randn(size=[BATCH_SIZE]+list(cifa_train[0][0].shape)).to(device=device)\n",
    "torchinfo.summary(model=model, input_data=dummy)"
   ]
  },
  {
   "cell_type": "code",
   "execution_count": 14,
   "metadata": {},
   "outputs": [],
   "source": [
    "#(4) Define loss function\n",
    "criterion = torch.nn.CrossEntropyLoss()\n",
    "\n",
    "#(5) Define optimizer(optimization method)\n",
    "optimizer = torch.optim.Adam(params=model.parameters(), lr=1e-2, weight_decay=1e-7)\n",
    "\n",
    "#(6) Define Scheduler\n",
    "# scheduler = torch.optim.lr_scheduler.StepLR(optimizer=optimizer, step_size=30, gamma=0.1)"
   ]
  },
  {
   "cell_type": "markdown",
   "metadata": {},
   "source": [
    "#### 03.2. **학습 전 변수 정의**"
   ]
  },
  {
   "cell_type": "code",
   "execution_count": 15,
   "metadata": {},
   "outputs": [
    {
     "name": "stdout",
     "output_type": "stream",
     "text": [
      ">> Epoch=96, Train Loss=1.339189835564875\n"
     ]
    }
   ],
   "source": [
    "batch_cnt = len(cifa_train_loader)\n",
    "if USE_PRETRAIN_YN == 'Y' :\n",
    "    checkpoint = torch.load(f=MODEL_PTH)\n",
    "    model.load_state_dict(state_dict=checkpoint['model'])\n",
    "    optimizer.load_state_dict(state_dict=checkpoint['optimizer'])\n",
    "    epoch = checkpoint['epoch']\n",
    "    loss_hist = checkpoint['loss_hist']\n",
    "    best_loss = loss_hist[-1]\n",
    "else :\n",
    "    epoch = 0\n",
    "    loss_hist = []\n",
    "    best_loss = float('inf')\n",
    "print(f\">> Epoch={epoch}, Train Loss={best_loss}\")"
   ]
  },
  {
   "cell_type": "markdown",
   "metadata": {},
   "source": [
    "#### 03.3. **모델 학습**"
   ]
  },
  {
   "cell_type": "code",
   "execution_count": 16,
   "metadata": {},
   "outputs": [
    {
     "name": "stderr",
     "output_type": "stream",
     "text": [
      "100%|██████████| 4/4 [01:10<00:00, 17.66s/it, epoch=100, loss=2.09e+3]\n"
     ]
    }
   ],
   "source": [
    "progress_bar = tqdm.trange(epoch, EPOCH_NUM)\n",
    "for epoch in progress_bar : \n",
    "    running_loss = 0.0\n",
    "    model.train()\n",
    "    for inputs, targets in cifa_train_loader :\n",
    "        inputs = inputs.to(device=device) \n",
    "        targets = targets.to(device=device)\n",
    "        optimizer.zero_grad() \n",
    "        preds = model(x=inputs)\n",
    "        loss = criterion(input=preds, target=targets)\n",
    "        loss.backward()\n",
    "        optimizer.step()\n",
    "        running_loss += loss.item()\n",
    "    running_loss_avg = running_loss / batch_cnt\n",
    "    loss_hist.append(running_loss_avg)\n",
    "    if running_loss_avg < best_loss :\n",
    "        best_loss = running_loss_avg\n",
    "        torch.save(\n",
    "            obj={\n",
    "                'epoch'     : epoch,\n",
    "                'loss_hist' : loss_hist,\n",
    "                'model'     : model.state_dict(),\n",
    "                'optimizer' : optimizer.state_dict()\n",
    "            }, \n",
    "            f=MODEL_PTH\n",
    "        )\n",
    "    # scheduler.step()\n",
    "    progress_bar.set_postfix(ordered_dict={'epoch':epoch+1, 'loss':running_loss}) "
   ]
  },
  {
   "cell_type": "markdown",
   "metadata": {},
   "source": [
    "<b></b>"
   ]
  },
  {
   "cell_type": "markdown",
   "metadata": {},
   "source": [
    "## 04. **모델 평가**"
   ]
  },
  {
   "cell_type": "markdown",
   "metadata": {},
   "source": [
    "#### 04.1. **최적 성능 모델 로드**"
   ]
  },
  {
   "cell_type": "code",
   "execution_count": 17,
   "metadata": {},
   "outputs": [
    {
     "name": "stdout",
     "output_type": "stream",
     "text": [
      ">> Epoch : 99, Loss : 1.3377135138212681\n"
     ]
    }
   ],
   "source": [
    "checkpoint = torch.load(f=MODEL_PTH)\n",
    "model.load_state_dict(state_dict=checkpoint['model'])\n",
    "print(f'>> Epoch : {checkpoint[\"epoch\"]}, Loss : {checkpoint[\"loss_hist\"][-1]}')"
   ]
  },
  {
   "cell_type": "markdown",
   "metadata": {},
   "source": [
    "#### 04.2. **학습 손실(Traing Loss) 확인**"
   ]
  },
  {
   "cell_type": "code",
   "execution_count": 18,
   "metadata": {},
   "outputs": [
    {
     "data": {
      "text/html": [
       "<div>\n",
       "<style scoped>\n",
       "    .dataframe tbody tr th:only-of-type {\n",
       "        vertical-align: middle;\n",
       "    }\n",
       "\n",
       "    .dataframe tbody tr th {\n",
       "        vertical-align: top;\n",
       "    }\n",
       "\n",
       "    .dataframe thead th {\n",
       "        text-align: right;\n",
       "    }\n",
       "</style>\n",
       "<table border=\"1\" class=\"dataframe\">\n",
       "  <thead>\n",
       "    <tr style=\"text-align: right;\">\n",
       "      <th></th>\n",
       "      <th>metricName</th>\n",
       "      <th>value</th>\n",
       "    </tr>\n",
       "  </thead>\n",
       "  <tbody>\n",
       "    <tr>\n",
       "      <th>0</th>\n",
       "      <td>accuracy</td>\n",
       "      <td>0.527100</td>\n",
       "    </tr>\n",
       "    <tr>\n",
       "      <th>1</th>\n",
       "      <td>precision</td>\n",
       "      <td>0.538129</td>\n",
       "    </tr>\n",
       "    <tr>\n",
       "      <th>2</th>\n",
       "      <td>recall</td>\n",
       "      <td>0.527100</td>\n",
       "    </tr>\n",
       "    <tr>\n",
       "      <th>3</th>\n",
       "      <td>f1</td>\n",
       "      <td>0.519921</td>\n",
       "    </tr>\n",
       "  </tbody>\n",
       "</table>\n",
       "</div>"
      ],
      "text/plain": [
       "  metricName     value\n",
       "0   accuracy  0.527100\n",
       "1  precision  0.538129\n",
       "2     recall  0.527100\n",
       "3         f1  0.519921"
      ]
     },
     "execution_count": 18,
     "metadata": {},
     "output_type": "execute_result"
    }
   ],
   "source": [
    "#(1) Check metrics\n",
    "compute_metrics(model=model, loader=cifa_train_loader)"
   ]
  },
  {
   "cell_type": "code",
   "execution_count": 19,
   "metadata": {},
   "outputs": [
    {
     "data": {
      "image/png": "[encoded data removed]",
      "text/plain": [
       "<Figure size 1200x600 with 1 Axes>"
      ]
     },
     "metadata": {},
     "output_type": "display_data"
    }
   ],
   "source": [
    "#(2) Plot traing loss\n",
    "plt.figure(figsize=(12, 6))\n",
    "plt.title(label='Training Loss')\n",
    "plt.xlabel(xlabel='epoch')\n",
    "plt.ylabel(ylabel='loss')\n",
    "plt.plot(loss_hist)\n",
    "plt.show()"
   ]
  },
  {
   "cell_type": "markdown",
   "metadata": {},
   "source": [
    "#### 04.3. **성능 평가**"
   ]
  },
  {
   "cell_type": "code",
   "execution_count": 20,
   "metadata": {},
   "outputs": [
    {
     "data": {
      "text/html": [
       "<div>\n",
       "<style scoped>\n",
       "    .dataframe tbody tr th:only-of-type {\n",
       "        vertical-align: middle;\n",
       "    }\n",
       "\n",
       "    .dataframe tbody tr th {\n",
       "        vertical-align: top;\n",
       "    }\n",
       "\n",
       "    .dataframe thead th {\n",
       "        text-align: right;\n",
       "    }\n",
       "</style>\n",
       "<table border=\"1\" class=\"dataframe\">\n",
       "  <thead>\n",
       "    <tr style=\"text-align: right;\">\n",
       "      <th></th>\n",
       "      <th>metricName</th>\n",
       "      <th>value</th>\n",
       "    </tr>\n",
       "  </thead>\n",
       "  <tbody>\n",
       "    <tr>\n",
       "      <th>0</th>\n",
       "      <td>accuracy</td>\n",
       "      <td>0.506300</td>\n",
       "    </tr>\n",
       "    <tr>\n",
       "      <th>1</th>\n",
       "      <td>precision</td>\n",
       "      <td>0.513014</td>\n",
       "    </tr>\n",
       "    <tr>\n",
       "      <th>2</th>\n",
       "      <td>recall</td>\n",
       "      <td>0.506300</td>\n",
       "    </tr>\n",
       "    <tr>\n",
       "      <th>3</th>\n",
       "      <td>f1</td>\n",
       "      <td>0.498088</td>\n",
       "    </tr>\n",
       "  </tbody>\n",
       "</table>\n",
       "</div>"
      ],
      "text/plain": [
       "  metricName     value\n",
       "0   accuracy  0.506300\n",
       "1  precision  0.513014\n",
       "2     recall  0.506300\n",
       "3         f1  0.498088"
      ]
     },
     "execution_count": 20,
     "metadata": {},
     "output_type": "execute_result"
    }
   ],
   "source": [
    "compute_metrics(model=model, loader=cifa_test_loader)"
   ]
  }
 ],
 "metadata": {
  "kernelspec": {
   "display_name": "PYTCH",
   "language": "python",
   "name": "python3"
  },
  "language_info": {
   "codemirror_mode": {
    "name": "ipython",
    "version": 3
   },
   "file_extension": ".py",
   "mimetype": "text/x-python",
   "name": "python",
   "nbconvert_exporter": "python",
   "pygments_lexer": "ipython3",
   "version": "3.10.16"
  }
 },
 "nbformat": 4,
 "nbformat_minor": 2
}
