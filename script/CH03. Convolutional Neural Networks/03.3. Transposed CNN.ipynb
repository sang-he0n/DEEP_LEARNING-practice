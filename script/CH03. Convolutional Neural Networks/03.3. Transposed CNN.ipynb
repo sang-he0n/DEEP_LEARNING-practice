{
 "cells": [
  {
   "cell_type": "markdown",
   "metadata": {},
   "source": [
    "# CH03.3. **Transposed CNN**"
   ]
  },
  {
   "cell_type": "markdown",
   "metadata": {},
   "source": [
    "## 00. **작업 환경 설정**"
   ]
  },
  {
   "cell_type": "markdown",
   "metadata": {},
   "source": [
    "#### 00.0. **사전 변수 설정**"
   ]
  },
  {
   "cell_type": "code",
   "execution_count": 1,
   "metadata": {},
   "outputs": [],
   "source": [
    "SEED_NUM = 2025\n",
    "BATCH_SIZE = 32\n",
    "EPOCH_NUM = 100\n",
    "USE_CHECKPOINT_YN = 'N'\n",
    "MODEL_PTH = '../../model/mnistAutoEncoder.pt'\n",
    "LOGGER_PTH = '../../log/mnistTrainLogger.pt'"
   ]
  },
  {
   "cell_type": "markdown",
   "metadata": {},
   "source": [
    "#### 00.1. **라이브러리 호출 및 옵션 설정**"
   ]
  },
  {
   "cell_type": "code",
   "execution_count": 2,
   "metadata": {},
   "outputs": [
    {
     "name": "stdout",
     "output_type": "stream",
     "text": [
      ">> Device : mps\n"
     ]
    },
    {
     "data": {
      "application/vnd.jupyter.widget-view+json": {
       "model_id": "5f7e4819ec7942ea8b2c380af39b9cce",
       "version_major": 2,
       "version_minor": 0
      },
      "text/plain": [
       "HTML(value='')"
      ]
     },
     "metadata": {},
     "output_type": "display_data"
    }
   ],
   "source": [
    "#(1) Import libraries\n",
    "import os\n",
    "import ipywidgets\n",
    "import random\n",
    "import tqdm\n",
    "import collections\n",
    "import numpy as np\n",
    "import pandas as pd\n",
    "import matplotlib.pyplot as plt \n",
    "import torch\n",
    "import torchvision\n",
    "import torchinfo\n",
    "\n",
    "#(2) Set up options\n",
    "os.environ['PYTHONHASHSEED'] = str(SEED_NUM)\n",
    "random.seed(a=SEED_NUM)\n",
    "np.random.seed(seed=SEED_NUM)\n",
    "torch.use_deterministic_algorithms(mode=True)\n",
    "torch.manual_seed(seed=SEED_NUM)\n",
    "torch.mps.manual_seed(seed=SEED_NUM)\n",
    "\n",
    "#(3) Set up device\n",
    "if torch.backends.mps.is_available() :\n",
    "    device = torch.device(device='mps')\n",
    "else :\n",
    "    device = torch.device(device='cpu')\n",
    "print(f'>> Device : {device}')\n",
    "\n",
    "#(4) Set up HTML tag\n",
    "display(ipywidgets.HTML(data=\n",
    "'''\n",
    "<style> \n",
    "    .white-play button {\n",
    "        background-color: white !important; \n",
    "        color: black !important;\n",
    "    } \n",
    "</style>\n",
    "'''\n",
    "))"
   ]
  },
  {
   "cell_type": "markdown",
   "metadata": {},
   "source": [
    "#### 00.2. **사용자정의함수 정의**"
   ]
  },
  {
   "cell_type": "code",
   "execution_count": 3,
   "metadata": {},
   "outputs": [],
   "source": [
    "def show_img(df:torchvision.datasets, index:int) -> plt.figure :\n",
    "    img = df[index][0]\n",
    "    target = df[index][1]\n",
    "    img = (img/2+0.5).numpy() # -1 ~ 1 normalization \n",
    "    channel_cnt = img.shape[0]\n",
    "    if channel_cnt == 3 :\n",
    "        img = np.transpose(a=img, axes=(1, 2, 0))\n",
    "        plt.imshow(X=img) \n",
    "    elif channel_cnt == 1 : \n",
    "        img = np.squeeze(a=img, axis=0)\n",
    "        plt.imshow(X=img, cmap='gray')\n",
    "    else : \n",
    "        pass \n",
    "    plt.xlabel(xlabel=f'Target : {target}({df.classes[target]})')\n",
    "    plt.show()"
   ]
  },
  {
   "cell_type": "markdown",
   "metadata": {},
   "source": [
    "#### 00.3. **클래스 정의**"
   ]
  },
  {
   "cell_type": "code",
   "execution_count": 4,
   "metadata": {},
   "outputs": [],
   "source": [
    "#(1) Define `Flatten` class\n",
    "class Flatten(torch.nn.Module) :\n",
    "    def forward(self, x:torch.Tensor) -> torch.Tensor :\n",
    "        '''\n",
    "            (batch size, channel size , (image) height, image width) -> (batch size, channel size * image width * image height) \n",
    "                                                                     -> (batch size, channel size * (image size)**2) \n",
    "        '''\n",
    "        batch_size = x.shape[0]\n",
    "        x = x.reshape(shape=(batch_size, -1))\n",
    "        return x \n",
    "\n",
    "#(2) Define `Unflatten` class\n",
    "class Unflatten(torch.nn.Module) :\n",
    "    def __init__(self, channel_num:int) :\n",
    "        super().__init__()\n",
    "        self.channel_num = channel_num\n",
    "    def forward(self, x:torch.Tensor) -> torch.Tensor :\n",
    "        ''' \n",
    "            (batch size, channel size * (image) height * width) -> (batch size, channel size, height, width) \n",
    "        '''\n",
    "        shape = x.shape\n",
    "        img_size = int((shape[1]//self.channel_num)**0.5) \n",
    "        x = x.reshape(shape=(shape[0], self.channel_num, img_size, img_size))\n",
    "        return  x \n",
    "    \n",
    "#(3) Define `MyConvAutoEncoder` class\n",
    "class MyConvAutoEncoder(torch.nn.Module) :\n",
    "    def __init__(self, input_shape:list, channel_num:int, class_num:int, device:torch.device) :\n",
    "        super().__init__()\n",
    "        self.input_shape = input_shape\n",
    "        self.channel_num = channel_num\n",
    "        self.device = device\n",
    "        flattened_size = self._compute_flatten_size()\n",
    "        self.encoder = torch.nn.Sequential(\n",
    "            torch.nn.Conv2d(in_channels=1, out_channels=channel_num, kernel_size=3, stride=2), \n",
    "            torch.nn.ReLU(), \n",
    "            torch.nn.Conv2d(in_channels=channel_num, out_channels=2*channel_num, kernel_size=3, stride=2),\n",
    "            torch.nn.ReLU(), \n",
    "            torch.nn.Conv2d(in_channels=2*channel_num, out_channels=4*channel_num, kernel_size=3, stride=1),\n",
    "            torch.nn.ReLU(),\n",
    "            Flatten(),\n",
    "            torch.nn.Linear(in_features=flattened_size, out_features=class_num), \n",
    "            torch.nn.ReLU()\n",
    "        )\n",
    "        self.decoder = torch.nn.Sequential(\n",
    "            torch.nn.Linear(10, 1024),\n",
    "            torch.nn.ReLU(),\n",
    "            Unflatten(channel_num=4*channel_num),\n",
    "            torch.nn.ConvTranspose2d(in_channels=4*channel_num, out_channels=2*channel_num, kernel_size=3, stride=1),\n",
    "            torch.nn.ReLU(),\n",
    "            torch.nn.ConvTranspose2d(in_channels=2*channel_num, out_channels=channel_num, kernel_size=3, stride=2),\n",
    "            torch.nn.ReLU(),\n",
    "            torch.nn.ConvTranspose2d(in_channels=channel_num, out_channels=1, kernel_size=3, stride=2, output_padding=1)\n",
    "        )\n",
    "        self.to(device=device)\n",
    "    def _compute_flatten_size(self) -> int :\n",
    "        with torch.no_grad() :\n",
    "            dummy_data = torch.zeros(size=(1, 1, self.input_shape[1], self.input_shape[2])).to(device=self.device)\n",
    "            dummy_fn = torch.nn.Sequential(\n",
    "                torch.nn.Conv2d(in_channels=1, out_channels=self.channel_num, kernel_size=3, stride=2), \n",
    "                torch.nn.ReLU(), \n",
    "                torch.nn.Conv2d(in_channels=self.channel_num, out_channels=2*self.channel_num, kernel_size=3, stride=2),\n",
    "                torch.nn.ReLU(), \n",
    "                torch.nn.Conv2d(in_channels=2*self.channel_num, out_channels=4*self.channel_num, kernel_size=3, stride=1),\n",
    "                torch.nn.ReLU()\n",
    "            ).to(device=device)\n",
    "            output = dummy_fn(dummy_data)\n",
    "        output = output.reshape(shape=(1, -1)).shape[1]\n",
    "        return output\n",
    "    def forward(self, x:torch.Tensor) -> torch.Tensor :\n",
    "        x = x.to(device=device)\n",
    "        x = self.encoder(x)\n",
    "        x = self.decoder(x)\n",
    "        return x\n",
    "\n",
    "#(3) Define `TrainLogger` class\n",
    "class TrainLogger : \n",
    "    def __init__(self) :\n",
    "        self.train_log = {\n",
    "            'epoch'  : [],\n",
    "            'inputs' : [],\n",
    "            'preds'  : []\n",
    "        }\n",
    "    def log(self, epoch:int, inputs:torch.Tensor, preds:torch.Tensor, path:str) :\n",
    "        self.train_log['epoch'].append(epoch)\n",
    "        self.train_log['inputs'].append(inputs)\n",
    "        self.train_log['preds'].append(preds)\n",
    "        torch.save(obj={'train_log':self.train_log}, f=path)\n",
    "    def move_device(self, device:str) :\n",
    "        for i in range(len(self.train_log['inputs'])) :\n",
    "            if (device == 'cpu') :\n",
    "                self.train_log['inputs'][i] = self.train_log['inputs'][i].detach().cpu().numpy()\n",
    "                self.train_log['preds'][i] = self.train_log['preds'][i].detach().cpu().numpy()\n",
    "            else :\n",
    "                self.train_log['inputs'][i] = self.train_log['inputs'][i].to(device=device)\n",
    "                self.train_log['preds'][i] = self.train_log['preds'][i].to(device=device)\n",
    "\n",
    "#(4) Define `Visualizer` class\n",
    "class Visualizer :    \n",
    "    def __init__(self, train_log:dict, fig_size:tuple=(8, 8)) :\n",
    "        self.train_log = train_log\n",
    "        self.fig_size = fig_size\n",
    "        self.epoch_min = min(self.train_log['epoch'])\n",
    "        self.epoch_max = max(self.train_log['epoch'])\n",
    "        self.epoch_num = len(train_log['epoch']) - 1\n",
    "        self.sample_num = train_log['inputs'][0].shape[0] - 1\n",
    "        self.widget_output = ipywidgets.Output(\n",
    "            layout=ipywidgets.Layout(\n",
    "                width='auto', \n",
    "                height='auto', \n",
    "                margin='0px', \n",
    "                padding='0px'\n",
    "            )\n",
    "        )\n",
    "        self.epoch_play = ipywidgets.Play(\n",
    "            min=self.epoch_min,\n",
    "            max=self.epoch_max,\n",
    "            step=1,\n",
    "            value=0,\n",
    "            interval=250,\n",
    "            description='Epoch Play',\n",
    "            disabled=False\n",
    "        )\n",
    "        self.epoch_play.add_class(className='white-play')\n",
    "        self.epoch_slider = ipywidgets.IntSlider(\n",
    "            min=self.epoch_min,\n",
    "            max=self.epoch_max,\n",
    "            step=1,\n",
    "            value=0,\n",
    "            description='Epoch',\n",
    "            continuous_update=True,\n",
    "            orientation='horizontal',\n",
    "            readout=True,\n",
    "            readout_format='d'\n",
    "        )\n",
    "        self.sample_slider = ipywidgets.IntSlider(\n",
    "            min=0,\n",
    "            max=self.sample_num,\n",
    "            step=1,\n",
    "            value=0,\n",
    "            description='Sample',\n",
    "            continuous_update=True,\n",
    "            orientation='horizontal',\n",
    "            readout=True,\n",
    "            readout_format='d'\n",
    "        )\n",
    "        ipywidgets.jslink(attr1=(self.epoch_play, 'value'), attr2=(self.epoch_slider, 'value'))\n",
    "        self.epoch_slider.observe(handler=self.on_epoch_change, names='value')\n",
    "        self.sample_slider.observe(handler=self.on_sample_change, names='value')\n",
    "        with self.widget_output:\n",
    "            self.fig, (self.ax1, self.ax2) = plt.subplots(nrows=1, ncols=2, figsize=self.fig_size)\n",
    "            try:\n",
    "                self.fig.canvas.header_visible = False\n",
    "                self.fig.canvas.toolbar_visible = False\n",
    "            except:\n",
    "                pass\n",
    "            plt.show()\n",
    "        self.update_view()\n",
    "    def on_epoch_change(self, change:dict) :\n",
    "        self.update_view()\n",
    "    def on_sample_change(self, change:dict) :\n",
    "        self.update_view()\n",
    "    def update_view(self) :\n",
    "        with self.widget_output:\n",
    "            self.ax1.clear()\n",
    "            self.ax2.clear()\n",
    "            ep_value = self.epoch_slider.value\n",
    "            ep_idx = self.train_log['epoch'].index(ep_value)\n",
    "            sp_idx = self.sample_slider.value\n",
    "            input_img = self.train_log['inputs'][ep_idx][sp_idx].squeeze()\n",
    "            pred_img = self.train_log['preds'][ep_idx][sp_idx].squeeze()\n",
    "            self.ax1.imshow(X=input_img, cmap='gray')\n",
    "            self.ax1.set_title(label='Target', fontdict={'fontsize': 12})\n",
    "            self.ax1.set_aspect(aspect='auto')\n",
    "            self.ax1.axis('off')\n",
    "            self.ax2.imshow(X=pred_img, cmap='gray')\n",
    "            self.ax2.set_title(label='Prediction', fontdict={'fontsize': 12})\n",
    "            self.ax2.set_aspect(aspect='auto')\n",
    "            self.ax2.axis('off')\n",
    "            self.fig.canvas.draw_idle()\n",
    "    def plot_compare(self) -> ipywidgets.widgets :\n",
    "        controls_box = ipywidgets.VBox(\n",
    "            children=[\n",
    "                self.epoch_slider,\n",
    "                self.sample_slider,\n",
    "                self.epoch_play\n",
    "            ],\n",
    "            layout=ipywidgets.Layout(\n",
    "                align_items='center',\n",
    "                margin='0% 0% 15% -5%'\n",
    "            )\n",
    "        )\n",
    "        ui = ipywidgets.HBox(\n",
    "            children=[self.widget_output, controls_box],\n",
    "            layout=ipywidgets.Layout(\n",
    "                justify_content='flex-start',\n",
    "                align_items='center',\n",
    "                width='auto',\n",
    "                margin='0px',\n",
    "                padding='0px'\n",
    "            )\n",
    "        )\n",
    "        display(ui)"
   ]
  },
  {
   "cell_type": "markdown",
   "metadata": {},
   "source": [
    "<b></b>"
   ]
  },
  {
   "cell_type": "markdown",
   "metadata": {},
   "source": [
    "## 01. **데이터셋 전처리 및 로드**"
   ]
  },
  {
   "cell_type": "markdown",
   "metadata": {},
   "source": [
    "#### 01.1. **이미지 전처리 파이프라인 정의**"
   ]
  },
  {
   "cell_type": "code",
   "execution_count": 5,
   "metadata": {},
   "outputs": [],
   "source": [
    "img_tf = torchvision.transforms.Compose(\n",
    "    transforms=[\n",
    "        torchvision.transforms.ToTensor()\n",
    "    ]\n",
    ")"
   ]
  },
  {
   "cell_type": "markdown",
   "metadata": {},
   "source": [
    "#### 01.2. **데이터셋 로드**"
   ]
  },
  {
   "cell_type": "code",
   "execution_count": 6,
   "metadata": {},
   "outputs": [],
   "source": [
    "mnist_train = torchvision.datasets.MNIST(root='../../data', train=True, download=True, transform=img_tf)\n",
    "mnist_test = torchvision.datasets.MNIST(root='../../data', train=False, download=True, transform=img_tf)"
   ]
  },
  {
   "cell_type": "markdown",
   "metadata": {},
   "source": [
    "#### 01.3. **EDA**"
   ]
  },
  {
   "cell_type": "code",
   "execution_count": 7,
   "metadata": {},
   "outputs": [
    {
     "data": {
      "text/plain": [
       "60000"
      ]
     },
     "execution_count": 7,
     "metadata": {},
     "output_type": "execute_result"
    }
   ],
   "source": [
    "#(1) Print sample of train\n",
    "len(mnist_train)"
   ]
  },
  {
   "cell_type": "code",
   "execution_count": 8,
   "metadata": {},
   "outputs": [
    {
     "data": {
      "image/png": "[encoded data removed]",
      "text/plain": [
       "<Figure size 640x480 with 1 Axes>"
      ]
     },
     "metadata": {},
     "output_type": "display_data"
    }
   ],
   "source": [
    "#(2) Display image\n",
    "show_img(df=mnist_train, index=5)"
   ]
  },
  {
   "cell_type": "code",
   "execution_count": 9,
   "metadata": {},
   "outputs": [
    {
     "data": {
      "text/plain": [
       "[1, 28, 28]"
      ]
     },
     "execution_count": 9,
     "metadata": {},
     "output_type": "execute_result"
    }
   ],
   "source": [
    "#(3) Check `input_size`\n",
    "input_shape = list(mnist_train[0][0].shape)\n",
    "\n",
    "#(4) Print `input_size`\n",
    "input_shape"
   ]
  },
  {
   "cell_type": "code",
   "execution_count": 10,
   "metadata": {},
   "outputs": [
    {
     "data": {
      "text/html": [
       "<div>\n",
       "<style scoped>\n",
       "    .dataframe tbody tr th:only-of-type {\n",
       "        vertical-align: middle;\n",
       "    }\n",
       "\n",
       "    .dataframe tbody tr th {\n",
       "        vertical-align: top;\n",
       "    }\n",
       "\n",
       "    .dataframe thead th {\n",
       "        text-align: right;\n",
       "    }\n",
       "</style>\n",
       "<table border=\"1\" class=\"dataframe\">\n",
       "  <thead>\n",
       "    <tr style=\"text-align: right;\">\n",
       "      <th></th>\n",
       "      <th>class</th>\n",
       "      <th>count</th>\n",
       "    </tr>\n",
       "  </thead>\n",
       "  <tbody>\n",
       "    <tr>\n",
       "      <th>1</th>\n",
       "      <td>0</td>\n",
       "      <td>5923</td>\n",
       "    </tr>\n",
       "    <tr>\n",
       "      <th>3</th>\n",
       "      <td>1</td>\n",
       "      <td>6742</td>\n",
       "    </tr>\n",
       "    <tr>\n",
       "      <th>5</th>\n",
       "      <td>2</td>\n",
       "      <td>5958</td>\n",
       "    </tr>\n",
       "    <tr>\n",
       "      <th>6</th>\n",
       "      <td>3</td>\n",
       "      <td>6131</td>\n",
       "    </tr>\n",
       "    <tr>\n",
       "      <th>2</th>\n",
       "      <td>4</td>\n",
       "      <td>5842</td>\n",
       "    </tr>\n",
       "    <tr>\n",
       "      <th>0</th>\n",
       "      <td>5</td>\n",
       "      <td>5421</td>\n",
       "    </tr>\n",
       "    <tr>\n",
       "      <th>7</th>\n",
       "      <td>6</td>\n",
       "      <td>5918</td>\n",
       "    </tr>\n",
       "    <tr>\n",
       "      <th>8</th>\n",
       "      <td>7</td>\n",
       "      <td>6265</td>\n",
       "    </tr>\n",
       "    <tr>\n",
       "      <th>9</th>\n",
       "      <td>8</td>\n",
       "      <td>5851</td>\n",
       "    </tr>\n",
       "    <tr>\n",
       "      <th>4</th>\n",
       "      <td>9</td>\n",
       "      <td>5949</td>\n",
       "    </tr>\n",
       "  </tbody>\n",
       "</table>\n",
       "</div>"
      ],
      "text/plain": [
       "   class  count\n",
       "1      0   5923\n",
       "3      1   6742\n",
       "5      2   5958\n",
       "6      3   6131\n",
       "2      4   5842\n",
       "0      5   5421\n",
       "7      6   5918\n",
       "8      7   6265\n",
       "9      8   5851\n",
       "4      9   5949"
      ]
     },
     "execution_count": 10,
     "metadata": {},
     "output_type": "execute_result"
    }
   ],
   "source": [
    "#(5) Print frequency of target class\n",
    "target_freq = collections.Counter()\n",
    "for i in range(len(mnist_train)):\n",
    "    input, target = mnist_train[i]\n",
    "    if isinstance(target, torch.Tensor) :\n",
    "        target = target.item()\n",
    "    target_freq[target] += 1\n",
    "pd.DataFrame(data=list(target_freq.items()), columns=['class', 'count']).sort_values(by='class')"
   ]
  },
  {
   "cell_type": "markdown",
   "metadata": {},
   "source": [
    "#### 01.4. **데이터로더 변환**"
   ]
  },
  {
   "cell_type": "code",
   "execution_count": 11,
   "metadata": {},
   "outputs": [],
   "source": [
    "mnist_train_loader = torch.utils.data.DataLoader(dataset=mnist_train, batch_size=BATCH_SIZE, shuffle=False)\n",
    "mnist_test_loader = torch.utils.data.DataLoader(dataset=mnist_test, batch_size=BATCH_SIZE, shuffle=True)"
   ]
  },
  {
   "cell_type": "markdown",
   "metadata": {},
   "source": [
    "<b></b>"
   ]
  },
  {
   "cell_type": "markdown",
   "metadata": {},
   "source": [
    "## 02. **모델 구축 및 학습**"
   ]
  },
  {
   "cell_type": "markdown",
   "metadata": {},
   "source": [
    "#### 02.1. **하이퍼 파라미터 정의**"
   ]
  },
  {
   "cell_type": "code",
   "execution_count": 12,
   "metadata": {},
   "outputs": [],
   "source": [
    "channel_num = 16"
   ]
  },
  {
   "cell_type": "markdown",
   "metadata": {},
   "source": [
    "#### 02.1. **모델 정의**"
   ]
  },
  {
   "cell_type": "code",
   "execution_count": 13,
   "metadata": {},
   "outputs": [
    {
     "data": {
      "text/plain": [
       "==========================================================================================\n",
       "Layer (type:depth-idx)                   Output Shape              Param #\n",
       "==========================================================================================\n",
       "MyConvAutoEncoder                        [32, 1, 28, 28]           --\n",
       "├─Sequential: 1-1                        [32, 10]                  --\n",
       "│    └─Conv2d: 2-1                       [32, 16, 13, 13]          160\n",
       "│    └─ReLU: 2-2                         [32, 16, 13, 13]          --\n",
       "│    └─Conv2d: 2-3                       [32, 32, 6, 6]            4,640\n",
       "│    └─ReLU: 2-4                         [32, 32, 6, 6]            --\n",
       "│    └─Conv2d: 2-5                       [32, 64, 4, 4]            18,496\n",
       "│    └─ReLU: 2-6                         [32, 64, 4, 4]            --\n",
       "│    └─Flatten: 2-7                      [32, 1024]                --\n",
       "│    └─Linear: 2-8                       [32, 10]                  10,250\n",
       "│    └─ReLU: 2-9                         [32, 10]                  --\n",
       "├─Sequential: 1-2                        [32, 1, 28, 28]           --\n",
       "│    └─Linear: 2-10                      [32, 1024]                11,264\n",
       "│    └─ReLU: 2-11                        [32, 1024]                --\n",
       "│    └─Unflatten: 2-12                   [32, 64, 4, 4]            --\n",
       "│    └─ConvTranspose2d: 2-13             [32, 32, 6, 6]            18,464\n",
       "│    └─ReLU: 2-14                        [32, 32, 6, 6]            --\n",
       "│    └─ConvTranspose2d: 2-15             [32, 16, 13, 13]          4,624\n",
       "│    └─ReLU: 2-16                        [32, 16, 13, 13]          --\n",
       "│    └─ConvTranspose2d: 2-17             [32, 1, 28, 28]           145\n",
       "==========================================================================================\n",
       "Total params: 68,043\n",
       "Trainable params: 68,043\n",
       "Non-trainable params: 0\n",
       "Total mult-adds (M): 66.28\n",
       "==========================================================================================\n",
       "Input size (MB): 0.10\n",
       "Forward/backward pass size (MB): 2.70\n",
       "Params size (MB): 0.27\n",
       "Estimated Total Size (MB): 3.07\n",
       "=========================================================================================="
      ]
     },
     "execution_count": 13,
     "metadata": {},
     "output_type": "execute_result"
    }
   ],
   "source": [
    "#(1) Define `model`\n",
    "model = MyConvAutoEncoder(input_shape=input_shape, channel_num=channel_num, class_num=10, device=device).to(dtype=torch.float32)\n",
    "\n",
    "#(2) Display `model`\n",
    "torchinfo.summary(\n",
    "    model=model, \n",
    "    input_size=[BATCH_SIZE]+list(mnist_train[0][0].shape),\n",
    "    device=device\n",
    ")"
   ]
  },
  {
   "cell_type": "code",
   "execution_count": 14,
   "metadata": {},
   "outputs": [],
   "source": [
    "#(4) Define loss function\n",
    "criterion = torch.nn.MSELoss()\n",
    "\n",
    "#(5) Define optimizer(optimization method)\n",
    "optimizer = torch.optim.Adam(params=model.parameters(), lr=1e-3, weight_decay=1e-7)\n",
    "\n",
    "#(6) Define Scheduler\n",
    "# scheduler = torch.optim.lr_scheduler.StepLR(optimizer=optimizer, step_size=30, gamma=0.1)\n",
    "\n",
    "#(7) Define logger\n",
    "logger = TrainLogger()"
   ]
  },
  {
   "cell_type": "markdown",
   "metadata": {},
   "source": [
    "#### 02.2. **학습 전 변수 정의**"
   ]
  },
  {
   "cell_type": "code",
   "execution_count": 15,
   "metadata": {},
   "outputs": [
    {
     "name": "stdout",
     "output_type": "stream",
     "text": [
      ">> Epoch=0, Train Loss=inf\n"
     ]
    }
   ],
   "source": [
    "epoch = 0 \n",
    "loss_hist = []\n",
    "best_loss = float('inf')\n",
    "if USE_CHECKPOINT_YN == 'Y' :\n",
    "    try :\n",
    "        checkpoint = torch.load(f=MODEL_PTH, map_location=device)\n",
    "        model.load_state_dict(state_dict=checkpoint['model'])\n",
    "        optimizer.load_state_dict(state_dict=checkpoint['optimizer'])\n",
    "        epoch = checkpoint['best_epoch']\n",
    "        loss_hist = checkpoint['loss_hist']\n",
    "        best_loss = loss_hist[-1]\n",
    "        logger.train_log = torch.load(f=LOGGER_PTH, map_location=device)['train_log']\n",
    "    except Exception :\n",
    "        pass\n",
    "print(f\">> Epoch={epoch}, Train Loss={best_loss}\")"
   ]
  },
  {
   "cell_type": "markdown",
   "metadata": {},
   "source": [
    "#### 02.3. **모델 학습**"
   ]
  },
  {
   "cell_type": "code",
   "execution_count": null,
   "metadata": {},
   "outputs": [
    {
     "name": "stderr",
     "output_type": "stream",
     "text": [
      "  1%|          | 1/100 [00:20<33:35, 20.36s/it, last_epoch=1, last_loss=0.0426, best_epoch=1, best_loss=0.0426]"
     ]
    }
   ],
   "source": [
    "batch_len = len(mnist_train_loader)\n",
    "best_epoch = epoch\n",
    "progress_bar = tqdm.trange(epoch+1, EPOCH_NUM+1)\n",
    "for epoch in progress_bar : \n",
    "    last_loss = 0.0\n",
    "    model.train()\n",
    "    for batch_idx, (inputs, targets) in enumerate(iterable=mnist_train_loader) :\n",
    "        optimizer.zero_grad() \n",
    "        preds = model(x=inputs)\n",
    "        # ---- Not use `targets` ---- #\n",
    "        loss = criterion(input=preds, target=inputs.to(device=device))\n",
    "        # ---- _________________ ---- #\n",
    "        loss.backward()\n",
    "        optimizer.step()\n",
    "        last_loss += loss.item()\n",
    "        # ---- Logging first batch data ---- #\n",
    "        if batch_idx == 0 : \n",
    "            inputs_b_0 = inputs\n",
    "            preds_b_0 =  preds\n",
    "        # ---- _______________________ ---- # \n",
    "    logger.log(epoch=epoch, inputs=inputs_b_0, preds=preds_b_0, path=LOGGER_PTH)\n",
    "    \n",
    "    last_loss_avg = last_loss / batch_len\n",
    "    loss_hist.append(last_loss_avg)\n",
    "    if last_loss_avg < best_loss :\n",
    "        best_epoch = epoch\n",
    "        best_loss = last_loss_avg\n",
    "        torch.save(\n",
    "            obj={\n",
    "                'model'      : model.state_dict(),\n",
    "                'optimizer'  : optimizer.state_dict(),\n",
    "                'best_epoch' : best_epoch,\n",
    "                'loss_hist'  : loss_hist\n",
    "            }, \n",
    "            f=MODEL_PTH\n",
    "        )\n",
    "    # scheduler.step()\n",
    "    progress_bar.set_postfix(ordered_dict={'last_epoch':epoch, 'last_loss':last_loss_avg, 'best_epoch':best_epoch, 'best_loss':best_loss})"
   ]
  },
  {
   "cell_type": "markdown",
   "metadata": {},
   "source": [
    "<b></b>"
   ]
  },
  {
   "cell_type": "markdown",
   "metadata": {},
   "source": [
    "## 03. **모델 평가**"
   ]
  },
  {
   "cell_type": "markdown",
   "metadata": {},
   "source": [
    "#### 03.1. **최적 성능 모델 로드**"
   ]
  },
  {
   "cell_type": "code",
   "execution_count": null,
   "metadata": {},
   "outputs": [],
   "source": [
    "checkpoint = torch.load(f=MODEL_PTH, map_location=device)\n",
    "model.load_state_dict(state_dict=checkpoint['model'])\n",
    "print(f'>> Best Epoch : {np.argmin(a=checkpoint[\"loss_hist\"])+1}, Best Loss : {np.min(a=checkpoint[\"loss_hist\"])}')"
   ]
  },
  {
   "cell_type": "markdown",
   "metadata": {},
   "source": [
    "#### 04.2. **과소 적합 확인**"
   ]
  },
  {
   "cell_type": "code",
   "execution_count": null,
   "metadata": {},
   "outputs": [],
   "source": [
    "plt.figure(figsize=(12, 6))\n",
    "plt.xlabel(xlabel='epoch')\n",
    "plt.ylabel(ylabel='loss')\n",
    "plt.plot(loss_hist, label='Training Loss')\n",
    "plt.axvline(x=np.argmin(a=checkpoint[\"loss_hist\"]), color='grey', linestyle='--', linewidth=0.6, label=f'Best Training Loss')\n",
    "plt.legend(loc='upper right')\n",
    "plt.show()"
   ]
  },
  {
   "cell_type": "markdown",
   "metadata": {},
   "source": [
    "#### 03.3. **(에포크 별) 학습 과정 확인**"
   ]
  },
  {
   "cell_type": "code",
   "execution_count": null,
   "metadata": {},
   "outputs": [],
   "source": [
    "#(0) Set up interactive mode\n",
    "%matplotlib widget\n",
    "\n",
    "#(1) Move device\n",
    "logger.move_device(device='cpu')"
   ]
  },
  {
   "cell_type": "code",
   "execution_count": null,
   "metadata": {},
   "outputs": [],
   "source": [
    "#(2) Define `visualizer`\n",
    "viz = Visualizer(train_log=logger.train_log, fig_size=(8, 4))\n",
    "\n",
    "#(3) Set up interactive mode\n",
    "viz.plot_compare()"
   ]
  },
  {
   "cell_type": "markdown",
   "metadata": {},
   "source": [
    "#### 03.4. **일반화 성능 확인**"
   ]
  },
  {
   "cell_type": "code",
   "execution_count": null,
   "metadata": {},
   "outputs": [],
   "source": [
    "pass"
   ]
  }
 ],
 "metadata": {
  "kernelspec": {
   "display_name": "PYTCH",
   "language": "python",
   "name": "python3"
  },
  "language_info": {
   "codemirror_mode": {
    "name": "ipython",
    "version": 3
   },
   "file_extension": ".py",
   "mimetype": "text/x-python",
   "name": "python",
   "nbconvert_exporter": "python",
   "pygments_lexer": "ipython3",
   "version": "3.10.16"
  }
 },
 "nbformat": 4,
 "nbformat_minor": 2
}
