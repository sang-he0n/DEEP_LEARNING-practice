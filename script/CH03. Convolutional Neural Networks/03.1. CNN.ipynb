{
 "cells": [
  {
   "cell_type": "markdown",
   "metadata": {},
   "source": [
    "# CH03.1. **Convolution Neural Network**"
   ]
  },
  {
   "cell_type": "markdown",
   "metadata": {},
   "source": [
    "## 00. **작업 환경 설정**"
   ]
  },
  {
   "cell_type": "markdown",
   "metadata": {},
   "source": [
    "#### 00.0. **사전 변수 설정**"
   ]
  },
  {
   "cell_type": "code",
   "execution_count": null,
   "metadata": {},
   "outputs": [],
   "source": [
    "SEED_NUM = 2025\n",
    "BATCH_SIZE = 32\n",
    "EPOCH_NUM = 500\n",
    "USE_PRETRAIN_YN = 'Y'\n",
    "MODEL_PTH = '../../model/cifaClf.pt'"
   ]
  },
  {
   "cell_type": "markdown",
   "metadata": {},
   "source": [
    "#### 00.1. **라이브러리 호출 및 옵션 설정**"
   ]
  },
  {
   "cell_type": "code",
   "execution_count": null,
   "metadata": {},
   "outputs": [],
   "source": [
    "#(1) Import libraries\n",
    "import os\n",
    "import random\n",
    "import tqdm\n",
    "import collections\n",
    "import numpy as np\n",
    "import pandas as pd\n",
    "import matplotlib.pyplot as plt \n",
    "import sklearn\n",
    "import torch\n",
    "import torchvision\n",
    "import torchinfo\n",
    "\n",
    "#(2) Set options\n",
    "os.environ['PYTHONHASHSEED'] = str(SEED_NUM)\n",
    "random.seed(a=SEED_NUM)\n",
    "np.random.seed(seed=SEED_NUM)\n",
    "torch.use_deterministic_algorithms(mode=True)\n",
    "torch.manual_seed(seed=SEED_NUM)\n",
    "torch.mps.manual_seed(seed=SEED_NUM)\n",
    "\n",
    "#(3) Define device(hardware)\n",
    "if torch.backends.mps.is_available() :\n",
    "    device = torch.device(device='mps')\n",
    "else :\n",
    "    device = torch.device(device='cpu')\n",
    "print(f'>> Device : {device}')"
   ]
  },
  {
   "cell_type": "markdown",
   "metadata": {},
   "source": [
    "#### 00.2. **사용자정의함수 정의**"
   ]
  },
  {
   "cell_type": "code",
   "execution_count": null,
   "metadata": {},
   "outputs": [],
   "source": [
    "#(1) Define `show_img()` function\n",
    "def show_img(df:torchvision.datasets, index:int) :\n",
    "    img = df[index][0]\n",
    "    target = df[index][1]\n",
    "    img = img / 2 + 0.5    \n",
    "    img = np.transpose(a=img.numpy(), axes=(1, 2, 0)) # axes 파라미터는 축 순서 변경\n",
    "    plt.imshow(X=img) \n",
    "    plt.xlabel(xlabel=f'Target : {target}({df.classes[target]})')\n",
    "    plt.show()\n",
    "\n",
    "#(2) Define `compute_metrics()` function\n",
    "def compute_metrics(model:torch.nn.Module, loader:torch.utils.data.DataLoader) :\n",
    "    _preds = []\n",
    "    _targets = []\n",
    "    model.eval()\n",
    "    with torch.no_grad() : \n",
    "        for inputs, targets in loader :\n",
    "            inputs = inputs.to(device=device) \n",
    "            targets = targets.to(device=device)\n",
    "            preds = model(x=inputs)\n",
    "            preds = torch.argmax(input=preds, dim=1)\n",
    "            _preds.extend(preds.cpu().numpy())\n",
    "            _targets.extend(targets.cpu().numpy())\n",
    "    model.train()\n",
    "    accuracy = sklearn.metrics.accuracy_score(y_true=_targets, y_pred=_preds)\n",
    "    precision = sklearn.metrics.precision_score(y_true=_targets, y_pred=_preds, average='weighted')\n",
    "    recall = sklearn.metrics.recall_score(y_true=_targets, y_pred=_preds, average='weighted')\n",
    "    f1 = sklearn.metrics.f1_score(y_true=_targets, y_pred=_preds, average='weighted')\n",
    "    output = pd.DataFrame(data={\n",
    "        'metricName' : ['accuracy', 'precision', 'recall', 'f1'], \n",
    "        'value'      : [accuracy, precision, recall, f1] \n",
    "    })\n",
    "    return output"
   ]
  },
  {
   "cell_type": "markdown",
   "metadata": {},
   "source": [
    "#### 00.3. **클래스 정의**"
   ]
  },
  {
   "cell_type": "code",
   "execution_count": null,
   "metadata": {},
   "outputs": [],
   "source": [
    "#(1) Define `MyClassificationModel` class\n",
    "class MyClassificationModel(torch.nn.Module) :\n",
    "    def __init__(self, input_shape:tuple) :\n",
    "        super().__init__()\n",
    "        kernels = [3, 16, 32, 16, 8]\n",
    "        self.layers = torch.nn.ModuleDict()\n",
    "        for i in range(len(kernels)-1) :\n",
    "            cnn_block = torch.nn.ModuleList(modules=[\n",
    "                torch.nn.Conv2d(in_channels=kernels[i], out_channels=kernels[i+1], kernel_size=3, stride=1, padding=1),\n",
    "                torch.nn.ReLU(),\n",
    "                torch.nn.MaxPool2d(kernel_size=2, stride=2)\n",
    "            ])\n",
    "            self.layers[f'conv_{i}'] = cnn_block\n",
    "        _conv_out_features = self._get_param_dim(input_shape=input_shape)\n",
    "        fc_block = torch.nn.ModuleList(modules=[\n",
    "            torch.nn.Linear(in_features=_conv_out_features, out_features=32),\n",
    "            torch.nn.ReLU()\n",
    "        ])\n",
    "        self.layers['fc_0'] = fc_block\n",
    "        self.layers['fc_1'] = torch.nn.Linear(in_features=32, out_features=10)\n",
    "    def _get_param_dim(self, input_shape:tuple) :\n",
    "        _layers = list(self.layers.values())\n",
    "        with torch.no_grad() :\n",
    "            x = torch.zeros(size=(1, *input_shape))\n",
    "            for cnn_block in _layers :\n",
    "                for layer in cnn_block :\n",
    "                    x = layer(x)\n",
    "            dim = x.reshape(shape=(x.shape[0], -1)).shape[1]\n",
    "        return dim\n",
    "    def forward(self, x:torch.Tensor) :\n",
    "        _layers = list(self.layers.values())\n",
    "        for cnn_block in _layers[:-2] :\n",
    "            for layer in cnn_block :\n",
    "                x = layer(x)\n",
    "        x = x.reshape(shape=(x.shape[0], -1))\n",
    "        for fc_block in _layers[-2:-1]:\n",
    "            for layer in fc_block :\n",
    "                x = layer(x)\n",
    "        x = _layers[-1](x)\n",
    "        return x"
   ]
  },
  {
   "cell_type": "markdown",
   "metadata": {},
   "source": [
    "<b></b>"
   ]
  },
  {
   "cell_type": "markdown",
   "metadata": {},
   "source": [
    "## 01. **데이터셋 전처리 및 로드**"
   ]
  },
  {
   "cell_type": "markdown",
   "metadata": {},
   "source": [
    "#### 01.1. **이미지 전처리 파이프라인 정의**"
   ]
  },
  {
   "cell_type": "code",
   "execution_count": null,
   "metadata": {},
   "outputs": [],
   "source": [
    "img_tf = torchvision.transforms.Compose(\n",
    "    transforms=[\n",
    "        torchvision.transforms.ToTensor(),\n",
    "        torchvision.transforms.Normalize(mean=(0.5, 0.5, 0.5), std=(0.5, 0.5, 0.5))\n",
    "    ]\n",
    ")"
   ]
  },
  {
   "cell_type": "markdown",
   "metadata": {},
   "source": [
    "#### 01.2. **데이터셋 로드**"
   ]
  },
  {
   "cell_type": "code",
   "execution_count": null,
   "metadata": {},
   "outputs": [],
   "source": [
    "cifa_train = torchvision.datasets.CIFAR10(root='../../data', train=True, download=True, transform=img_tf)\n",
    "cifa_test = torchvision.datasets.CIFAR10(root='../../data', train=False, download=True, transform=img_tf)"
   ]
  },
  {
   "cell_type": "markdown",
   "metadata": {},
   "source": [
    "#### 01.3. **EDA**"
   ]
  },
  {
   "cell_type": "code",
   "execution_count": null,
   "metadata": {},
   "outputs": [],
   "source": [
    "#(1) Print sample of train\n",
    "len(cifa_train)"
   ]
  },
  {
   "cell_type": "code",
   "execution_count": null,
   "metadata": {},
   "outputs": [],
   "source": [
    "#(2) Print image shape \n",
    "cifa_train[0][0].shape"
   ]
  },
  {
   "cell_type": "code",
   "execution_count": null,
   "metadata": {},
   "outputs": [],
   "source": [
    "#(3) Print frequency of target class\n",
    "target_freq = collections.Counter()\n",
    "for i in range(len(cifa_train)):\n",
    "    input, target = cifa_train[i]\n",
    "    if isinstance(target, torch.Tensor) :\n",
    "        target = target.item()\n",
    "    target_freq[target] += 1\n",
    "pd.DataFrame(data=list(target_freq.items()), columns=['class', 'count']).sort_values(by='class')"
   ]
  },
  {
   "cell_type": "code",
   "execution_count": null,
   "metadata": {},
   "outputs": [],
   "source": [
    "#(4) Display image\n",
    "show_img(df=cifa_train, index=5)"
   ]
  },
  {
   "cell_type": "markdown",
   "metadata": {},
   "source": [
    "#### 01.4. **데이터로더 변환**"
   ]
  },
  {
   "cell_type": "code",
   "execution_count": null,
   "metadata": {},
   "outputs": [],
   "source": [
    "cifa_train_loader = torch.utils.data.DataLoader(dataset=cifa_train, batch_size=BATCH_SIZE, shuffle=True)\n",
    "cifa_test_loader = torch.utils.data.DataLoader(dataset=cifa_test, batch_size=BATCH_SIZE, shuffle=True)"
   ]
  },
  {
   "cell_type": "markdown",
   "metadata": {},
   "source": [
    "<b></b>"
   ]
  },
  {
   "cell_type": "markdown",
   "metadata": {},
   "source": [
    "## 02. **모델 구축 및 학습**"
   ]
  },
  {
   "cell_type": "markdown",
   "metadata": {},
   "source": [
    "#### 02.1. **모델 정의**"
   ]
  },
  {
   "cell_type": "code",
   "execution_count": null,
   "metadata": {},
   "outputs": [],
   "source": [
    "#(1) Define `model`\n",
    "model = MyClassificationModel(input_shape=(3, 32, 32)).to(dtype=torch.float32, device=device)\n",
    "\n",
    "#(2) Display `model`\n",
    "model"
   ]
  },
  {
   "cell_type": "code",
   "execution_count": null,
   "metadata": {},
   "outputs": [],
   "source": [
    "#(3)\n",
    "dummy = torch.randn(size=[BATCH_SIZE]+list(cifa_train[0][0].shape)).to(device=device)\n",
    "torchinfo.summary(model=model, input_data=dummy)"
   ]
  },
  {
   "cell_type": "code",
   "execution_count": null,
   "metadata": {},
   "outputs": [],
   "source": [
    "#(4) Define loss function\n",
    "criterion = torch.nn.CrossEntropyLoss()\n",
    "\n",
    "#(5) Define optimizer(optimization method)\n",
    "optimizer = torch.optim.Adam(params=model.parameters(), lr=1e-2, weight_decay=1e-7)\n",
    "\n",
    "#(6) Define Scheduler\n",
    "# scheduler = torch.optim.lr_scheduler.StepLR(optimizer=optimizer, step_size=30, gamma=0.1)"
   ]
  },
  {
   "cell_type": "markdown",
   "metadata": {},
   "source": [
    "#### 02.2. **학습 전 변수 정의**"
   ]
  },
  {
   "cell_type": "code",
   "execution_count": null,
   "metadata": {},
   "outputs": [],
   "source": [
    "batch_cnt = len(cifa_train_loader)\n",
    "if USE_PRETRAIN_YN == 'Y' :\n",
    "    checkpoint = torch.load(f=MODEL_PTH)\n",
    "    model.load_state_dict(state_dict=checkpoint['model'])\n",
    "    optimizer.load_state_dict(state_dict=checkpoint['optimizer'])\n",
    "    epoch = checkpoint['epoch']\n",
    "    loss_hist = checkpoint['loss_hist']\n",
    "    best_loss = loss_hist[-1]\n",
    "else :\n",
    "    epoch = 0\n",
    "    loss_hist = []\n",
    "    best_loss = float('inf')\n",
    "print(f\">> Epoch={epoch}, Train Loss={best_loss}\")"
   ]
  },
  {
   "cell_type": "markdown",
   "metadata": {},
   "source": [
    "#### 02.3. **모델 학습**"
   ]
  },
  {
   "cell_type": "code",
   "execution_count": null,
   "metadata": {},
   "outputs": [],
   "source": [
    "progress_bar = tqdm.trange(epoch, EPOCH_NUM)\n",
    "for epoch in progress_bar : \n",
    "    running_loss = 0.0\n",
    "    model.train()\n",
    "    for inputs, targets in cifa_train_loader :\n",
    "        inputs = inputs.to(device=device) \n",
    "        targets = targets.to(device=device)\n",
    "        optimizer.zero_grad() \n",
    "        preds = model(x=inputs)\n",
    "        loss = criterion(input=preds, target=targets)\n",
    "        loss.backward()\n",
    "        optimizer.step()\n",
    "        running_loss += loss.item()\n",
    "    running_loss_avg = running_loss / batch_cnt\n",
    "    loss_hist.append(running_loss_avg)\n",
    "    if running_loss_avg < best_loss :\n",
    "        best_loss = running_loss_avg\n",
    "        torch.save(\n",
    "            obj={\n",
    "                'epoch'     : epoch,\n",
    "                'loss_hist' : loss_hist,\n",
    "                'model'     : model.state_dict(),\n",
    "                'optimizer' : optimizer.state_dict()\n",
    "            }, \n",
    "            f=MODEL_PTH\n",
    "        )\n",
    "    # scheduler.step()\n",
    "    progress_bar.set_postfix(ordered_dict={'epoch':epoch+1, 'loss':running_loss_avg}) "
   ]
  },
  {
   "cell_type": "markdown",
   "metadata": {},
   "source": [
    "<b></b>"
   ]
  },
  {
   "cell_type": "markdown",
   "metadata": {},
   "source": [
    "## 03. **모델 평가**"
   ]
  },
  {
   "cell_type": "markdown",
   "metadata": {},
   "source": [
    "#### 03.1. **최적 성능 모델 로드**"
   ]
  },
  {
   "cell_type": "code",
   "execution_count": null,
   "metadata": {},
   "outputs": [],
   "source": [
    "checkpoint = torch.load(f=MODEL_PTH)\n",
    "model.load_state_dict(state_dict=checkpoint['model'])\n",
    "print(f'>> Epoch : {checkpoint[\"epoch\"]}, Loss : {checkpoint[\"loss_hist\"][-1]}')"
   ]
  },
  {
   "cell_type": "markdown",
   "metadata": {},
   "source": [
    "#### 03.2. **학습 손실(Traing Loss) 확인**"
   ]
  },
  {
   "cell_type": "code",
   "execution_count": null,
   "metadata": {},
   "outputs": [],
   "source": [
    "#(1) Check metrics\n",
    "compute_metrics(model=model, loader=cifa_train_loader)"
   ]
  },
  {
   "cell_type": "code",
   "execution_count": null,
   "metadata": {},
   "outputs": [],
   "source": [
    "#(2) Plot traing loss\n",
    "plt.figure(figsize=(12, 6))\n",
    "plt.title(label='Training Loss')\n",
    "plt.xlabel(xlabel='epoch')\n",
    "plt.ylabel(ylabel='loss')\n",
    "plt.plot(loss_hist)\n",
    "plt.show()"
   ]
  },
  {
   "cell_type": "markdown",
   "metadata": {},
   "source": [
    "#### 03.3. **성능 평가**"
   ]
  },
  {
   "cell_type": "code",
   "execution_count": null,
   "metadata": {},
   "outputs": [],
   "source": [
    "compute_metrics(model=model, loader=cifa_test_loader)"
   ]
  }
 ],
 "metadata": {
  "kernelspec": {
   "display_name": "PYTCH",
   "language": "python",
   "name": "python3"
  },
  "language_info": {
   "codemirror_mode": {
    "name": "ipython",
    "version": 3
   },
   "file_extension": ".py",
   "mimetype": "text/x-python",
   "name": "python",
   "nbconvert_exporter": "python",
   "pygments_lexer": "ipython3",
   "version": "3.10.16"
  }
 },
 "nbformat": 4,
 "nbformat_minor": 2
}
