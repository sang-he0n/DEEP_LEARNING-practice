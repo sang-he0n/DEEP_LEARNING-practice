{
 "cells": [
  {
   "cell_type": "markdown",
   "metadata": {},
   "source": [
    "# CH03.2.1. **Advanced CNN - Residual block**"
   ]
  },
  {
   "cell_type": "markdown",
   "metadata": {},
   "source": [
    "## 00. **작업 환경 설정**"
   ]
  },
  {
   "cell_type": "markdown",
   "metadata": {},
   "source": [
    "#### 00.0. **사전 변수 설정**"
   ]
  },
  {
   "cell_type": "code",
   "execution_count": 1,
   "metadata": {},
   "outputs": [],
   "source": [
    "SEED_NUM = 2025\n",
    "BATCH_SIZE = 512\n",
    "EPOCH_NUM = 250\n",
    "USE_CHECKPOINT_YN = 'N'\n",
    "MODEL_PTH = '../../model/cifaClfResidualBlock.pt'"
   ]
  },
  {
   "cell_type": "markdown",
   "metadata": {},
   "source": [
    "#### 00.1. **라이브러리 호출 및 옵션 설정**"
   ]
  },
  {
   "cell_type": "code",
   "execution_count": 2,
   "metadata": {},
   "outputs": [
    {
     "name": "stdout",
     "output_type": "stream",
     "text": [
      ">> Device : mps\n"
     ]
    }
   ],
   "source": [
    "#(1) Import libraries\n",
    "import os\n",
    "import random\n",
    "import tqdm\n",
    "import collections\n",
    "import numpy as np\n",
    "import pandas as pd\n",
    "import matplotlib.pyplot as plt \n",
    "import sklearn\n",
    "import torch\n",
    "import torchvision\n",
    "import torchinfo\n",
    "\n",
    "#(2) Set options\n",
    "os.environ['PYTHONHASHSEED'] = str(SEED_NUM)\n",
    "random.seed(a=SEED_NUM)\n",
    "np.random.seed(seed=SEED_NUM)\n",
    "torch.use_deterministic_algorithms(mode=True)\n",
    "torch.manual_seed(seed=SEED_NUM)\n",
    "torch.mps.manual_seed(seed=SEED_NUM)\n",
    "\n",
    "#(3) Define device(hardware)\n",
    "if torch.backends.mps.is_available() :\n",
    "    device = torch.device(device='mps')\n",
    "else :\n",
    "    device = torch.device(device='cpu')\n",
    "print(f'>> Device : {device}')"
   ]
  },
  {
   "cell_type": "markdown",
   "metadata": {},
   "source": [
    "#### 00.2. **사용자정의함수 정의**"
   ]
  },
  {
   "cell_type": "code",
   "execution_count": 3,
   "metadata": {},
   "outputs": [],
   "source": [
    "#(1) Define `show_img()` function\n",
    "def show_img(df:torchvision.datasets, index:int) :\n",
    "    img = df[index][0]\n",
    "    target = df[index][1]\n",
    "    img = (img/2+0.5).numpy()\n",
    "    channel_cnt = img.shape[0]\n",
    "    if channel_cnt == 3 :\n",
    "        img = np.transpose(a=img, axes=(1, 2, 0))\n",
    "        plt.imshow(X=img) \n",
    "    elif channel_cnt == 1 : \n",
    "        img = np.squeeze(a=img, axis=0)\n",
    "        plt.imshow(X=img, cmap='gray')\n",
    "    else : \n",
    "        pass \n",
    "    plt.xlabel(xlabel=f'Target : {target}({df.classes[target]})')\n",
    "    plt.show()\n",
    "\n",
    "#(2) Define `compute_metrics()` function\n",
    "def compute_metrics(model:torch.nn.Module, loader:torch.utils.data.DataLoader) -> pd.DataFrame :\n",
    "    preds = []\n",
    "    targets = []\n",
    "    model.eval()\n",
    "    with torch.no_grad() : \n",
    "        for inputs, _ in loader :\n",
    "            preds.extend(\n",
    "                torch.argmax(input=model(x=inputs), dim=1).to(device='cpu').numpy()\n",
    "            )\n",
    "            targets.extend(\n",
    "                _.to(device='cpu').numpy()\n",
    "            )\n",
    "    model.train()\n",
    "    accuracy = sklearn.metrics.accuracy_score(y_true=targets, y_pred=preds)\n",
    "    precision = sklearn.metrics.precision_score(y_true=targets, y_pred=preds, average='weighted')\n",
    "    recall = sklearn.metrics.recall_score(y_true=targets, y_pred=preds, average='weighted')\n",
    "    f1 = sklearn.metrics.f1_score(y_true=targets, y_pred=preds, average='weighted')\n",
    "    output = pd.DataFrame(data={\n",
    "        'metricName' : ['accuracy', 'precision', 'recall', 'f1'], \n",
    "        'value'      : [accuracy, precision, recall, f1] \n",
    "    })\n",
    "    return output"
   ]
  },
  {
   "cell_type": "markdown",
   "metadata": {},
   "source": [
    "#### 00.3. **클래스 정의**"
   ]
  },
  {
   "cell_type": "code",
   "execution_count": 4,
   "metadata": {},
   "outputs": [],
   "source": [
    "#(1) Define `ConvResidualBlock` class\n",
    "class ConvResidualBlock(torch.nn.Module) :\n",
    "    def __init__(self, in_channels:int, out_channels:int, stride:int) :\n",
    "        super().__init__()\n",
    "        self.conv_block_01 = torch.nn.Sequential(\n",
    "            torch.nn.Conv2d(in_channels=in_channels, out_channels=out_channels, kernel_size=3, stride=stride, padding=1, bias=False),\n",
    "            torch.nn.BatchNorm2d(num_features=out_channels),\n",
    "            torch.nn.ReLU()\n",
    "\n",
    "        )\n",
    "        self.conv_block_02 = torch.nn.Sequential(\n",
    "            torch.nn.Conv2d(in_channels=out_channels, out_channels=out_channels, kernel_size=3, stride=1, padding=1, bias=False),\n",
    "            torch.nn.BatchNorm2d(num_features=out_channels)\n",
    "        )\n",
    "        \n",
    "        CON = (in_channels != out_channels) or (stride != 1)\n",
    "        if CON : \n",
    "            self.ds_block = torch.nn.Sequential(\n",
    "                torch.nn.Conv2d(in_channels=in_channels, out_channels=out_channels, kernel_size=1, stride=stride, bias=False),\n",
    "                torch.nn.BatchNorm2d(num_features=out_channels)\n",
    "            )\n",
    "        else :\n",
    "            self.ds_block = torch.nn.Sequential()\n",
    "    def forward(self, x:torch.Tensor) -> torch.Tensor :\n",
    "        identity = x\n",
    "        x = self.conv_block_01(x)\n",
    "        x = self.conv_block_02(x)\n",
    "        identity = self.ds_block(identity)\n",
    "        x += identity\n",
    "        x = torch.nn.functional.relu(x)\n",
    "        return x\n",
    "\n",
    "#(2) Define `MyClassificationModel` class\n",
    "class MyClassificationModel(torch.nn.Module) :\n",
    "    def __init__(self, input_shape:list, channel_dims:list, device:torch.device) :\n",
    "        super().__init__()\n",
    "        self.device = device\n",
    "        self.conv_block = torch.nn.Sequential(\n",
    "            torch.nn.Conv2d(in_channels=input_shape[0], out_channels=channel_dims[1], kernel_size=3, stride=1, padding=1, bias=False),\n",
    "            torch.nn.BatchNorm2d(num_features=channel_dims[1]),\n",
    "            torch.nn.ReLU()\n",
    "        )\n",
    "        self.res_blocks = torch.nn.ModuleList()\n",
    "        res_block_num = len(channel_dims)\n",
    "        for i in range(res_block_num-2) :\n",
    "            if i == 0 :\n",
    "                stride = 1\n",
    "            else :\n",
    "                stride = 2\n",
    "            res_block = ConvResidualBlock(in_channels=channel_dims[i+1], out_channels=channel_dims[i+2], stride=stride)\n",
    "            self.res_blocks.append(res_block)\n",
    "        self.global_pool = torch.nn.AdaptiveAvgPool2d(output_size=(1, 1))\n",
    "        self.fc_block = torch.nn.Sequential(\n",
    "            torch.nn.Linear(in_features=channel_dims[-1], out_features=10),\n",
    "            torch.nn.LogSoftmax(dim=1)\n",
    "        )\n",
    "        self.to(device=device)\n",
    "    def forward(self, x: torch.Tensor) -> torch.Tensor :\n",
    "        x = x.to(self.device)\n",
    "        x = self.conv_block(x)\n",
    "        for layer in self.res_blocks :\n",
    "            x = layer(x)\n",
    "        x = self.global_pool(x)\n",
    "        x = x.reshape(shape=(x.shape[0], -1))\n",
    "        x = self.fc_block(x)\n",
    "        return x"
   ]
  },
  {
   "cell_type": "markdown",
   "metadata": {},
   "source": [
    "<b></b>"
   ]
  },
  {
   "cell_type": "markdown",
   "metadata": {},
   "source": [
    "## 01. **데이터셋 전처리 및 로드**"
   ]
  },
  {
   "cell_type": "markdown",
   "metadata": {},
   "source": [
    "#### 01.1. **이미지 전처리 파이프라인 정의**"
   ]
  },
  {
   "cell_type": "code",
   "execution_count": 5,
   "metadata": {},
   "outputs": [],
   "source": [
    "img_tf = torchvision.transforms.Compose(\n",
    "    transforms=[\n",
    "        torchvision.transforms.ToTensor(),\n",
    "        torchvision.transforms.Normalize(mean=(0.5, 0.5, 0.5), std=(0.5, 0.5, 0.5))\n",
    "    ]\n",
    ")"
   ]
  },
  {
   "cell_type": "markdown",
   "metadata": {},
   "source": [
    "#### 01.2. **데이터셋 로드 및 전처리 적용**"
   ]
  },
  {
   "cell_type": "code",
   "execution_count": 6,
   "metadata": {},
   "outputs": [],
   "source": [
    "cifa_train = torchvision.datasets.CIFAR10(root='../../data', train=True, download=True, transform=img_tf)\n",
    "cifa_test = torchvision.datasets.CIFAR10(root='../../data', train=False, download=True, transform=img_tf)"
   ]
  },
  {
   "cell_type": "markdown",
   "metadata": {},
   "source": [
    "#### 01.3. **EDA**"
   ]
  },
  {
   "cell_type": "code",
   "execution_count": 7,
   "metadata": {},
   "outputs": [],
   "source": [
    "#(1) Print sample of train\n",
    "# len(cifa_train)"
   ]
  },
  {
   "cell_type": "code",
   "execution_count": 8,
   "metadata": {},
   "outputs": [],
   "source": [
    "#(2) Display image\n",
    "# show_img(df=cifa_train, index=1)"
   ]
  },
  {
   "cell_type": "code",
   "execution_count": 9,
   "metadata": {},
   "outputs": [],
   "source": [
    "#(3) Check `input_size`\n",
    "input_shape = list(cifa_train[0][0].shape)\n",
    "\n",
    "#(4) Print `input_size`\n",
    "# input_shape"
   ]
  },
  {
   "cell_type": "code",
   "execution_count": 10,
   "metadata": {},
   "outputs": [],
   "source": [
    "#(5) Print frequency of target class\n",
    "# target_freq = collections.Counter()\n",
    "# for i in range(len(cifa_train)):\n",
    "#     input, target = cifa_train[i]\n",
    "#     if isinstance(target, torch.Tensor) :\n",
    "#         target = target.item()\n",
    "#     target_freq[target] += 1\n",
    "# pd.DataFrame(data=list(target_freq.items()), columns=['class', 'count']).sort_values(by='class')"
   ]
  },
  {
   "cell_type": "markdown",
   "metadata": {},
   "source": [
    "#### 01.4. **데이터로더 변환**"
   ]
  },
  {
   "cell_type": "code",
   "execution_count": 11,
   "metadata": {},
   "outputs": [],
   "source": [
    "cifa_train_loader = torch.utils.data.DataLoader(dataset=cifa_train, batch_size=BATCH_SIZE, shuffle=True)\n",
    "cifa_test_loader = torch.utils.data.DataLoader(dataset=cifa_test, batch_size=BATCH_SIZE, shuffle=True)"
   ]
  },
  {
   "cell_type": "markdown",
   "metadata": {},
   "source": [
    "<b></b>"
   ]
  },
  {
   "cell_type": "markdown",
   "metadata": {},
   "source": [
    "## 02. **모델 구축 및 학습**"
   ]
  },
  {
   "cell_type": "markdown",
   "metadata": {},
   "source": [
    "#### 02.1. **하이퍼 파라미터 정의**"
   ]
  },
  {
   "cell_type": "code",
   "execution_count": 12,
   "metadata": {},
   "outputs": [],
   "source": [
    "channel_dims = [16, 32, 16, 8]"
   ]
  },
  {
   "cell_type": "markdown",
   "metadata": {},
   "source": [
    "#### 02.2. **모델 정의**"
   ]
  },
  {
   "cell_type": "code",
   "execution_count": 13,
   "metadata": {},
   "outputs": [
    {
     "data": {
      "text/plain": [
       "==========================================================================================\n",
       "Layer (type:depth-idx)                   Output Shape              Param #\n",
       "==========================================================================================\n",
       "MyClassificationModel                    [512, 10]                 --\n",
       "├─Sequential: 1-1                        [512, 32, 32, 32]         --\n",
       "│    └─Conv2d: 2-1                       [512, 32, 32, 32]         864\n",
       "│    └─BatchNorm2d: 2-2                  [512, 32, 32, 32]         64\n",
       "│    └─ReLU: 2-3                         [512, 32, 32, 32]         --\n",
       "├─ModuleList: 1-2                        --                        --\n",
       "│    └─ConvResidualBlock: 2-4            [512, 16, 32, 32]         --\n",
       "│    │    └─Sequential: 3-1              [512, 16, 32, 32]         4,640\n",
       "│    │    └─Sequential: 3-2              [512, 16, 32, 32]         2,336\n",
       "│    │    └─Sequential: 3-3              [512, 16, 32, 32]         544\n",
       "│    └─ConvResidualBlock: 2-5            [512, 8, 16, 16]          --\n",
       "│    │    └─Sequential: 3-4              [512, 8, 16, 16]          1,168\n",
       "│    │    └─Sequential: 3-5              [512, 8, 16, 16]          592\n",
       "│    │    └─Sequential: 3-6              [512, 8, 16, 16]          144\n",
       "├─AdaptiveAvgPool2d: 1-3                 [512, 8, 1, 1]            --\n",
       "├─Sequential: 1-4                        [512, 10]                 --\n",
       "│    └─Linear: 2-6                       [512, 10]                 90\n",
       "│    └─LogSoftmax: 2-7                   [512, 10]                 --\n",
       "==========================================================================================\n",
       "Total params: 10,442\n",
       "Trainable params: 10,442\n",
       "Non-trainable params: 0\n",
       "Total mult-adds (G): 4.59\n",
       "==========================================================================================\n",
       "Input size (MB): 6.29\n",
       "Forward/backward pass size (MB): 721.46\n",
       "Params size (MB): 0.04\n",
       "Estimated Total Size (MB): 727.79\n",
       "=========================================================================================="
      ]
     },
     "execution_count": 13,
     "metadata": {},
     "output_type": "execute_result"
    }
   ],
   "source": [
    "#(1) Define `model`\n",
    "model = MyClassificationModel(input_shape=input_shape, channel_dims=channel_dims, device=device).to(dtype=torch.float32)\n",
    "\n",
    "#(2) Check `model`'s parameter number\n",
    "torchinfo.summary(\n",
    "    model=model, \n",
    "    input_size=[BATCH_SIZE]+input_shape,\n",
    "    device=device\n",
    ")"
   ]
  },
  {
   "cell_type": "code",
   "execution_count": 14,
   "metadata": {},
   "outputs": [],
   "source": [
    "#(3) Define loss function\n",
    "criterion = torch.nn.NLLLoss()\n",
    "\n",
    "#(4) Define optimizer(optimization method)\n",
    "optimizer = torch.optim.Adam(params=model.parameters(), lr=1e-3, weight_decay=1e-7)\n",
    "\n",
    "#(5) Define Scheduler\n",
    "# scheduler = torch.optim.lr_scheduler.StepLR(optimizer=optimizer, step_size=30, gamma=0.1)"
   ]
  },
  {
   "cell_type": "markdown",
   "metadata": {},
   "source": [
    "#### 02.3. **모델 체크포인트 로드**"
   ]
  },
  {
   "cell_type": "code",
   "execution_count": 15,
   "metadata": {},
   "outputs": [
    {
     "name": "stdout",
     "output_type": "stream",
     "text": [
      ">> Last Epoch=0, Last Train Loss=inf\n"
     ]
    }
   ],
   "source": [
    "init_epoch = 0 \n",
    "train_cost_hist = []\n",
    "best_train_cost = float('inf')\n",
    "if USE_CHECKPOINT_YN == 'Y' :\n",
    "    try :\n",
    "        checkpoint = torch.load(f=MODEL_PTH, map_location=device)\n",
    "        model.load_state_dict(state_dict=checkpoint['model'])\n",
    "        optimizer.load_state_dict(state_dict=checkpoint['optimizer'])\n",
    "        init_epoch = checkpoint['best_epoch']\n",
    "        train_cost_hist = checkpoint['train_cost_hist']\n",
    "        best_train_cost = train_cost_hist[-1]\n",
    "    except Exception :\n",
    "        pass\n",
    "print(f'>> Last Epoch={init_epoch}, Last Train Loss={best_train_cost}')"
   ]
  },
  {
   "cell_type": "markdown",
   "metadata": {},
   "source": [
    "#### 02.4. **모델 학습**"
   ]
  },
  {
   "cell_type": "code",
   "execution_count": 16,
   "metadata": {},
   "outputs": [
    {
     "name": "stderr",
     "output_type": "stream",
     "text": [
      "100%|██████████| 250/250 [28:30<00:00,  6.84s/it, last_epoch=250, last_train_loss=0.629, best_epoch=245, best_train_cost=0.628]\n"
     ]
    }
   ],
   "source": [
    "batch_len = len(cifa_train_loader)\n",
    "best_epoch = init_epoch\n",
    "progress_bar = tqdm.trange(init_epoch+1, EPOCH_NUM+1)\n",
    "for epoch in progress_bar : \n",
    "    train_cost = 0.0\n",
    "    model.train()\n",
    "    for inputs, targets in cifa_train_loader :\n",
    "        optimizer.zero_grad() \n",
    "        preds = model(x=inputs)\n",
    "        loss = criterion(input=preds, target=targets.to(device=device))\n",
    "        loss.backward()\n",
    "        optimizer.step()\n",
    "        train_cost += loss.item()\n",
    "    train_cost = train_cost / batch_len\n",
    "    train_cost_hist.append(train_cost)\n",
    "    if train_cost < best_train_cost :\n",
    "        best_epoch = epoch\n",
    "        best_train_cost = train_cost\n",
    "        torch.save(\n",
    "            obj={\n",
    "                'model'           : model.state_dict(),\n",
    "                'optimizer'       : optimizer.state_dict(),\n",
    "                'best_epoch'      : best_epoch,\n",
    "                'train_cost_hist' : train_cost_hist,\n",
    "            }, \n",
    "            f=MODEL_PTH\n",
    "        )\n",
    "    # scheduler.step()\n",
    "    progress_bar.set_postfix(ordered_dict={'last_epoch':epoch, 'last_train_loss':train_cost, 'best_epoch':best_epoch, 'best_train_cost':best_train_cost})"
   ]
  },
  {
   "cell_type": "markdown",
   "metadata": {},
   "source": [
    "<b></b>"
   ]
  },
  {
   "cell_type": "markdown",
   "metadata": {},
   "source": [
    "## 03. **모델 평가**"
   ]
  },
  {
   "cell_type": "markdown",
   "metadata": {},
   "source": [
    "#### 03.1. **최적 성능 모델 로드**"
   ]
  },
  {
   "cell_type": "code",
   "execution_count": 17,
   "metadata": {},
   "outputs": [
    {
     "name": "stdout",
     "output_type": "stream",
     "text": [
      ">> Best Epoch : 245, Best Train Loss : 0.6281971055634168\n"
     ]
    }
   ],
   "source": [
    "checkpoint = torch.load(f=MODEL_PTH, map_location=device)\n",
    "model.load_state_dict(state_dict=checkpoint['model'])\n",
    "print(f'>> Best Epoch : {np.argmin(a=checkpoint[\"train_cost_hist\"])+1}, Best Train Loss : {np.min(a=checkpoint[\"train_cost_hist\"])}')"
   ]
  },
  {
   "cell_type": "markdown",
   "metadata": {},
   "source": [
    "#### 03.2. **과소 적합 확인**"
   ]
  },
  {
   "cell_type": "code",
   "execution_count": 18,
   "metadata": {},
   "outputs": [
    {
     "data": {
      "image/png": "[encoded data removed]",
      "text/plain": [
       "<Figure size 1200x600 with 1 Axes>"
      ]
     },
     "metadata": {},
     "output_type": "display_data"
    }
   ],
   "source": [
    "#(1) Plot training loss\n",
    "plt.figure(figsize=(12, 6))\n",
    "plt.xlabel(xlabel='epoch')\n",
    "plt.ylabel(ylabel='loss')\n",
    "plt.plot(train_cost_hist, label='Training Loss')\n",
    "plt.axvline(x=np.argmin(a=checkpoint[\"train_cost_hist\"]), color='grey', linestyle='--', linewidth=0.6, label=f'Best Training Loss')\n",
    "plt.legend(loc='upper right')\n",
    "plt.show()"
   ]
  },
  {
   "cell_type": "code",
   "execution_count": 19,
   "metadata": {},
   "outputs": [
    {
     "data": {
      "text/html": [
       "<div>\n",
       "<style scoped>\n",
       "    .dataframe tbody tr th:only-of-type {\n",
       "        vertical-align: middle;\n",
       "    }\n",
       "\n",
       "    .dataframe tbody tr th {\n",
       "        vertical-align: top;\n",
       "    }\n",
       "\n",
       "    .dataframe thead th {\n",
       "        text-align: right;\n",
       "    }\n",
       "</style>\n",
       "<table border=\"1\" class=\"dataframe\">\n",
       "  <thead>\n",
       "    <tr style=\"text-align: right;\">\n",
       "      <th></th>\n",
       "      <th>metricName</th>\n",
       "      <th>value</th>\n",
       "    </tr>\n",
       "  </thead>\n",
       "  <tbody>\n",
       "    <tr>\n",
       "      <th>0</th>\n",
       "      <td>accuracy</td>\n",
       "      <td>0.763180</td>\n",
       "    </tr>\n",
       "    <tr>\n",
       "      <th>1</th>\n",
       "      <td>precision</td>\n",
       "      <td>0.772274</td>\n",
       "    </tr>\n",
       "    <tr>\n",
       "      <th>2</th>\n",
       "      <td>recall</td>\n",
       "      <td>0.763180</td>\n",
       "    </tr>\n",
       "    <tr>\n",
       "      <th>3</th>\n",
       "      <td>f1</td>\n",
       "      <td>0.763443</td>\n",
       "    </tr>\n",
       "  </tbody>\n",
       "</table>\n",
       "</div>"
      ],
      "text/plain": [
       "  metricName     value\n",
       "0   accuracy  0.763180\n",
       "1  precision  0.772274\n",
       "2     recall  0.763180\n",
       "3         f1  0.763443"
      ]
     },
     "execution_count": 19,
     "metadata": {},
     "output_type": "execute_result"
    }
   ],
   "source": [
    "#(2) Check metrics\n",
    "compute_metrics(model=model, loader=cifa_train_loader)"
   ]
  },
  {
   "cell_type": "markdown",
   "metadata": {},
   "source": [
    "#### 03.3. **일반화 성능 평가**"
   ]
  },
  {
   "cell_type": "code",
   "execution_count": 20,
   "metadata": {},
   "outputs": [
    {
     "data": {
      "text/html": [
       "<div>\n",
       "<style scoped>\n",
       "    .dataframe tbody tr th:only-of-type {\n",
       "        vertical-align: middle;\n",
       "    }\n",
       "\n",
       "    .dataframe tbody tr th {\n",
       "        vertical-align: top;\n",
       "    }\n",
       "\n",
       "    .dataframe thead th {\n",
       "        text-align: right;\n",
       "    }\n",
       "</style>\n",
       "<table border=\"1\" class=\"dataframe\">\n",
       "  <thead>\n",
       "    <tr style=\"text-align: right;\">\n",
       "      <th></th>\n",
       "      <th>metricName</th>\n",
       "      <th>value</th>\n",
       "    </tr>\n",
       "  </thead>\n",
       "  <tbody>\n",
       "    <tr>\n",
       "      <th>0</th>\n",
       "      <td>accuracy</td>\n",
       "      <td>0.669600</td>\n",
       "    </tr>\n",
       "    <tr>\n",
       "      <th>1</th>\n",
       "      <td>precision</td>\n",
       "      <td>0.678760</td>\n",
       "    </tr>\n",
       "    <tr>\n",
       "      <th>2</th>\n",
       "      <td>recall</td>\n",
       "      <td>0.669600</td>\n",
       "    </tr>\n",
       "    <tr>\n",
       "      <th>3</th>\n",
       "      <td>f1</td>\n",
       "      <td>0.670587</td>\n",
       "    </tr>\n",
       "  </tbody>\n",
       "</table>\n",
       "</div>"
      ],
      "text/plain": [
       "  metricName     value\n",
       "0   accuracy  0.669600\n",
       "1  precision  0.678760\n",
       "2     recall  0.669600\n",
       "3         f1  0.670587"
      ]
     },
     "execution_count": 20,
     "metadata": {},
     "output_type": "execute_result"
    }
   ],
   "source": [
    "compute_metrics(model=model, loader=cifa_test_loader)"
   ]
  }
 ],
 "metadata": {
  "kernelspec": {
   "display_name": "PYTCH",
   "language": "python",
   "name": "python3"
  },
  "language_info": {
   "codemirror_mode": {
    "name": "ipython",
    "version": 3
   },
   "file_extension": ".py",
   "mimetype": "text/x-python",
   "name": "python",
   "nbconvert_exporter": "python",
   "pygments_lexer": "ipython3",
   "version": "3.10.16"
  }
 },
 "nbformat": 4,
 "nbformat_minor": 2
}
