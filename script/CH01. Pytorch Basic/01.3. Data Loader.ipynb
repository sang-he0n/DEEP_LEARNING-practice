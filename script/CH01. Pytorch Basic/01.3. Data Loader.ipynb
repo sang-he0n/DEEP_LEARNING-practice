{
 "cells": [
  {
   "cell_type": "markdown",
   "metadata": {},
   "source": [
    "# CH01.2. **Data Loader**"
   ]
  },
  {
   "cell_type": "markdown",
   "metadata": {},
   "source": [
    "## 00. **작업 환경 설정**"
   ]
  },
  {
   "cell_type": "markdown",
   "metadata": {},
   "source": [
    "#### 00.0. **사전 변수 설정**"
   ]
  },
  {
   "cell_type": "code",
   "execution_count": 1,
   "metadata": {},
   "outputs": [],
   "source": [
    "SEED_NUM = 2025"
   ]
  },
  {
   "cell_type": "markdown",
   "metadata": {},
   "source": [
    "#### 00.1. **라이브러리 호출 및 옵션 설정**"
   ]
  },
  {
   "cell_type": "code",
   "execution_count": 2,
   "metadata": {},
   "outputs": [],
   "source": [
    "#(1) Import libraries\n",
    "import numpy as np\n",
    "import torch\n",
    "import torchvision\n",
    "\n",
    "#(2) Set options\n",
    "np.random.seed(seed=SEED_NUM)\n",
    "torch.manual_seed(seed=SEED_NUM)\n",
    "torch.cuda.manual_seed_all(seed=SEED_NUM)"
   ]
  },
  {
   "cell_type": "markdown",
   "metadata": {},
   "source": [
    "#### 00.2. **사용자정의함수 정의**"
   ]
  },
  {
   "cell_type": "code",
   "execution_count": 3,
   "metadata": {},
   "outputs": [],
   "source": [
    "pass"
   ]
  },
  {
   "cell_type": "markdown",
   "metadata": {},
   "source": [
    "#### 00.3. **클래스 정의**"
   ]
  },
  {
   "cell_type": "code",
   "execution_count": 4,
   "metadata": {},
   "outputs": [],
   "source": [
    "pass"
   ]
  },
  {
   "cell_type": "markdown",
   "metadata": {},
   "source": [
    "<b></b>"
   ]
  },
  {
   "cell_type": "markdown",
   "metadata": {},
   "source": [
    "## 01. **데이터 로더(Data Loader)**"
   ]
  },
  {
   "cell_type": "markdown",
   "metadata": {},
   "source": [
    "#### 01.1. **정의** : 모델 학습에 필요한 데이터의 전처리 및 학습 처리(배치, 셔플 등)을 지원하는 객체"
   ]
  },
  {
   "cell_type": "markdown",
   "metadata": {},
   "source": [
    "#### 01.2. **특징** : \n",
    "##### $ \\hspace{0.15cm} $ ① 데이터셋의 인덱스를 생성함으로써 셔플 및 배치 처리하고, 준비된 데이터는 큐(Queue;선입선출의 자료구조)를 통해 메인 프로세스에 전달\n",
    "##### $ \\hspace{0.15cm} $ ② generator 클래스로 정의되며, next() 메서드를 통해 차례로 값에 접근하기 때문에 메모리를 효율적으로 관리함 \n",
    "##### $ \\hspace{0.15cm} $ ③ `pin_memory`, `drop_last`, `sampler` 파라미터 등 다양한 옵션을 통해 세밀한 제어 가능"
   ]
  },
  {
   "cell_type": "markdown",
   "metadata": {},
   "source": [
    "<b></b>"
   ]
  },
  {
   "cell_type": "markdown",
   "metadata": {},
   "source": [
    "## 02. **데이터 불러오기 및 전처리**"
   ]
  },
  {
   "cell_type": "markdown",
   "metadata": {},
   "source": [
    "#### 02.1. **이미지 전처리 파이프라인 정의** : `torchvision.transforms.Compose`"
   ]
  },
  {
   "cell_type": "code",
   "execution_count": 5,
   "metadata": {},
   "outputs": [],
   "source": [
    "img_tf = torchvision.transforms.Compose(\n",
    "    transforms=[\n",
    "        torchvision.transforms.Resize(size=(16, 16)),\n",
    "        torchvision.transforms.ToTensor()\n",
    "    ]\n",
    ")"
   ]
  },
  {
   "cell_type": "markdown",
   "metadata": {},
   "source": [
    "#### **(`PLUS`)** 대표적인 이미지 전처리 함수들\n",
    "#### $ \\hspace{0.15cm} \\cdot{} $ `torchvision.transforms.Resize()` : \n",
    "#### $ \\hspace{0.15cm} \\cdot{} $ `RandomAffine()` :\n",
    "#### $ \\hspace{0.15cm} \\cdot{} $ `torchvision.transforms.Grayscale()` :\n",
    "#### $ \\hspace{0.15cm} \\cdot{} $ `torchvision.transforms.Normalize()` : \n",
    "#### $ \\hspace{0.15cm} \\cdots{} $"
   ]
  },
  {
   "cell_type": "markdown",
   "metadata": {},
   "source": [
    "#### 02.2. **내장 데이터셋 호출 및 전처리**"
   ]
  },
  {
   "cell_type": "code",
   "execution_count": 6,
   "metadata": {},
   "outputs": [],
   "source": [
    "#(1) Download train dataset\n",
    "train = torchvision.datasets.CIFAR10(root='../../data', train=True, download=True, transform=img_tf)"
   ]
  },
  {
   "cell_type": "code",
   "execution_count": 7,
   "metadata": {},
   "outputs": [
    {
     "data": {
      "text/plain": [
       "50000"
      ]
     },
     "execution_count": 7,
     "metadata": {},
     "output_type": "execute_result"
    }
   ],
   "source": [
    "#(2) Check train dataset length\n",
    "len(train)"
   ]
  },
  {
   "cell_type": "code",
   "execution_count": 8,
   "metadata": {},
   "outputs": [
    {
     "data": {
      "text/plain": [
       "torch.Size([3, 16, 16])"
      ]
     },
     "execution_count": 8,
     "metadata": {},
     "output_type": "execute_result"
    }
   ],
   "source": [
    "#(3) Check image shape\n",
    "train[0][0].size()"
   ]
  },
  {
   "cell_type": "markdown",
   "metadata": {},
   "source": [
    "#### **(`PLUS`)** Dataset 클래스의 인덱스 구조 : \n",
    "#### $ \\hspace{0.15cm} \\cdot{} $ `Dataset[num][0]` : `num`번 째 데이터셋의 입력 데이터\n",
    "#### $ \\hspace{0.15cm} \\cdot{} $ `Dataset[num][1]` : `num`번 째 데이터셋의 타겟 데이터"
   ]
  },
  {
   "cell_type": "markdown",
   "metadata": {},
   "source": [
    "#### 02.3. **데이터로더 객체로 변환**"
   ]
  },
  {
   "cell_type": "code",
   "execution_count": 9,
   "metadata": {},
   "outputs": [
    {
     "data": {
      "text/plain": [
       "1000"
      ]
     },
     "execution_count": 9,
     "metadata": {},
     "output_type": "execute_result"
    }
   ],
   "source": [
    "#(1)\n",
    "train_loader = torch.utils.data.DataLoader(dataset=train, batch_size=50, shuffle=True)\n",
    "\n",
    "#(2) Check batch count\n",
    "len(train_loader)"
   ]
  },
  {
   "cell_type": "markdown",
   "metadata": {},
   "source": [
    "#### 02.4. **데이터로더 접근**"
   ]
  },
  {
   "cell_type": "code",
   "execution_count": 10,
   "metadata": {},
   "outputs": [],
   "source": [
    "inputs, targets = next(iter(train_loader))"
   ]
  },
  {
   "cell_type": "markdown",
   "metadata": {},
   "source": [
    "#### 02.5. **배치 단위 반복(iteration) 시행**"
   ]
  },
  {
   "cell_type": "code",
   "execution_count": 11,
   "metadata": {},
   "outputs": [],
   "source": [
    "for inputs, targets in train_loader :\n",
    "    pass # anything #"
   ]
  }
 ],
 "metadata": {
  "kernelspec": {
   "display_name": "PYTCH",
   "language": "python",
   "name": "python3"
  },
  "language_info": {
   "codemirror_mode": {
    "name": "ipython",
    "version": 3
   },
   "file_extension": ".py",
   "mimetype": "text/x-python",
   "name": "python",
   "nbconvert_exporter": "python",
   "pygments_lexer": "ipython3",
   "version": "3.10.16"
  }
 },
 "nbformat": 4,
 "nbformat_minor": 2
}
