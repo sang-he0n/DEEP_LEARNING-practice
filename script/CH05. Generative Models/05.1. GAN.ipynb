{
 "cells": [
  {
   "cell_type": "markdown",
   "metadata": {},
   "source": [
    "# CH05.1. **Generative Adversarial Networks**"
   ]
  },
  {
   "cell_type": "markdown",
   "metadata": {},
   "source": [
    "## 00. **작업 환경 설정**"
   ]
  },
  {
   "cell_type": "markdown",
   "metadata": {},
   "source": [
    "#### 00.0. **사전 변수 설정**"
   ]
  },
  {
   "cell_type": "code",
   "execution_count": null,
   "metadata": {},
   "outputs": [],
   "source": [
    "SEED_NUM = 2025\n",
    "BATCH_SIZE = 2\n",
    "EPOCH_NUM = 50\n",
    "USE_CHECKPOINT_YN = 'N'\n",
    "MODEL_PTH = '../../model/mnistFashionGAN.pt'\n",
    "LOGGER_PTH = '../../log/mnistFashionTrainLogger.pt'"
   ]
  },
  {
   "cell_type": "markdown",
   "metadata": {},
   "source": [
    "#### 00.1. **라이브러리 호출 및 옵션 설정**"
   ]
  },
  {
   "cell_type": "code",
   "execution_count": 2,
   "metadata": {},
   "outputs": [
    {
     "name": "stdout",
     "output_type": "stream",
     "text": [
      ">> Device : mps\n"
     ]
    },
    {
     "data": {
      "application/vnd.jupyter.widget-view+json": {
       "model_id": "ce93174209da40319b7b87bd63822418",
       "version_major": 2,
       "version_minor": 0
      },
      "text/plain": [
       "HTML(value='')"
      ]
     },
     "metadata": {},
     "output_type": "display_data"
    }
   ],
   "source": [
    "#(1) Import libraries\n",
    "import os\n",
    "import ipywidgets\n",
    "import random\n",
    "import tqdm\n",
    "import collections\n",
    "import numpy as np\n",
    "import pandas as pd\n",
    "import matplotlib.pyplot as plt \n",
    "import torch\n",
    "import torchvision\n",
    "import torchinfo\n",
    "\n",
    "#(2) Set up options\n",
    "os.environ['PYTHONHASHSEED'] = str(SEED_NUM)\n",
    "random.seed(a=SEED_NUM)\n",
    "np.random.seed(seed=SEED_NUM)\n",
    "torch.use_deterministic_algorithms(mode=True)\n",
    "torch.manual_seed(seed=SEED_NUM)\n",
    "torch.mps.manual_seed(seed=SEED_NUM)\n",
    "\n",
    "#(3) Set up device\n",
    "if torch.backends.mps.is_available() :\n",
    "    device = torch.device(device='mps')\n",
    "else :\n",
    "    device = torch.device(device='cpu')\n",
    "print(f'>> Device : {device}')\n",
    "\n",
    "#(4) Set up HTML tag\n",
    "display(ipywidgets.HTML(data=\n",
    "'''\n",
    "<style> \n",
    "    .white-play button {\n",
    "        background-color: white !important; \n",
    "        color: black !important;\n",
    "    } \n",
    "</style>\n",
    "'''\n",
    "))"
   ]
  },
  {
   "cell_type": "markdown",
   "metadata": {},
   "source": [
    "#### 00.2. **사용자정의함수 정의**"
   ]
  },
  {
   "cell_type": "code",
   "execution_count": 3,
   "metadata": {},
   "outputs": [],
   "source": [
    "#(1) Define `show_img` function\n",
    "def show_img(df:torchvision.datasets, index:int) -> plt.figure :\n",
    "    img = df[index][0]\n",
    "    target = df[index][1]\n",
    "    img = (img/2+0.5).numpy() # -1 ~ 1 normalization \n",
    "    channel_cnt = img.shape[0]\n",
    "    if channel_cnt == 3 :\n",
    "        img = np.transpose(a=img, axes=(1, 2, 0))\n",
    "        plt.imshow(X=img) \n",
    "    elif channel_cnt == 1 : \n",
    "        img = np.squeeze(a=img, axis=0)\n",
    "        plt.imshow(X=img, cmap='gray')\n",
    "    else : \n",
    "        pass \n",
    "    plt.xlabel(xlabel=f'Target : {target}({df.classes[target]})')\n",
    "    plt.show()\n",
    "\n",
    "#(2) Define "
   ]
  },
  {
   "cell_type": "markdown",
   "metadata": {},
   "source": [
    "#### 00.3. **클래스 정의**"
   ]
  },
  {
   "cell_type": "code",
   "execution_count": 28,
   "metadata": {},
   "outputs": [],
   "source": [
    "#(1) Create `Generator` class\n",
    "class Generator(torch.nn.Module) :\n",
    "    def __init__(self, input_shape:list, latent_dim:int, device:torch.device) :\n",
    "        super().__init__()\n",
    "        self.latent_dim = latent_dim\n",
    "        self.output_dim = input_shape[1] * input_shape[2]\n",
    "        self.device = device\n",
    "        self.linear_block = torch.nn.Sequential(\n",
    "            torch.nn.Linear(in_features=self.latent_dim, out_features=256),\n",
    "            torch.nn.LeakyReLU(negative_slope=0.2),\n",
    "            torch.nn.Linear(in_features=256, out_features=512),\n",
    "            torch.nn.LeakyReLU(negative_slope=0.2),\n",
    "            torch.nn.Linear(in_features=512, out_features=1024),\n",
    "            torch.nn.LeakyReLU(negative_slope=0.2),\n",
    "            torch.nn.Linear(in_features=1024, out_features=self.output_dim),\n",
    "            torch.nn.Tanh()\n",
    "        )\n",
    "        self.to(device=device)\n",
    "    def forward(self, x:torch.Tensor) -> torch.Tensor :\n",
    "        x = x.to(device=self.device)\n",
    "        x = self.linear_block(x)\n",
    "        x = x.reshape(shape=(-1, 1, 28, 28))\n",
    "        return x\n",
    "\n",
    "#(2) Create `Discriminator` class\n",
    "class Discriminator(torch.nn.Module):\n",
    "    def __init__(self, input_shape:list, device:torch.device) :\n",
    "        super().__init__()\n",
    "        self.input_dim = input_shape[1] * input_shape[2]\n",
    "        self.device = device\n",
    "        self.linear_block = torch.nn.Sequential(\n",
    "            torch.nn.Linear(in_features=self.input_dim, out_features=1024),\n",
    "            torch.nn.LeakyReLU(negative_slope=0.2),\n",
    "            torch.nn.Dropout(p=0.3),\n",
    "            torch.nn.Linear(in_features=1024, out_features=512),\n",
    "            torch.nn.LeakyReLU(negative_slope=0.2),\n",
    "            torch.nn.Dropout(p=0.3),\n",
    "            torch.nn.Linear(in_features=512, out_features=256),\n",
    "            torch.nn.LeakyReLU(negative_slope=0.2),\n",
    "            torch.nn.Dropout(p=0.3),\n",
    "            torch.nn.Linear(in_features=256, out_features=1), \n",
    "            torch.nn.Sigmoid()\n",
    "        )\n",
    "        self.to(device=device)\n",
    "    def forward(self, x:torch.Tensor) -> torch.Tensor :\n",
    "        x = x.to(device=self.device)\n",
    "        x = x.reshape(shape=(-1, 784))\n",
    "        x = self.linear_block(x)\n",
    "        return x \n",
    "    \n",
    "#(3) Define `TrainLogger` class\n",
    "class TrainLogger : \n",
    "    def __init__(self) :\n",
    "        self.train_log = {\n",
    "            'epoch'       : [],\n",
    "            'inputs_real' : [],\n",
    "            'preds_real'  : [],\n",
    "            'preds_fake'  : []\n",
    "        }\n",
    "    def log(self, epoch:int, inputs_real:torch.Tensor, preds_real:torch.Tensor, preds_fake:torch.Tensor, path:str) :\n",
    "        self.train_log['epoch'].append(epoch)\n",
    "        self.train_log['inputs_real'].append(inputs_real)\n",
    "        self.train_log['preds_real'].append(preds_real)\n",
    "        self.train_log['preds_fake'].append(preds_fake)\n",
    "        torch.save(obj={'train_log':self.train_log}, f=path)\n",
    "    def move_device(self, device:str) :\n",
    "        for i in range(len(self.train_log['inputs_real'])) :\n",
    "            if (device == 'cpu') :\n",
    "                self.train_log['inputs_real'][i] = self.train_log['inputs_real'][i].detach().cpu().numpy()\n",
    "                self.train_log['preds_real'][i] = self.train_log['preds_real'][i].detach().cpu().numpy()\n",
    "                self.train_log['preds_fake'][i] = self.train_log['preds_fake'][i].detach().cpu().numpy()\n",
    "            else :\n",
    "                self.train_log['inputs_real'][i] = self.train_log['inputs_real'][i].to(device=device)\n",
    "                self.train_log['preds_real'][i] = self.train_log['preds_real'][i].to(device=device)\n",
    "                self.train_log['preds_fake'][i] = self.train_log['preds_fake'][i].to(device=device)\n",
    "\n",
    "#(4) Define `Visualizer` class\n",
    "class Visualizer :    \n",
    "    def __init__(self, train_log:dict, fig_size:tuple=(8, 8)) :\n",
    "        self.train_log = train_log\n",
    "        self.fig_size = fig_size\n",
    "        self.epoch_min = min(self.train_log['epoch'])\n",
    "        self.epoch_max = max(self.train_log['epoch'])\n",
    "        self.epoch_num = len(train_log['epoch']) - 1\n",
    "        self.sample_num = train_log['inputs_real'][0].shape[0] - 1\n",
    "        self.widget_output = ipywidgets.Output(\n",
    "            layout=ipywidgets.Layout(\n",
    "                width='auto', \n",
    "                height='auto', \n",
    "                margin='0px', \n",
    "                padding='0px'\n",
    "            )\n",
    "        )\n",
    "        self.epoch_play = ipywidgets.Play(\n",
    "            min=self.epoch_min,\n",
    "            max=self.epoch_max,\n",
    "            step=1,\n",
    "            value=0,\n",
    "            interval=250,\n",
    "            description='Epoch Play',\n",
    "            disabled=False\n",
    "        )\n",
    "        self.epoch_play.add_class(className='white-play')\n",
    "        self.epoch_slider = ipywidgets.IntSlider(\n",
    "            min=self.epoch_min,\n",
    "            max=self.epoch_max,\n",
    "            step=1,\n",
    "            value=0,\n",
    "            description='Epoch',\n",
    "            continuous_update=True,\n",
    "            orientation='horizontal',\n",
    "            readout=True,\n",
    "            readout_format='d'\n",
    "        )\n",
    "        self.sample_slider = ipywidgets.IntSlider(\n",
    "            min=0,\n",
    "            max=self.sample_num,\n",
    "            step=1,\n",
    "            value=0,\n",
    "            description='Sample',\n",
    "            continuous_update=True,\n",
    "            orientation='horizontal',\n",
    "            readout=True,\n",
    "            readout_format='d'\n",
    "        )\n",
    "        ipywidgets.jslink(attr1=(self.epoch_play, 'value'), attr2=(self.epoch_slider, 'value'))\n",
    "        self.epoch_slider.observe(handler=self.on_epoch_change, names='value')\n",
    "        self.sample_slider.observe(handler=self.on_sample_change, names='value')\n",
    "        with self.widget_output:\n",
    "            self.fig, (self.ax1, self.ax2, self.ax3) = plt.subplots(nrows=1, ncols=3, figsize=self.fig_size)\n",
    "            try:\n",
    "                self.fig.canvas.header_visible = False\n",
    "                self.fig.canvas.toolbar_visible = False\n",
    "            except:\n",
    "                pass\n",
    "            plt.show()\n",
    "        self.update_view()\n",
    "    def on_epoch_change(self, change:dict) :\n",
    "        self.update_view()\n",
    "    def on_sample_change(self, change:dict) :\n",
    "        self.update_view()\n",
    "    def update_view(self) :\n",
    "        with self.widget_output:\n",
    "            self.ax1.clear()\n",
    "            self.ax2.clear()\n",
    "            ep_value = self.epoch_slider.value\n",
    "            ep_idx = self.train_log['epoch'].index(ep_value)\n",
    "            sp_idx = self.sample_slider.value\n",
    "            input_real_img = self.train_log['inputs_real'][ep_idx][sp_idx].squeeze()\n",
    "            pred_real_img = self.train_log['preds_real'][ep_idx][sp_idx].squeeze()\n",
    "            pred_fake_img = self.train_log['preds_fake'][ep_idx][sp_idx].squeeze()\n",
    "            self.ax1.imshow(X=input_real_img, cmap='gray')\n",
    "            self.ax1.set_title(label='Target', fontdict={'fontsize': 12})\n",
    "            self.ax1.set_aspect(aspect='auto')\n",
    "            self.ax1.axis('off')\n",
    "            self.ax2.imshow(X=pred_real_img, cmap='gray')\n",
    "            self.ax2.set_title(label='Prediction (Real)', fontdict={'fontsize': 12})\n",
    "            self.ax2.set_aspect(aspect='auto')\n",
    "            self.ax2.axis('off')\n",
    "            self.ax3.imshow(X=pred_fake_img, cmap='gray')\n",
    "            self.ax3.set_title(label='Prediction (Fake)', fontdict={'fontsize': 12})\n",
    "            self.ax3.set_aspect(aspect='auto')\n",
    "            self.ax3.axis('off')\n",
    "            self.fig.canvas.draw_idle()\n",
    "    def plot_compare(self) -> ipywidgets.widgets :\n",
    "        controls_box = ipywidgets.VBox(\n",
    "            children=[\n",
    "                self.epoch_slider,\n",
    "                self.sample_slider,\n",
    "                self.epoch_play\n",
    "            ],\n",
    "            layout=ipywidgets.Layout(\n",
    "                align_items='center',\n",
    "                margin='0% 0% 15% -5%'\n",
    "            )\n",
    "        )\n",
    "        ui = ipywidgets.HBox(\n",
    "            children=[self.widget_output, controls_box],\n",
    "            layout=ipywidgets.Layout(\n",
    "                justify_content='flex-start',\n",
    "                align_items='center',\n",
    "                width='auto',\n",
    "                margin='0px',\n",
    "                padding='0px'\n",
    "            )\n",
    "        )\n",
    "        display(ui)"
   ]
  },
  {
   "cell_type": "markdown",
   "metadata": {},
   "source": [
    "<b></b>"
   ]
  },
  {
   "cell_type": "markdown",
   "metadata": {},
   "source": [
    "## 01. **데이터셋 전처리 및 로드**"
   ]
  },
  {
   "cell_type": "markdown",
   "metadata": {},
   "source": [
    "#### 01.1. **이미지 전처리 파이프라인 정의**"
   ]
  },
  {
   "cell_type": "code",
   "execution_count": 5,
   "metadata": {},
   "outputs": [],
   "source": [
    "img_tf = torchvision.transforms.Compose(\n",
    "    transforms=[\n",
    "        torchvision.transforms.ToTensor(),\n",
    "        torchvision.transforms.Normalize(mean=(0.5,), std=(0.5,))\n",
    "    ]\n",
    ")"
   ]
  },
  {
   "cell_type": "markdown",
   "metadata": {},
   "source": [
    "#### 01.2. **데이터셋 로드**"
   ]
  },
  {
   "cell_type": "code",
   "execution_count": 6,
   "metadata": {},
   "outputs": [],
   "source": [
    "mnist_train = torchvision.datasets.FashionMNIST(root='../../data', train=True, download=True, transform=img_tf)\n",
    "mnist_test = torchvision.datasets.FashionMNIST(root='../../data', train=False, download=True, transform=img_tf)"
   ]
  },
  {
   "cell_type": "markdown",
   "metadata": {},
   "source": [
    "#### 01.3. **EDA**"
   ]
  },
  {
   "cell_type": "code",
   "execution_count": 7,
   "metadata": {},
   "outputs": [
    {
     "data": {
      "text/plain": [
       "60000"
      ]
     },
     "execution_count": 7,
     "metadata": {},
     "output_type": "execute_result"
    }
   ],
   "source": [
    "#(1) Print sample of train\n",
    "len(mnist_train)"
   ]
  },
  {
   "cell_type": "code",
   "execution_count": 8,
   "metadata": {},
   "outputs": [
    {
     "data": {
      "image/png": "[encoded data removed]",
      "text/plain": [
       "<Figure size 640x480 with 1 Axes>"
      ]
     },
     "metadata": {},
     "output_type": "display_data"
    }
   ],
   "source": [
    "#(2) Display image\n",
    "show_img(df=mnist_train, index=5)"
   ]
  },
  {
   "cell_type": "code",
   "execution_count": 9,
   "metadata": {},
   "outputs": [
    {
     "data": {
      "text/plain": [
       "[1, 28, 28]"
      ]
     },
     "execution_count": 9,
     "metadata": {},
     "output_type": "execute_result"
    }
   ],
   "source": [
    "#(3) Check `input_size`\n",
    "input_shape = list(mnist_train[0][0].shape)\n",
    "\n",
    "#(4) Print `input_size`\n",
    "input_shape"
   ]
  },
  {
   "cell_type": "code",
   "execution_count": 10,
   "metadata": {},
   "outputs": [
    {
     "data": {
      "text/html": [
       "<div>\n",
       "<style scoped>\n",
       "    .dataframe tbody tr th:only-of-type {\n",
       "        vertical-align: middle;\n",
       "    }\n",
       "\n",
       "    .dataframe tbody tr th {\n",
       "        vertical-align: top;\n",
       "    }\n",
       "\n",
       "    .dataframe thead th {\n",
       "        text-align: right;\n",
       "    }\n",
       "</style>\n",
       "<table border=\"1\" class=\"dataframe\">\n",
       "  <thead>\n",
       "    <tr style=\"text-align: right;\">\n",
       "      <th></th>\n",
       "      <th>class</th>\n",
       "      <th>count</th>\n",
       "    </tr>\n",
       "  </thead>\n",
       "  <tbody>\n",
       "    <tr>\n",
       "      <th>1</th>\n",
       "      <td>0</td>\n",
       "      <td>6000</td>\n",
       "    </tr>\n",
       "    <tr>\n",
       "      <th>6</th>\n",
       "      <td>1</td>\n",
       "      <td>6000</td>\n",
       "    </tr>\n",
       "    <tr>\n",
       "      <th>3</th>\n",
       "      <td>2</td>\n",
       "      <td>6000</td>\n",
       "    </tr>\n",
       "    <tr>\n",
       "      <th>2</th>\n",
       "      <td>3</td>\n",
       "      <td>6000</td>\n",
       "    </tr>\n",
       "    <tr>\n",
       "      <th>8</th>\n",
       "      <td>4</td>\n",
       "      <td>6000</td>\n",
       "    </tr>\n",
       "    <tr>\n",
       "      <th>5</th>\n",
       "      <td>5</td>\n",
       "      <td>6000</td>\n",
       "    </tr>\n",
       "    <tr>\n",
       "      <th>7</th>\n",
       "      <td>6</td>\n",
       "      <td>6000</td>\n",
       "    </tr>\n",
       "    <tr>\n",
       "      <th>4</th>\n",
       "      <td>7</td>\n",
       "      <td>6000</td>\n",
       "    </tr>\n",
       "    <tr>\n",
       "      <th>9</th>\n",
       "      <td>8</td>\n",
       "      <td>6000</td>\n",
       "    </tr>\n",
       "    <tr>\n",
       "      <th>0</th>\n",
       "      <td>9</td>\n",
       "      <td>6000</td>\n",
       "    </tr>\n",
       "  </tbody>\n",
       "</table>\n",
       "</div>"
      ],
      "text/plain": [
       "   class  count\n",
       "1      0   6000\n",
       "6      1   6000\n",
       "3      2   6000\n",
       "2      3   6000\n",
       "8      4   6000\n",
       "5      5   6000\n",
       "7      6   6000\n",
       "4      7   6000\n",
       "9      8   6000\n",
       "0      9   6000"
      ]
     },
     "execution_count": 10,
     "metadata": {},
     "output_type": "execute_result"
    }
   ],
   "source": [
    "#(5) Print frequency of target class\n",
    "target_freq = collections.Counter()\n",
    "for i in range(len(mnist_train)):\n",
    "    input, target = mnist_train[i]\n",
    "    if isinstance(target, torch.Tensor) :\n",
    "        target = target.item()\n",
    "    target_freq[target] += 1\n",
    "pd.DataFrame(data=list(target_freq.items()), columns=['class', 'count']).sort_values(by='class')"
   ]
  },
  {
   "cell_type": "markdown",
   "metadata": {},
   "source": [
    "#### 01.4. **데이터로더 변환**"
   ]
  },
  {
   "cell_type": "code",
   "execution_count": 11,
   "metadata": {},
   "outputs": [],
   "source": [
    "mnist_train_loader = torch.utils.data.DataLoader(dataset=mnist_train, batch_size=BATCH_SIZE, shuffle=False)\n",
    "mnist_test_loader = torch.utils.data.DataLoader(dataset=mnist_test, batch_size=BATCH_SIZE, shuffle=True)"
   ]
  },
  {
   "cell_type": "markdown",
   "metadata": {},
   "source": [
    "<b></b>"
   ]
  },
  {
   "cell_type": "markdown",
   "metadata": {},
   "source": [
    "## 02. **모델 구축 및 학습**"
   ]
  },
  {
   "cell_type": "markdown",
   "metadata": {},
   "source": [
    "#### 02.1. **하이퍼 파라미터 정의**"
   ]
  },
  {
   "cell_type": "code",
   "execution_count": 12,
   "metadata": {},
   "outputs": [],
   "source": [
    "latent_dim = 128"
   ]
  },
  {
   "cell_type": "markdown",
   "metadata": {},
   "source": [
    "#### 02.2.1. **Generator 모델 정의**"
   ]
  },
  {
   "cell_type": "code",
   "execution_count": 13,
   "metadata": {},
   "outputs": [
    {
     "data": {
      "text/plain": [
       "==========================================================================================\n",
       "Layer (type:depth-idx)                   Output Shape              Param #\n",
       "==========================================================================================\n",
       "Generator                                [2, 1, 28, 28]            --\n",
       "├─Sequential: 1-1                        [2, 784]                  --\n",
       "│    └─Linear: 2-1                       [2, 256]                  33,024\n",
       "│    └─LeakyReLU: 2-2                    [2, 256]                  --\n",
       "│    └─Linear: 2-3                       [2, 512]                  131,584\n",
       "│    └─LeakyReLU: 2-4                    [2, 512]                  --\n",
       "│    └─Linear: 2-5                       [2, 1024]                 525,312\n",
       "│    └─LeakyReLU: 2-6                    [2, 1024]                 --\n",
       "│    └─Linear: 2-7                       [2, 784]                  803,600\n",
       "│    └─Tanh: 2-8                         [2, 784]                  --\n",
       "==========================================================================================\n",
       "Total params: 1,493,520\n",
       "Trainable params: 1,493,520\n",
       "Non-trainable params: 0\n",
       "Total mult-adds (M): 2.99\n",
       "==========================================================================================\n",
       "Input size (MB): 0.00\n",
       "Forward/backward pass size (MB): 0.04\n",
       "Params size (MB): 5.97\n",
       "Estimated Total Size (MB): 6.02\n",
       "=========================================================================================="
      ]
     },
     "execution_count": 13,
     "metadata": {},
     "output_type": "execute_result"
    }
   ],
   "source": [
    "#(1) Define `gen_model`\n",
    "gen_model = Generator(input_shape=input_shape, latent_dim=latent_dim, device=device)\n",
    "\n",
    "#(2) Display `gen_model`\n",
    "torchinfo.summary(\n",
    "    model=gen_model, \n",
    "    input_size=[BATCH_SIZE]+[latent_dim],\n",
    "    device=device\n",
    ")"
   ]
  },
  {
   "cell_type": "code",
   "execution_count": 14,
   "metadata": {},
   "outputs": [],
   "source": [
    "#(4) Define optimizer(optimization method)\n",
    "gen_optimizer = torch.optim.Adam(params=gen_model.parameters(), lr=1e-3, weight_decay=1e-7)\n",
    "\n",
    "#(5) Define loss function\n",
    "criterion = torch.nn.BCELoss()\n",
    "\n",
    "#(6) Define Scheduler\n",
    "# scheduler = torch.optim.lr_scheduler.StepLR(optimizer=optimizer, step_size=30, gamma=0.1)\n",
    "\n",
    "#(7) Define logger\n",
    "logger = TrainLogger()"
   ]
  },
  {
   "cell_type": "markdown",
   "metadata": {},
   "source": [
    "#### 02.2.2. **Discriminator 모델 정의**"
   ]
  },
  {
   "cell_type": "code",
   "execution_count": 15,
   "metadata": {},
   "outputs": [
    {
     "data": {
      "text/plain": [
       "==========================================================================================\n",
       "Layer (type:depth-idx)                   Output Shape              Param #\n",
       "==========================================================================================\n",
       "Discriminator                            [2, 1]                    --\n",
       "├─Sequential: 1-1                        [2, 1]                    --\n",
       "│    └─Linear: 2-1                       [2, 1024]                 803,840\n",
       "│    └─LeakyReLU: 2-2                    [2, 1024]                 --\n",
       "│    └─Dropout: 2-3                      [2, 1024]                 --\n",
       "│    └─Linear: 2-4                       [2, 512]                  524,800\n",
       "│    └─LeakyReLU: 2-5                    [2, 512]                  --\n",
       "│    └─Dropout: 2-6                      [2, 512]                  --\n",
       "│    └─Linear: 2-7                       [2, 256]                  131,328\n",
       "│    └─LeakyReLU: 2-8                    [2, 256]                  --\n",
       "│    └─Dropout: 2-9                      [2, 256]                  --\n",
       "│    └─Linear: 2-10                      [2, 1]                    257\n",
       "│    └─Sigmoid: 2-11                     [2, 1]                    --\n",
       "==========================================================================================\n",
       "Total params: 1,460,225\n",
       "Trainable params: 1,460,225\n",
       "Non-trainable params: 0\n",
       "Total mult-adds (M): 2.92\n",
       "==========================================================================================\n",
       "Input size (MB): 0.01\n",
       "Forward/backward pass size (MB): 0.03\n",
       "Params size (MB): 5.84\n",
       "Estimated Total Size (MB): 5.88\n",
       "=========================================================================================="
      ]
     },
     "execution_count": 15,
     "metadata": {},
     "output_type": "execute_result"
    }
   ],
   "source": [
    "#(1) Define `disc_model`\n",
    "disc_model = Discriminator(input_shape=input_shape, device=device)\n",
    "\n",
    "#(2) Display `disc_model`\n",
    "torchinfo.summary(\n",
    "    model=disc_model, \n",
    "    input_size=[BATCH_SIZE]+input_shape,\n",
    "    device=device\n",
    ")"
   ]
  },
  {
   "cell_type": "code",
   "execution_count": 16,
   "metadata": {},
   "outputs": [],
   "source": [
    "#(3) Define optimizer(optimization method)\n",
    "disc_optimizer = torch.optim.Adam(params=disc_model.parameters(), lr=1e-3, weight_decay=1e-7)"
   ]
  },
  {
   "cell_type": "markdown",
   "metadata": {},
   "source": [
    "#### 02.2. **학습 전 변수 정의**"
   ]
  },
  {
   "cell_type": "code",
   "execution_count": 17,
   "metadata": {},
   "outputs": [
    {
     "name": "stdout",
     "output_type": "stream",
     "text": [
      ">> Epoch=0, Best Total Train Loss=inf, Train Loss={'total_loss': [], 'gen_loss': [], 'disc_real_loss': [], 'disc_fake_loss': []}\n"
     ]
    }
   ],
   "source": [
    "epoch = 0 \n",
    "loss_hist = {\n",
    "    'total_loss'     : [],\n",
    "    'gen_loss'       : [],\n",
    "    'disc_real_loss' : [],\n",
    "    'disc_fake_loss' : []\n",
    "}\n",
    "best_loss = {\n",
    "    'total_loss'     : 0.0,\n",
    "    'gen_loss'       : 0.0,        \n",
    "    'disc_real_loss' : 0.0,\n",
    "    'disc_fake_loss' : 0.0\n",
    "}\n",
    "best_total_loss = float('inf')\n",
    "if USE_CHECKPOINT_YN == 'Y' :\n",
    "    try :\n",
    "        checkpoint = torch.load(f=MODEL_PTH, map_location=device)\n",
    "        gen_model.load_state_dict(state_dict=checkpoint['gen_model'])\n",
    "        gen_optimizer.load_state_dict(state_dict=checkpoint['gen_optimizer'])\n",
    "        disc_model.load_state_dict(state_dict=checkpoint['disc_model'])\n",
    "        disc_optimizer.load_state_dict(state_dict=checkpoint['disc_optimizer'])\n",
    "        epoch = checkpoint['best_epoch']\n",
    "        loss_hist = checkpoint['loss_hist']\n",
    "        # best_loss = loss_hist[-1]\n",
    "        best_total_loss = loss_hist['gen_loss'][-1] + loss_hist['disc_real_loss'][-1] + loss_hist['disc_fake_loss'][-1]\n",
    "        # logger.train_log = torch.load(f=LOGGER_PTH, map_location=device)['train_log']\n",
    "    except Exception :\n",
    "        pass\n",
    "print(f'>> Epoch={epoch}, Best Total Train Loss={best_total_loss}, Train Loss={loss_hist}')"
   ]
  },
  {
   "cell_type": "markdown",
   "metadata": {},
   "source": [
    "#### 02.3. **모델 학습**"
   ]
  },
  {
   "cell_type": "code",
   "execution_count": 18,
   "metadata": {},
   "outputs": [
    {
     "name": "stderr",
     "output_type": "stream",
     "text": [
      "100%|██████████| 25/25 [3:39:57<00:00, 527.89s/it, last_epoch=25, last_total_loss=3e+6, best_epoch=1, best_total_loss=2.72e+6]     \n"
     ]
    }
   ],
   "source": [
    "batch_len = len(mnist_train_loader)\n",
    "best_epoch = epoch\n",
    "progress_bar = tqdm.trange(epoch+1, EPOCH_NUM+1)\n",
    "for epoch in progress_bar : \n",
    "    last_loss = {\n",
    "        'total_loss'     : 0.0,\n",
    "        'gen_loss'       : 0.0,        \n",
    "        'disc_real_loss' : 0.0,\n",
    "        'disc_fake_loss' : 0.0\n",
    "    }\n",
    "    gen_model.train()\n",
    "    disc_model.train()\n",
    "    for batch_idx, (inputs_real, targets) in enumerate(iterable=mnist_train_loader) :\n",
    "        disc_model.requires_grad_(requires_grad=True)\n",
    "        disc_optimizer.zero_grad()\n",
    "        current_batch_size = inputs_real.shape[0]\n",
    "        # ---- ---- #\n",
    "        labels_real = torch.ones(size=(current_batch_size, 1), device=device)\n",
    "        preds_real = disc_model(x=inputs_real)\n",
    "        disc_real_loss = criterion(input=preds_real, target=labels_real)\n",
    "        # ---- ---- #\n",
    "        noise = torch.randn(size=(current_batch_size, latent_dim), device=device)\n",
    "        inputs_fake = gen_model(x=noise)\n",
    "        labels_fake = torch.zeros(size=(current_batch_size, 1), device=device)\n",
    "        preds_fake = disc_model(x=inputs_fake)\n",
    "        disc_fake_loss = criterion(input=preds_fake, target=labels_fake)\n",
    "        # ---- ---- #\n",
    "        disc_total_loss = disc_real_loss + disc_fake_loss\n",
    "        disc_total_loss.backward()\n",
    "        disc_optimizer.step()\n",
    "        # ---- ---- #\n",
    "        last_loss['disc_real_loss'] += disc_real_loss.item()\n",
    "        last_loss['disc_fake_loss'] += disc_fake_loss.item()\n",
    "        # ---- ---- #\n",
    "        disc_model.requires_grad_(requires_grad=False)\n",
    "        gen_optimizer.zero_grad() \n",
    "        noise = torch.randn(size=(current_batch_size, latent_dim), device=device)\n",
    "        inputs_fake = gen_model(x=noise)\n",
    "        preds_fake = disc_model(x=inputs_fake)\n",
    "        gen_loss = criterion(input=preds_fake, target=labels_real)\n",
    "        gen_loss.backward()\n",
    "        gen_optimizer.step()\n",
    "        last_loss['gen_loss'] += gen_loss.item()\n",
    "        # ---- ---- #\n",
    "        if batch_idx == 0 : \n",
    "            inputs_real_b_0 = inputs_real\n",
    "            # inputs_fake_b_0 = inputs_fake\n",
    "            preds_real_b_0 = preds_real\n",
    "            preds_fake_b_0 = preds_fake\n",
    "    logger.log(\n",
    "        epoch=epoch, \n",
    "        inputs_real=inputs_real_b_0, \n",
    "        preds_real=preds_real_b_0, \n",
    "        preds_fake=preds_fake_b_0, \n",
    "        path=LOGGER_PTH\n",
    "    )\n",
    "    last_loss_avg = {\n",
    "        'total_loss_avg'     : (last_loss['gen_loss']+last_loss['disc_real_loss']+last_loss['disc_fake_loss']) / batch_len,\n",
    "        'gen_loss_avg'       : last_loss['gen_loss'] / batch_len, \n",
    "        'disc_real_loss_avg' : last_loss['disc_real_loss'] / batch_len,\n",
    "        'disc_fake_loss_avg' : last_loss['disc_fake_loss'] / batch_len,\n",
    "    }\n",
    "    loss_hist['total_loss'].append(last_loss_avg['total_loss_avg'])\n",
    "    loss_hist['gen_loss'].append(last_loss_avg['gen_loss_avg'])\n",
    "    loss_hist['disc_real_loss'].append(last_loss_avg['disc_real_loss_avg'])\n",
    "    loss_hist['disc_fake_loss'].append(last_loss_avg['disc_fake_loss_avg'])\n",
    "    last_total_loss = last_loss['gen_loss'] + last_loss['disc_real_loss'] + last_loss['disc_fake_loss']\n",
    "    if last_total_loss < best_total_loss :\n",
    "        best_epoch = epoch\n",
    "        best_total_loss = last_total_loss\n",
    "        torch.save(\n",
    "            obj={\n",
    "                'gen_model'      : gen_model.state_dict(),\n",
    "                'gen_optimizer'  : gen_optimizer.state_dict(),\n",
    "                'disc_model'     : disc_model.state_dict(),\n",
    "                'disc_optimizer' : disc_optimizer.state_dict(),\n",
    "                'best_epoch'     : best_epoch,\n",
    "                'loss_hist'      : loss_hist\n",
    "            }, \n",
    "            f=MODEL_PTH\n",
    "        )\n",
    "    # scheduler.step()\n",
    "    progress_bar.set_postfix(ordered_dict={'last_epoch':epoch, 'last_total_loss':last_total_loss, 'best_epoch':best_epoch, 'best_total_loss':best_total_loss})"
   ]
  },
  {
   "cell_type": "markdown",
   "metadata": {},
   "source": [
    "<b></b>"
   ]
  },
  {
   "cell_type": "markdown",
   "metadata": {},
   "source": [
    "## 03. **모델 평가**"
   ]
  },
  {
   "cell_type": "markdown",
   "metadata": {},
   "source": [
    "#### 03.1. **최적 성능 모델 로드**"
   ]
  },
  {
   "cell_type": "code",
   "execution_count": 22,
   "metadata": {},
   "outputs": [
    {
     "name": "stdout",
     "output_type": "stream",
     "text": [
      ">> Best Epoch : 1, Best Loss : {'total_loss': [90.55001477595815], 'gen_loss': [68.93094958208886], 'disc_real_loss': [0.09041124757959218], 'disc_fake_loss': [21.528653946289687]}\n"
     ]
    }
   ],
   "source": [
    "checkpoint = torch.load(f=MODEL_PTH, map_location=device)\n",
    "# model.load_state_dict(state_dict=checkpoint['model'])\n",
    "loss_total_hist = checkpoint['loss_hist']['total_loss']\n",
    "print(f'>> Best Epoch : {np.argmin(a=checkpoint[\"loss_hist\"])+1}, Best Loss : {np.min(a=checkpoint[\"loss_hist\"])}')"
   ]
  },
  {
   "cell_type": "markdown",
   "metadata": {},
   "source": [
    "#### 04.2. **과소 적합 확인**"
   ]
  },
  {
   "cell_type": "code",
   "execution_count": 23,
   "metadata": {},
   "outputs": [
    {
     "data": {
      "image/png": "[encoded data removed]",
      "text/plain": [
       "<Figure size 1200x600 with 1 Axes>"
      ]
     },
     "metadata": {},
     "output_type": "display_data"
    }
   ],
   "source": [
    "plt.figure(figsize=(12, 6))\n",
    "plt.xlabel(xlabel='epoch')\n",
    "plt.ylabel(ylabel='loss')\n",
    "plt.plot(loss_total_hist, label='Training Loss')\n",
    "plt.axvline(x=np.argmin(a=loss_total_hist), color='grey', linestyle='--', linewidth=0.6, label=f'Best Training Loss')\n",
    "plt.legend(loc='upper right')\n",
    "plt.show()"
   ]
  },
  {
   "cell_type": "markdown",
   "metadata": {},
   "source": [
    "#### 03.3. **(에포크 별) 학습 과정 확인**"
   ]
  },
  {
   "cell_type": "code",
   "execution_count": 29,
   "metadata": {},
   "outputs": [
    {
     "ename": "KeyError",
     "evalue": "'inputs'",
     "output_type": "error",
     "traceback": [
      "\u001b[0;31m---------------------------------------------------------------------------\u001b[0m",
      "\u001b[0;31mKeyError\u001b[0m                                  Traceback (most recent call last)",
      "Cell \u001b[0;32mIn[29], line 5\u001b[0m\n\u001b[1;32m      2\u001b[0m get_ipython()\u001b[38;5;241m.\u001b[39mrun_line_magic(\u001b[38;5;124m'\u001b[39m\u001b[38;5;124mmatplotlib\u001b[39m\u001b[38;5;124m'\u001b[39m, \u001b[38;5;124m'\u001b[39m\u001b[38;5;124mwidget\u001b[39m\u001b[38;5;124m'\u001b[39m)\n\u001b[1;32m      4\u001b[0m \u001b[38;5;66;03m#(1) Move device\u001b[39;00m\n\u001b[0;32m----> 5\u001b[0m \u001b[43mlogger\u001b[49m\u001b[38;5;241;43m.\u001b[39;49m\u001b[43mmove_device\u001b[49m\u001b[43m(\u001b[49m\u001b[43mdevice\u001b[49m\u001b[38;5;241;43m=\u001b[39;49m\u001b[38;5;124;43m'\u001b[39;49m\u001b[38;5;124;43mcpu\u001b[39;49m\u001b[38;5;124;43m'\u001b[39;49m\u001b[43m)\u001b[49m\n",
      "Cell \u001b[0;32mIn[4], line 67\u001b[0m, in \u001b[0;36mTrainLogger.move_device\u001b[0;34m(self, device)\u001b[0m\n\u001b[1;32m     66\u001b[0m \u001b[38;5;28;01mdef\u001b[39;00m\u001b[38;5;250m \u001b[39m\u001b[38;5;21mmove_device\u001b[39m(\u001b[38;5;28mself\u001b[39m, device:\u001b[38;5;28mstr\u001b[39m) :\n\u001b[0;32m---> 67\u001b[0m     \u001b[38;5;28;01mfor\u001b[39;00m i \u001b[38;5;129;01min\u001b[39;00m \u001b[38;5;28mrange\u001b[39m(\u001b[38;5;28mlen\u001b[39m(\u001b[38;5;28;43mself\u001b[39;49m\u001b[38;5;241;43m.\u001b[39;49m\u001b[43mtrain_log\u001b[49m\u001b[43m[\u001b[49m\u001b[38;5;124;43m'\u001b[39;49m\u001b[38;5;124;43minputs\u001b[39;49m\u001b[38;5;124;43m'\u001b[39;49m\u001b[43m]\u001b[49m)) :\n\u001b[1;32m     68\u001b[0m         \u001b[38;5;28;01mif\u001b[39;00m (device \u001b[38;5;241m==\u001b[39m \u001b[38;5;124m'\u001b[39m\u001b[38;5;124mcpu\u001b[39m\u001b[38;5;124m'\u001b[39m) :\n\u001b[1;32m     69\u001b[0m             \u001b[38;5;28mself\u001b[39m\u001b[38;5;241m.\u001b[39mtrain_log[\u001b[38;5;124m'\u001b[39m\u001b[38;5;124minputs_real\u001b[39m\u001b[38;5;124m'\u001b[39m][i] \u001b[38;5;241m=\u001b[39m \u001b[38;5;28mself\u001b[39m\u001b[38;5;241m.\u001b[39mtrain_log[\u001b[38;5;124m'\u001b[39m\u001b[38;5;124minputs_real\u001b[39m\u001b[38;5;124m'\u001b[39m][i]\u001b[38;5;241m.\u001b[39mdetach()\u001b[38;5;241m.\u001b[39mcpu()\u001b[38;5;241m.\u001b[39mnumpy()\n",
      "\u001b[0;31mKeyError\u001b[0m: 'inputs'"
     ]
    }
   ],
   "source": [
    "#(0) Set up interactive mode\n",
    "%matplotlib widget\n",
    "\n",
    "#(1) Move device\n",
    "logger.move_device(device='cpu')"
   ]
  },
  {
   "cell_type": "code",
   "execution_count": null,
   "metadata": {},
   "outputs": [],
   "source": [
    "#(2) Define `visualizer`\n",
    "viz = Visualizer(train_log=logger.train_log, fig_size=(8, 4))\n",
    "\n",
    "#(3) Set up interactive mode\n",
    "viz.plot_compare()"
   ]
  },
  {
   "cell_type": "markdown",
   "metadata": {},
   "source": [
    "#### 03.4. **일반화 성능 확인**"
   ]
  },
  {
   "cell_type": "code",
   "execution_count": null,
   "metadata": {},
   "outputs": [],
   "source": [
    "pass"
   ]
  }
 ],
 "metadata": {
  "kernelspec": {
   "display_name": "PYTCH",
   "language": "python",
   "name": "python3"
  },
  "language_info": {
   "codemirror_mode": {
    "name": "ipython",
    "version": 3
   },
   "file_extension": ".py",
   "mimetype": "text/x-python",
   "name": "python",
   "nbconvert_exporter": "python",
   "pygments_lexer": "ipython3",
   "version": "3.10.16"
  }
 },
 "nbformat": 4,
 "nbformat_minor": 2
}
