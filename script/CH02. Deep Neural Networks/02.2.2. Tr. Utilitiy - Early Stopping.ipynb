{
 "cells": [
  {
   "cell_type": "markdown",
   "metadata": {},
   "source": [
    "# CH02.1. **Training Utility - Scheduler**"
   ]
  },
  {
   "cell_type": "markdown",
   "metadata": {},
   "source": [
    "## 00. **작업 환경 설정**"
   ]
  },
  {
   "cell_type": "markdown",
   "metadata": {},
   "source": [
    "#### 00.0. **사전 변수 설정**"
   ]
  },
  {
   "cell_type": "code",
   "execution_count": 1,
   "metadata": {},
   "outputs": [],
   "source": [
    "SEED_NUM = 2025\n",
    "BATCH_SIZE = 32\n",
    "EPOCH_NUM = 1000\n",
    "USE_PRETRAIN_YN = 'N'\n",
    "MODEL_PTH = '../../model/bostonRegEarlyStopping.pt'"
   ]
  },
  {
   "cell_type": "markdown",
   "metadata": {},
   "source": [
    "#### 00.1. **라이브러리 호출 및 옵션 설정**"
   ]
  },
  {
   "cell_type": "code",
   "execution_count": 2,
   "metadata": {},
   "outputs": [
    {
     "name": "stdout",
     "output_type": "stream",
     "text": [
      ">> Device : mps\n"
     ]
    }
   ],
   "source": [
    "#(1) Import libraries\n",
    "import os\n",
    "import random\n",
    "import tqdm\n",
    "import numpy as np\n",
    "import pandas as pd\n",
    "import matplotlib.pyplot as plt \n",
    "import sklearn\n",
    "import torch\n",
    "# import torchinfo\n",
    "\n",
    "#(2) Set up options\n",
    "os.environ['PYTHONHASHSEED'] = str(SEED_NUM)\n",
    "random.seed(a=SEED_NUM)\n",
    "np.random.seed(seed=SEED_NUM)\n",
    "torch.use_deterministic_algorithms(mode=True)\n",
    "torch.manual_seed(seed=SEED_NUM)\n",
    "torch.mps.manual_seed(seed=SEED_NUM)\n",
    "\n",
    "#(3) Set up device\n",
    "if torch.backends.mps.is_available() :\n",
    "    device = torch.device(device='mps')\n",
    "else :\n",
    "    device = torch.device(device='cpu')\n",
    "print(f'>> Device : {device}')"
   ]
  },
  {
   "cell_type": "markdown",
   "metadata": {},
   "source": [
    "#### 00.2. **사용자정의함수 정의**"
   ]
  },
  {
   "cell_type": "code",
   "execution_count": 3,
   "metadata": {},
   "outputs": [],
   "source": [
    "#(1) Define `describe_df()` function\n",
    "def describe_df(df:pd.DataFrame) -> pd.DataFrame :\n",
    "    output = pd.DataFrame(data={\n",
    "        'dataType'     : df.dtypes,\n",
    "        'nullCount'    : df.isnull().sum(),\n",
    "        'nonNullCount' : (df.shape[0]-df.isnull().sum()),\n",
    "        'uniqueCount'  : df.nunique()\n",
    "    })\n",
    "    return output\n",
    "\n",
    "#(2) Define `compute_rmse()` function\n",
    "def compute_rmse(model:torch.nn.Module, loader:torch.utils.data.DataLoader) -> int :\n",
    "    model.eval()\n",
    "    with torch.no_grad() : \n",
    "        square_sum = 0\n",
    "        instance_num = 0\n",
    "        for inputs, targets in loader :\n",
    "            preds = model(x=inputs)\n",
    "            square_sum += torch.sum(\n",
    "                input=(preds-targets.to(device=preds.device))**2\n",
    "            ).item()\n",
    "            instance_num += len(targets)\n",
    "    model.train()\n",
    "    output = np.sqrt(square_sum/instance_num)\n",
    "    return output"
   ]
  },
  {
   "cell_type": "markdown",
   "metadata": {},
   "source": [
    "#### 00.3. **클래스 정의**"
   ]
  },
  {
   "cell_type": "code",
   "execution_count": 4,
   "metadata": {},
   "outputs": [],
   "source": [
    "#(1) Define `MyTensorDataset` class\n",
    "class MyTensorDataset(torch.utils.data.Dataset) :\n",
    "    def __init__(self, df:pd.DataFrame, pred_label_nm:'str', data_type:torch.dtype=torch.float32) :\n",
    "        self.feature = torch.tensor(data=df.drop(labels=pred_label_nm, axis=1).values, dtype=data_type)\n",
    "        self.label = torch.tensor(data=df.loc[:, pred_label_nm].values, dtype=data_type).reshape(shape=(-1, 1))\n",
    "        self.len = self.label.shape[0]\n",
    "    def __getitem__(self, index) :\n",
    "        return self.feature[index], self.label[index]\n",
    "    def __len__(self) :\n",
    "        return self.len\n",
    "\n",
    "#(2) Define `MyRegressionModel` class\n",
    "class MyRegressionModel(torch.nn.Module) :\n",
    "    def __init__(self, input_size:int, hidden_dims:list, device:torch.device) :\n",
    "        super().__init__()\n",
    "        self.device = device\n",
    "        dims = [input_size] + hidden_dims\n",
    "        for i in range(len(hidden_dims)):\n",
    "            self.add_module(\n",
    "                name=f'fc_block_{i}',\n",
    "                module=torch.nn.Sequential(\n",
    "                    torch.nn.Linear(in_features=dims[i], out_features=dims[i+1]),\n",
    "                    torch.nn.BatchNorm1d(num_features=dims[i+1]),\n",
    "                    torch.nn.ReLU(),\n",
    "                    torch.nn.Dropout(p=0.2)\n",
    "                )\n",
    "            )\n",
    "        self.add_module(\n",
    "            name=f'fc_block_{i+1}', \n",
    "            module=torch.nn.Sequential(\n",
    "                torch.nn.Linear(in_features=dims[-1], out_features=1)\n",
    "            )\n",
    "        )\n",
    "        self.to(device=device)\n",
    "    def forward(self, x:torch.Tensor) -> torch.Tensor :\n",
    "        x = x.to(device=self.device)\n",
    "        for block in self._modules.values():\n",
    "            x = block(x)\n",
    "        return x\n",
    "    \n",
    "#(3) **Define `EarlyStopping` class**\n",
    "class EarlyStopping :\n",
    "    def __init__(self, patience:int, model_path:str) :\n",
    "        self.patience = patience\n",
    "        self.best_loss = float('inf')\n",
    "        self.counter = 0\n",
    "        self.should_stop = False\n",
    "        self.model_path = model_path\n",
    "    def check(self, val_loss:float, model:torch.nn.Module, optimizer:torch.optim.Optimizer, epoch:int, loss_hist:list) :\n",
    "        if val_loss < self.best_loss :\n",
    "            self.best_loss = val_loss\n",
    "            self.counter = 0\n",
    "            torch.save(\n",
    "                obj={\n",
    "                    'model'     : model.state_dict(),\n",
    "                    'optimizer' : optimizer.state_dict(),\n",
    "                    'epoch'     : epoch,\n",
    "                    'loss_hist' : loss_hist\n",
    "                }, \n",
    "                f=self.model_path\n",
    "            )\n",
    "        else :\n",
    "            self.counter += 1\n",
    "            if self.counter >= self.patience :\n",
    "                self.should_stop = True"
   ]
  },
  {
   "cell_type": "markdown",
   "metadata": {},
   "source": [
    "<b></b>"
   ]
  },
  {
   "cell_type": "markdown",
   "metadata": {},
   "source": [
    "## 01. **데이터셋 로드 및 EDA**"
   ]
  },
  {
   "cell_type": "markdown",
   "metadata": {},
   "source": [
    "#### 01.1. **데이터셋 로드**"
   ]
  },
  {
   "cell_type": "code",
   "execution_count": 5,
   "metadata": {},
   "outputs": [],
   "source": [
    "boston_raw = pd.read_csv(filepath_or_buffer='../../data/boston.csv', index_col=[0])"
   ]
  },
  {
   "cell_type": "markdown",
   "metadata": {},
   "source": [
    "#### 01.2. **EDA**"
   ]
  },
  {
   "cell_type": "code",
   "execution_count": 6,
   "metadata": {},
   "outputs": [],
   "source": [
    "#(1) Display `boston_raw`\n",
    "# boston_raw.head(n=10)"
   ]
  },
  {
   "cell_type": "code",
   "execution_count": 7,
   "metadata": {},
   "outputs": [],
   "source": [
    "#(2) Describe `boston_raw`\n",
    "# describe_df(df=boston_raw)"
   ]
  },
  {
   "cell_type": "code",
   "execution_count": 8,
   "metadata": {},
   "outputs": [],
   "source": [
    "#(3) Check the statistics of `boston_raw`\n",
    "# boston_raw.describe(percentiles=[0.01, 0.1, 0.25, 0.5, 0.75, 0.9, 0.99]).transpose()"
   ]
  },
  {
   "cell_type": "code",
   "execution_count": 9,
   "metadata": {},
   "outputs": [],
   "source": [
    "#(4) Check `input_size`\n",
    "input_size = boston_raw.drop(labels='Price', axis=1).shape[1]\n",
    "\n",
    "#(5) Print `input_size`\n",
    "# input_size"
   ]
  },
  {
   "cell_type": "markdown",
   "metadata": {},
   "source": [
    "<b></b>"
   ]
  },
  {
   "cell_type": "markdown",
   "metadata": {},
   "source": [
    "## 02. **데이터셋 전처리**"
   ]
  },
  {
   "cell_type": "markdown",
   "metadata": {},
   "source": [
    "#### 02.1. **학습 및 검증 데이터셋 분리**"
   ]
  },
  {
   "cell_type": "code",
   "execution_count": 10,
   "metadata": {},
   "outputs": [],
   "source": [
    "boston_train, boston_test = sklearn.model_selection.train_test_split(boston_raw, train_size=0.7, random_state=SEED_NUM)\n",
    "boston_train, boston_val = sklearn.model_selection.train_test_split(boston_raw, train_size=0.9, random_state=SEED_NUM)"
   ]
  },
  {
   "cell_type": "markdown",
   "metadata": {},
   "source": [
    "#### 02.2. **텐서 변환**"
   ]
  },
  {
   "cell_type": "code",
   "execution_count": 11,
   "metadata": {},
   "outputs": [],
   "source": [
    "boston_train = MyTensorDataset(df=boston_train, pred_label_nm='Price', data_type=torch.float32)\n",
    "boston_val = MyTensorDataset(df=boston_val, pred_label_nm='Price', data_type=torch.float32)\n",
    "boston_test = MyTensorDataset(df=boston_test, pred_label_nm='Price', data_type=torch.float32)"
   ]
  },
  {
   "cell_type": "markdown",
   "metadata": {},
   "source": [
    "#### 02.3. **데이터로더 변환**"
   ]
  },
  {
   "cell_type": "code",
   "execution_count": 12,
   "metadata": {},
   "outputs": [],
   "source": [
    "boston_train_loader = torch.utils.data.DataLoader(dataset=boston_train, batch_size=BATCH_SIZE, shuffle=True)\n",
    "boston_val_loader = torch.utils.data.DataLoader(dataset=boston_val, batch_size=BATCH_SIZE, shuffle=True)\n",
    "boston_test_loader = torch.utils.data.DataLoader(dataset=boston_test, batch_size=BATCH_SIZE, shuffle=True)"
   ]
  },
  {
   "cell_type": "markdown",
   "metadata": {},
   "source": [
    "<b></b>"
   ]
  },
  {
   "cell_type": "markdown",
   "metadata": {},
   "source": [
    "## 03. **모델 구축 및 학습**"
   ]
  },
  {
   "cell_type": "markdown",
   "metadata": {},
   "source": [
    "#### 03.1. **하이퍼 파라미터 정의**"
   ]
  },
  {
   "cell_type": "code",
   "execution_count": 13,
   "metadata": {},
   "outputs": [],
   "source": [
    "hidden_dims = [128, 64, 32]"
   ]
  },
  {
   "cell_type": "markdown",
   "metadata": {},
   "source": [
    "#### 03.2. **모델 정의**"
   ]
  },
  {
   "cell_type": "code",
   "execution_count": 14,
   "metadata": {},
   "outputs": [],
   "source": [
    "#(1) Define `model`\n",
    "model = MyRegressionModel(input_size=input_size, hidden_dims=hidden_dims, device=device).to(dtype=torch.float32)\n",
    "\n",
    "#(3) Check `model`'s parameter number\n",
    "# torchinfo.summary(\n",
    "#     model=model, \n",
    "#     input_size=[BATCH_SIZE, input_size],\n",
    "#     device=device\n",
    "# )"
   ]
  },
  {
   "cell_type": "code",
   "execution_count": 15,
   "metadata": {},
   "outputs": [],
   "source": [
    "#(3) Define loss function\n",
    "criterion = torch.nn.MSELoss()\n",
    "\n",
    "#(4) Define optimizer(optimization method)\n",
    "optimizer = torch.optim.Adam(params=model.parameters(), lr=1e-3, weight_decay=1e-7)\n",
    "\n",
    "#(5) Define Scheduler\n",
    "# scheduler = torch.optim.lr_scheduler.StepLR(optimizer=optimizer, step_size=30, gamma=0.1)\n",
    "\n",
    "#(6) **Define Earlystopping**\n",
    "early_stopping = EarlyStopping(patience=250, model_path=MODEL_PTH)"
   ]
  },
  {
   "cell_type": "markdown",
   "metadata": {},
   "source": [
    "#### 03.3. **모델 체크포인트 로드**"
   ]
  },
  {
   "cell_type": "code",
   "execution_count": null,
   "metadata": {},
   "outputs": [
    {
     "name": "stdout",
     "output_type": "stream",
     "text": [
      ">> Epoch=0, Train Loss=inf\n"
     ]
    }
   ],
   "source": [
    "epoch = 0 \n",
    "loss_hist = []\n",
    "best_loss = float('inf')\n",
    "if USE_PRETRAIN_YN == 'Y' :\n",
    "    try :\n",
    "        checkpoint = torch.load(f=MODEL_PTH, map_location=device)\n",
    "        model.load_state_dict(state_dict=checkpoint['model'])\n",
    "        optimizer.load_state_dict(state_dict=checkpoint['optimizer'])\n",
    "        epoch = checkpoint['best_epoch']\n",
    "        loss_hist = checkpoint['loss_hist']\n",
    "        best_loss = loss_hist[-1]\n",
    "    except Exception :\n",
    "        pass\n",
    "print(f\">> Epoch={epoch}, Train Loss={best_loss}\")"
   ]
  },
  {
   "cell_type": "markdown",
   "metadata": {},
   "source": [
    "#### 03.4. **모델 학습**"
   ]
  },
  {
   "cell_type": "code",
   "execution_count": null,
   "metadata": {},
   "outputs": [
    {
     "name": "stderr",
     "output_type": "stream",
     "text": [
      " 34%|███▍      | 338/1000 [01:01<02:00,  5.50it/s, last_epoch=338, train_last_loss=0.00743, validation_last_loss=0.0213]"
     ]
    },
    {
     "name": "stdout",
     "output_type": "stream",
     "text": [
      ">> Early stopping triggered.\n"
     ]
    },
    {
     "name": "stderr",
     "output_type": "stream",
     "text": [
      "\n"
     ]
    }
   ],
   "source": [
    "train_batch_len = len(boston_train_loader)\n",
    "val_batch_len = len(boston_val_loader)\n",
    "best_epoch = epoch\n",
    "progress_bar = tqdm.trange(epoch+1, EPOCH_NUM+1)\n",
    "for epoch in progress_bar : \n",
    "    # ---- Train ---- # \n",
    "    train_loss = 0.0\n",
    "    model.train()\n",
    "    for train_inputs, train_targets in boston_train_loader :\n",
    "        optimizer.zero_grad() \n",
    "        preds = model(x=train_inputs)\n",
    "        train_last_loss = criterion(input=preds, target=train_targets.to(device=device))\n",
    "        train_last_loss.backward()\n",
    "        optimizer.step()\n",
    "        train_loss += train_last_loss.item()\n",
    "    train_loss_avg = train_loss / train_batch_len\n",
    "    train_loss_hist.append(train_loss_avg)\n",
    "    # ----- Validation ----- #\n",
    "    model.eval()\n",
    "    val_loss = 0.0\n",
    "    with torch.no_grad() :\n",
    "        for val_input, val_targets in boston_val_loader :\n",
    "            preds_val = model(x=val_input)\n",
    "            val_last_loss = criterion(input=preds_val, target=val_targets.to(device=device))\n",
    "            val_loss += val_last_loss.item()\n",
    "    val_loss_avg = val_loss / val_batch_len\n",
    "    early_stopping.check(\n",
    "        val_loss=val_loss_avg,\n",
    "        model=model,\n",
    "        optimizer=optimizer,\n",
    "        epoch=epoch,\n",
    "        loss_hist=train_loss_hist\n",
    "    )\n",
    "    if early_stopping.should_stop :\n",
    "        print(f\">> Early stopping triggered.\")\n",
    "        break\n",
    "    # ---- ___________ ---- #\n",
    "    # scheduler.step()\n",
    "    progress_bar.set_postfix(ordered_dict={'last_epoch':epoch, 'train_last_loss':train_loss_avg, 'validation_last_loss':val_loss_avg})"
   ]
  },
  {
   "cell_type": "markdown",
   "metadata": {},
   "source": [
    "<b></b>"
   ]
  },
  {
   "cell_type": "markdown",
   "metadata": {},
   "source": [
    "## 04. **모델 평가**"
   ]
  },
  {
   "cell_type": "markdown",
   "metadata": {},
   "source": [
    "#### 04.1. **최적 성능 모델 로드**"
   ]
  },
  {
   "cell_type": "code",
   "execution_count": null,
   "metadata": {},
   "outputs": [
    {
     "name": "stdout",
     "output_type": "stream",
     "text": [
      ">> Best Epoch : 84, Best Loss : 0.01029412355273962\n"
     ]
    }
   ],
   "source": [
    "checkpoint = torch.load(f=MODEL_PTH, map_location=device)\n",
    "model.load_state_dict(state_dict=checkpoint['model'])\n",
    "print(f'>> Best Epoch : {np.argmin(a=checkpoint[\"loss_hist\"])+1}, Best Loss : {np.min(a=checkpoint[\"loss_hist\"])}')"
   ]
  },
  {
   "cell_type": "markdown",
   "metadata": {},
   "source": [
    "#### 04.2. **과소 적합 확인**"
   ]
  },
  {
   "cell_type": "code",
   "execution_count": 19,
   "metadata": {},
   "outputs": [
    {
     "data": {
      "image/png": "[encoded data removed]",
      "text/plain": [
       "<Figure size 1200x600 with 1 Axes>"
      ]
     },
     "metadata": {},
     "output_type": "display_data"
    }
   ],
   "source": [
    "#(1) Plot training loss\n",
    "plt.figure(figsize=(12, 6))\n",
    "plt.xlabel(xlabel='epoch')\n",
    "plt.ylabel(ylabel='loss')\n",
    "plt.plot(train_loss_hist, label='Training Loss')\n",
    "plt.axvline(x=np.argmin(a=checkpoint[\"loss_hist\"]), color='grey', linestyle='--', linewidth=0.6, label=f'Best Training Loss')\n",
    "plt.legend(loc='upper right')\n",
    "plt.show()"
   ]
  },
  {
   "cell_type": "code",
   "execution_count": 20,
   "metadata": {},
   "outputs": [
    {
     "name": "stdout",
     "output_type": "stream",
     "text": [
      ">> Train RMSE: 0.08227313155481995\n"
     ]
    }
   ],
   "source": [
    "#(2) Check RMSE\n",
    "rmse_train = compute_rmse(model=model, loader=boston_train_loader)\n",
    "print(f'>> Train RMSE: {rmse_train}')"
   ]
  },
  {
   "cell_type": "markdown",
   "metadata": {},
   "source": [
    "#### 04.3. **일반화 성능 평가**"
   ]
  },
  {
   "cell_type": "code",
   "execution_count": 21,
   "metadata": {},
   "outputs": [
    {
     "name": "stdout",
     "output_type": "stream",
     "text": [
      ">> Test RMSE : 0.08347011771463955\n"
     ]
    }
   ],
   "source": [
    "rmse_test = compute_rmse(model=model, loader=boston_test_loader)\n",
    "print(f'>> Test RMSE : {rmse_test}')"
   ]
  }
 ],
 "metadata": {
  "kernelspec": {
   "display_name": "PYTCH",
   "language": "python",
   "name": "python3"
  },
  "language_info": {
   "codemirror_mode": {
    "name": "ipython",
    "version": 3
   },
   "file_extension": ".py",
   "mimetype": "text/x-python",
   "name": "python",
   "nbconvert_exporter": "python",
   "pygments_lexer": "ipython3",
   "version": "3.10.16"
  }
 },
 "nbformat": 4,
 "nbformat_minor": 2
}
