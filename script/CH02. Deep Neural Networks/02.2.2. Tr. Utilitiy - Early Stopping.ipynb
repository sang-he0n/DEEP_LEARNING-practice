{
 "cells": [
  {
   "cell_type": "markdown",
   "metadata": {},
   "source": [
    "# CH02.1. **Training Utility - Scheduler**"
   ]
  },
  {
   "cell_type": "markdown",
   "metadata": {},
   "source": [
    "#### [][][][][]"
   ]
  },
  {
   "cell_type": "markdown",
   "metadata": {},
   "source": [
    "## 00. **작업 환경 설정**"
   ]
  },
  {
   "cell_type": "markdown",
   "metadata": {},
   "source": [
    "#### 00.0. **사전 변수 설정**"
   ]
  },
  {
   "cell_type": "code",
   "execution_count": null,
   "metadata": {},
   "outputs": [],
   "source": [
    "SEED_NUM = 2025\n",
    "BATCH_SIZE = 32\n",
    "EPOCH_NUM = 100\n",
    "USE_PRETRAIN_YN = 'N'\n",
    "MODEL_PTH = '../../model/bostonRegScheduler.pt'"
   ]
  },
  {
   "cell_type": "markdown",
   "metadata": {},
   "source": [
    "#### 00.1. **라이브러리 호출 및 옵션 설정**"
   ]
  },
  {
   "cell_type": "code",
   "execution_count": null,
   "metadata": {},
   "outputs": [],
   "source": [
    "#(1) Import libraries\n",
    "import os\n",
    "import random\n",
    "import tqdm\n",
    "import numpy as np\n",
    "import pandas as pd\n",
    "import matplotlib.pyplot as plt \n",
    "import sklearn\n",
    "import torch\n",
    "# import torchinfo\n",
    "\n",
    "#(2) Set up options\n",
    "os.environ['PYTHONHASHSEED'] = str(SEED_NUM)\n",
    "random.seed(a=SEED_NUM)\n",
    "np.random.seed(seed=SEED_NUM)\n",
    "torch.use_deterministic_algorithms(mode=True)\n",
    "torch.manual_seed(seed=SEED_NUM)\n",
    "torch.mps.manual_seed(seed=SEED_NUM)\n",
    "\n",
    "#(3) Set up device\n",
    "if torch.backends.mps.is_available() :\n",
    "    device = torch.device(device='mps')\n",
    "else :\n",
    "    device = torch.device(device='cpu')\n",
    "print(f'>> Device : {device}')"
   ]
  },
  {
   "cell_type": "markdown",
   "metadata": {},
   "source": [
    "#### 00.2. **사용자정의함수 정의**"
   ]
  },
  {
   "cell_type": "code",
   "execution_count": null,
   "metadata": {},
   "outputs": [],
   "source": [
    "#(1) Define `describe_df()` function\n",
    "def describe_df(df:pd.DataFrame) -> pd.DataFrame :\n",
    "    output = pd.DataFrame(data={\n",
    "        'dataType'     : df.dtypes,\n",
    "        'nullCount'    : df.isnull().sum(),\n",
    "        'nonNullCount' : (df.shape[0]-df.isnull().sum()),\n",
    "        'uniqueCount'  : df.nunique()\n",
    "    })\n",
    "    return output\n",
    "\n",
    "#(2) Define `compute_rmse()` function\n",
    "def compute_rmse(model:torch.nn.Module, loader:torch.utils.data.DataLoader) -> int :\n",
    "    model.eval()\n",
    "    with torch.no_grad() : \n",
    "        square_sum = 0\n",
    "        instance_num = 0\n",
    "        for inputs, targets in loader :\n",
    "            preds = model(x=inputs)\n",
    "            square_sum += torch.sum(\n",
    "                input=(preds-targets.to(device=preds.device))**2\n",
    "            ).item()\n",
    "            instance_num += len(targets)\n",
    "    model.train()\n",
    "    output = np.sqrt(square_sum/instance_num)\n",
    "    return output"
   ]
  },
  {
   "cell_type": "markdown",
   "metadata": {},
   "source": [
    "#### 00.3. **클래스 정의**"
   ]
  },
  {
   "cell_type": "code",
   "execution_count": null,
   "metadata": {},
   "outputs": [],
   "source": [
    "#(1) Define `MyTensorDataset` class\n",
    "class MyTensorDataset(torch.utils.data.Dataset) :\n",
    "    def __init__(self, df:pd.DataFrame, pred_label_nm:'str', data_type:torch.dtype=torch.float32) :\n",
    "        self.feature = torch.tensor(data=df.drop(labels=pred_label_nm, axis=1).values, dtype=data_type)\n",
    "        self.label = torch.tensor(data=df.loc[:, pred_label_nm].values, dtype=data_type).reshape(shape=(-1, 1))\n",
    "        self.len = self.label.shape[0]\n",
    "    def __getitem__(self, index) :\n",
    "        return self.feature[index], self.label[index]\n",
    "    def __len__(self) :\n",
    "        return self.len\n",
    "\n",
    "#(2) Define `MyRegressionModel` class\n",
    "class MyRegressionModel(torch.nn.Module) :\n",
    "    def __init__(self, input_shape:tuple, device:torch.device) :\n",
    "        super().__init__()\n",
    "        self.device = device\n",
    "        dim = [input_shape[0], 128, 64, 32]\n",
    "        for i in range(len(dim)-1) :\n",
    "            fc_block = torch.nn.Sequential(\n",
    "                torch.nn.Linear(in_features=dim[i], out_features=dim[i+1]),\n",
    "                torch.nn.BatchNorm1d(num_features=dim[i+1]),\n",
    "                torch.nn.ReLU(),\n",
    "                torch.nn.Dropout(p=0.2)\n",
    "            )\n",
    "            self.add_module(name=f'fc_block_{i}', module=fc_block)\n",
    "        fc_block = torch.nn.Sequential(\n",
    "                torch.nn.Linear(in_features=dim[-1], out_features=input_shape[1])\n",
    "        )\n",
    "        self.add_module(name=f'fc_block_{i+1}', module=fc_block)\n",
    "        self.to(device=device)\n",
    "    def forward(self, x:torch.Tensor) -> torch.Tensor :\n",
    "        block_num = len(self._modules)\n",
    "        x = x.to(device=self.device)\n",
    "        for i in range(block_num):\n",
    "            x = self._modules[f'fc_block_{i}'](x)\n",
    "        return x\n",
    "    \n",
    "#(3) Define `EarlyStopping` class\n",
    "class EarlyStopping :\n",
    "    def __init__(self, patience:int=3, verbose:bool=False) :\n",
    "        self.patience = patience\n",
    "        self.verbose = verbose\n",
    "        self.loss_best = float('inf')\n",
    "        self.counter = 0\n",
    "        self.should_stop = False\n",
    "    def check(self, loss_val:float) :\n",
    "        if loss_val < self.loss_best :\n",
    "            self.loss_best = loss_val\n",
    "            self.counter = 0 \n",
    "        else :\n",
    "            self.counter += 1\n",
    "            if self.verbose == True :\n",
    "                print(f\"EarlyStopping counter: {self.counter} / {self.patience}\")\n",
    "            if self.counter >= self.patience :\n",
    "                self.should_stop = True"
   ]
  },
  {
   "cell_type": "markdown",
   "metadata": {},
   "source": [
    "<b></b>"
   ]
  },
  {
   "cell_type": "markdown",
   "metadata": {},
   "source": [
    "## 01. **학습 보조기능 - 조기 종료(Early Stopping)**"
   ]
  },
  {
   "cell_type": "markdown",
   "metadata": {},
   "source": [
    "#### (1) **정의** : **[CONTENTS]**"
   ]
  },
  {
   "cell_type": "markdown",
   "metadata": {},
   "source": [
    "<b></b>"
   ]
  },
  {
   "cell_type": "markdown",
   "metadata": {},
   "source": [
    "## 02. **데이터셋 로드 및 전처리**"
   ]
  },
  {
   "cell_type": "code",
   "execution_count": null,
   "metadata": {},
   "outputs": [],
   "source": [
    "#(1) \n",
    "boston_raw = pd.read_csv(filepath_or_buffer='../../data/boston.csv', index_col=[0])\n",
    "\n",
    "#(2)\n",
    "boston_train, boston_test = sklearn.model_selection.train_test_split(boston_raw, train_size=0.7, random_state=SEED_NUM)\n",
    "\n",
    "#(3)\n",
    "boston_train = MyTensorDataset(df=boston_train, pred_label_nm='Price', data_type=torch.float32)\n",
    "boston_test = MyTensorDataset(df=boston_test, pred_label_nm='Price', data_type=torch.float32)\n",
    "\n",
    "#(4)\n",
    "boston_train_loader = torch.utils.data.DataLoader(dataset=boston_train, batch_size=BATCH_SIZE, shuffle=True)\n",
    "boston_test_loader = torch.utils.data.DataLoader(dataset=boston_test, batch_size=BATCH_SIZE, shuffle=True)"
   ]
  },
  {
   "cell_type": "markdown",
   "metadata": {},
   "source": [
    "<b></b>"
   ]
  },
  {
   "cell_type": "markdown",
   "metadata": {},
   "source": [
    "## 03. **모델 구축 및 학습**"
   ]
  },
  {
   "cell_type": "markdown",
   "metadata": {},
   "source": [
    "#### 03.1. **모델 정의**"
   ]
  },
  {
   "cell_type": "code",
   "execution_count": null,
   "metadata": {},
   "outputs": [],
   "source": [
    "#(1) Define `model`\n",
    "model = MyRegressionModel(input_shape=(13, 1), device=device)\n",
    "\n",
    "#(2) Print `model`\n",
    "# torchinfo.summary(\n",
    "#     model=model, \n",
    "#     input_size=[BATCH_SIZE]+list(boston_train[0][0].shape),\n",
    "#     device=device\n",
    "# )"
   ]
  },
  {
   "cell_type": "code",
   "execution_count": null,
   "metadata": {},
   "outputs": [],
   "source": [
    "#(3) Define loss function\n",
    "criterion = torch.nn.MSELoss()\n",
    "\n",
    "#(4) Define optimizer(optimization method)\n",
    "optimizer = torch.optim.Adam(params=model.parameters(), lr=1e-3, weight_decay=1e-7)\n",
    "\n",
    "#(5) Define Scheduler\n",
    "scheduler = torch.optim.lr_scheduler.StepLR(optimizer=optimizer, step_size=30, gamma=0.1)"
   ]
  },
  {
   "cell_type": "markdown",
   "metadata": {},
   "source": [
    "#### 03.2. **모델 체크포인트 로드**"
   ]
  },
  {
   "cell_type": "code",
   "execution_count": null,
   "metadata": {},
   "outputs": [],
   "source": [
    "if USE_PRETRAIN_YN == 'Y' :\n",
    "    checkpoint = torch.load(f=MODEL_PTH, map_location=device)\n",
    "    model.load_state_dict(state_dict=checkpoint['model'])\n",
    "    optimizer.load_state_dict(state_dict=checkpoint['optimizer'])\n",
    "    epoch = checkpoint['epoch']\n",
    "    loss_hist = checkpoint['loss_hist']\n",
    "    best_loss = loss_hist[-1]\n",
    "else :\n",
    "    epoch = 0\n",
    "    loss_hist = []\n",
    "    best_loss = float('inf')\n",
    "print(f\">> Epoch={epoch}, Train Loss={best_loss}\")"
   ]
  },
  {
   "cell_type": "markdown",
   "metadata": {},
   "source": [
    "#### 03.3. **모델 학습**"
   ]
  },
  {
   "cell_type": "code",
   "execution_count": null,
   "metadata": {},
   "outputs": [],
   "source": [
    "batch_len = len(boston_train_loader)\n",
    "progress_bar = tqdm.trange(epoch, EPOCH_NUM)\n",
    "for epoch in progress_bar : \n",
    "    last_loss = 0.0\n",
    "    model.train()\n",
    "    for inputs, targets in boston_train_loader :\n",
    "        optimizer.zero_grad() \n",
    "        preds = model(x=inputs)\n",
    "        loss = criterion(input=preds, target=targets.to(device=device))\n",
    "        loss.backward()\n",
    "        optimizer.step()\n",
    "        last_loss += loss.item()\n",
    "    last_loss_avg = last_loss / batch_len\n",
    "    loss_hist.append(last_loss_avg)\n",
    "    if last_loss_avg < best_loss :\n",
    "        best_epoch = epoch\n",
    "        best_loss = last_loss_avg\n",
    "        torch.save(\n",
    "            obj={\n",
    "                'epoch'     : epoch,\n",
    "                'loss_hist' : loss_hist,\n",
    "                'model'     : model.state_dict(),\n",
    "                'optimizer' : optimizer.state_dict()\n",
    "            }, \n",
    "            f=MODEL_PTH\n",
    "        )\n",
    "    scheduler.step()\n",
    "    progress_bar.set_postfix(ordered_dict={'last_epoch':epoch+1, 'last_loss':last_loss_avg, 'best_epoch':best_epoch, 'best_loss':best_loss}) "
   ]
  },
  {
   "cell_type": "markdown",
   "metadata": {},
   "source": [
    "<b></b>"
   ]
  },
  {
   "cell_type": "markdown",
   "metadata": {},
   "source": [
    "## 04. **모델 평가**"
   ]
  },
  {
   "cell_type": "markdown",
   "metadata": {},
   "source": [
    "#### 04.1. **최적 성능 모델 로드**"
   ]
  },
  {
   "cell_type": "code",
   "execution_count": null,
   "metadata": {},
   "outputs": [],
   "source": [
    "checkpoint = torch.load(f=MODEL_PTH, map_location=device)\n",
    "model.load_state_dict(state_dict=checkpoint['model'])\n",
    "print(f'>> Best Epoch : {checkpoint[\"epoch\"]}, Best Loss : {checkpoint[\"loss_hist\"][-1]}')"
   ]
  },
  {
   "cell_type": "markdown",
   "metadata": {},
   "source": [
    "#### 04.2. **과소 적합 확인**"
   ]
  },
  {
   "cell_type": "code",
   "execution_count": null,
   "metadata": {},
   "outputs": [],
   "source": [
    "#(1) Plot traing loss\n",
    "plt.figure(figsize=(12, 6))\n",
    "plt.title(label='Training Loss')\n",
    "plt.xlabel(xlabel='epoch')\n",
    "plt.ylabel(ylabel='loss')\n",
    "plt.plot(loss_hist)\n",
    "plt.show()"
   ]
  },
  {
   "cell_type": "code",
   "execution_count": null,
   "metadata": {},
   "outputs": [],
   "source": [
    "#(2) Check RMSE\n",
    "rmse_train = compute_rmse(model=model, loader=boston_train_loader)\n",
    "print(f'>> Train RMSE: {rmse_train}')"
   ]
  },
  {
   "cell_type": "markdown",
   "metadata": {},
   "source": [
    "#### 04.3. **일반화 성능 평가**"
   ]
  },
  {
   "cell_type": "code",
   "execution_count": null,
   "metadata": {},
   "outputs": [],
   "source": [
    "rmse_test = compute_rmse(model=model, loader=boston_test_loader)\n",
    "print(f'>> Test RMSE : {rmse_test}')"
   ]
  }
 ],
 "metadata": {
  "kernelspec": {
   "display_name": "PYTCH",
   "language": "python",
   "name": "python3"
  },
  "language_info": {
   "codemirror_mode": {
    "name": "ipython",
    "version": 3
   },
   "file_extension": ".py",
   "mimetype": "text/x-python",
   "name": "python",
   "nbconvert_exporter": "python",
   "pygments_lexer": "ipython3",
   "version": "3.10.16"
  }
 },
 "nbformat": 4,
 "nbformat_minor": 2
}
