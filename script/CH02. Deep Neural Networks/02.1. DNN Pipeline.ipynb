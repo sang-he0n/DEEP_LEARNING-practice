{
 "cells": [
  {
   "cell_type": "markdown",
   "metadata": {},
   "source": [
    "# CH02.1. **DNN(Deep Neural Networks) Pipeline**"
   ]
  },
  {
   "cell_type": "markdown",
   "metadata": {},
   "source": [
    "## 00. **작업 환경 설정**"
   ]
  },
  {
   "cell_type": "markdown",
   "metadata": {},
   "source": [
    "#### 00.0. **사전 변수 설정**"
   ]
  },
  {
   "cell_type": "code",
   "execution_count": null,
   "metadata": {},
   "outputs": [],
   "source": [
    "SEED_NUM = 2025\n",
    "BATCH_SIZE = 32\n",
    "EPOCH_NUM = 100\n",
    "USE_PRETRAIN_YN = 'N'\n",
    "MODEL_PTH = '../../model/bostonReg.pt'"
   ]
  },
  {
   "cell_type": "markdown",
   "metadata": {},
   "source": [
    "#### 00.1. **라이브러리 호출 및 옵션 설정**"
   ]
  },
  {
   "cell_type": "code",
   "execution_count": null,
   "metadata": {},
   "outputs": [
    {
     "name": "stdout",
     "output_type": "stream",
     "text": [
      ">> Device : mps\n"
     ]
    }
   ],
   "source": [
    "#(1) Import libraries\n",
    "import os\n",
    "import random\n",
    "import tqdm\n",
    "import numpy as np\n",
    "import pandas as pd\n",
    "import matplotlib.pyplot as plt \n",
    "import sklearn\n",
    "import torch\n",
    "import torchinfo\n",
    "\n",
    "#(2) Set up options\n",
    "os.environ['PYTHONHASHSEED'] = str(SEED_NUM)\n",
    "random.seed(a=SEED_NUM)\n",
    "np.random.seed(seed=SEED_NUM)\n",
    "torch.use_deterministic_algorithms(mode=True)\n",
    "torch.manual_seed(seed=SEED_NUM)\n",
    "torch.mps.manual_seed(seed=SEED_NUM)\n",
    "\n",
    "#(3) Set up device\n",
    "if torch.backends.mps.is_available() :\n",
    "    device = torch.device(device='mps')\n",
    "else :\n",
    "    device = torch.device(device='cpu')\n",
    "print(f'>> Device : {device}')"
   ]
  },
  {
   "cell_type": "markdown",
   "metadata": {},
   "source": [
    "#### 00.2. **사용자정의함수 정의**"
   ]
  },
  {
   "cell_type": "code",
   "execution_count": null,
   "metadata": {},
   "outputs": [],
   "source": [
    "#(1) Define `describe_df()` function\n",
    "def describe_df(df:pd.DataFrame) :\n",
    "    output = pd.DataFrame(data={\n",
    "        'dataType'     : df.dtypes,\n",
    "        'nullCount'    : df.isnull().sum(),\n",
    "        'nonNullCount' : (df.shape[0]-df.isnull().sum()),\n",
    "        'uniqueCount'  : df.nunique()\n",
    "    })\n",
    "    return output\n",
    "\n",
    "#(2) Define `compute_rmse()` function\n",
    "def compute_rmse(model:torch.nn.Module, loader:torch.utils.data.DataLoader) :\n",
    "    model.eval()\n",
    "    with torch.no_grad() : \n",
    "        square_sum = 0\n",
    "        instance_num = 0\n",
    "        for inputs, targets in loader :\n",
    "            preds = model(x=inputs)\n",
    "            square_sum += torch.sum(\n",
    "                input=(preds-targets.to(device=preds.device))**2\n",
    "            ).item()\n",
    "            instance_num += len(targets)\n",
    "    model.train()\n",
    "    output = np.sqrt(square_sum/instance_num)\n",
    "    return output"
   ]
  },
  {
   "cell_type": "markdown",
   "metadata": {},
   "source": [
    "#### 00.3. **클래스 정의**"
   ]
  },
  {
   "cell_type": "code",
   "execution_count": null,
   "metadata": {},
   "outputs": [],
   "source": [
    "#(1) Define `MyTensorDataset` class\n",
    "class MyTensorDataset(torch.utils.data.Dataset) :\n",
    "    def __init__(self, df:pd.DataFrame, pred_label_nm:'str', data_type:torch.dtype=torch.float32) :\n",
    "        self.feature = torch.tensor(data=df.drop(labels=pred_label_nm, axis=1).values, dtype=data_type)\n",
    "        self.label = torch.tensor(data=df.loc[:, pred_label_nm].values, dtype=data_type).reshape(shape=(-1, 1))\n",
    "        self.len = self.label.shape[0]\n",
    "    def __getitem__(self, index) :\n",
    "        return self.feature[index], self.label[index]\n",
    "    def __len__(self) :\n",
    "        return self.len\n",
    "\n",
    "#(2) Define `MyRegressionModel` class\n",
    "class MyRegressionModel(torch.nn.Module) :\n",
    "    def __init__(self, input_shape:tuple, device:torch.device) :\n",
    "        super().__init__()\n",
    "        self.device = device\n",
    "        self.layers = torch.nn.ModuleDict()\n",
    "        dims = [input_shape[0], 128, 64, 32]\n",
    "        for i in range(len(dims)-1) :\n",
    "            fc_block = torch.nn.ModuleList(modules=[\n",
    "                torch.nn.Linear(in_features=dims[i], out_features=dims[i+1]),\n",
    "                torch.nn.BatchNorm1d(num_features=dims[i+1]),\n",
    "                torch.nn.ReLU(),\n",
    "                torch.nn.Dropout(p=0.2)\n",
    "            ])\n",
    "            self.layers[f'fc_{i}'] = fc_block\n",
    "        layer = torch.nn.Linear(in_features=dims[-1], out_features=input_shape[1])\n",
    "        self.layers[f'fc_{i+1}'] = layer\n",
    "        self.to(device=device)\n",
    "    def forward(self, x:torch.Tensor) :\n",
    "        x = x.to(device=self.device)\n",
    "        _layers = list(self.layers.values())\n",
    "        for fc_block in _layers[:-1]:\n",
    "            for layer in fc_block:\n",
    "                x = layer(x)\n",
    "        x = _layers[-1](x)\n",
    "        return x"
   ]
  },
  {
   "cell_type": "markdown",
   "metadata": {},
   "source": [
    "<b></b>"
   ]
  },
  {
   "cell_type": "markdown",
   "metadata": {},
   "source": [
    "## 01. **데이터셋 로드 및 EDA**"
   ]
  },
  {
   "cell_type": "markdown",
   "metadata": {},
   "source": [
    "#### 01.1. **데이터셋 로드**"
   ]
  },
  {
   "cell_type": "code",
   "execution_count": 5,
   "metadata": {},
   "outputs": [],
   "source": [
    "boston_raw = pd.read_csv(filepath_or_buffer='../../data/boston.csv', index_col=[0])"
   ]
  },
  {
   "cell_type": "markdown",
   "metadata": {},
   "source": [
    "#### 01.2. **EDA**"
   ]
  },
  {
   "cell_type": "code",
   "execution_count": 6,
   "metadata": {},
   "outputs": [
    {
     "data": {
      "text/html": [
       "<div>\n",
       "<style scoped>\n",
       "    .dataframe tbody tr th:only-of-type {\n",
       "        vertical-align: middle;\n",
       "    }\n",
       "\n",
       "    .dataframe tbody tr th {\n",
       "        vertical-align: top;\n",
       "    }\n",
       "\n",
       "    .dataframe thead th {\n",
       "        text-align: right;\n",
       "    }\n",
       "</style>\n",
       "<table border=\"1\" class=\"dataframe\">\n",
       "  <thead>\n",
       "    <tr style=\"text-align: right;\">\n",
       "      <th></th>\n",
       "      <th>x1</th>\n",
       "      <th>x2</th>\n",
       "      <th>x3</th>\n",
       "      <th>x4</th>\n",
       "      <th>x5</th>\n",
       "      <th>x6</th>\n",
       "      <th>x7</th>\n",
       "      <th>x8</th>\n",
       "      <th>x9</th>\n",
       "      <th>x10</th>\n",
       "      <th>x11</th>\n",
       "      <th>x12</th>\n",
       "      <th>x13</th>\n",
       "      <th>Price</th>\n",
       "    </tr>\n",
       "  </thead>\n",
       "  <tbody>\n",
       "    <tr>\n",
       "      <th>0</th>\n",
       "      <td>0.034633</td>\n",
       "      <td>0.206919</td>\n",
       "      <td>0.137057</td>\n",
       "      <td>0.540526</td>\n",
       "      <td>0.193941</td>\n",
       "      <td>0.699239</td>\n",
       "      <td>0.630532</td>\n",
       "      <td>0.239410</td>\n",
       "      <td>0.027375</td>\n",
       "      <td>0.209857</td>\n",
       "      <td>0.347609</td>\n",
       "      <td>0.996394</td>\n",
       "      <td>0.102644</td>\n",
       "      <td>0.422222</td>\n",
       "    </tr>\n",
       "    <tr>\n",
       "      <th>1</th>\n",
       "      <td>0.028920</td>\n",
       "      <td>0.014315</td>\n",
       "      <td>0.276113</td>\n",
       "      <td>0.255945</td>\n",
       "      <td>0.618886</td>\n",
       "      <td>0.555407</td>\n",
       "      <td>0.782263</td>\n",
       "      <td>0.482977</td>\n",
       "      <td>0.103031</td>\n",
       "      <td>0.106690</td>\n",
       "      <td>0.520776</td>\n",
       "      <td>0.996650</td>\n",
       "      <td>0.187120</td>\n",
       "      <td>0.368889</td>\n",
       "    </tr>\n",
       "    <tr>\n",
       "      <th>2</th>\n",
       "      <td>0.020627</td>\n",
       "      <td>0.033230</td>\n",
       "      <td>0.281116</td>\n",
       "      <td>0.525591</td>\n",
       "      <td>0.165269</td>\n",
       "      <td>0.624102</td>\n",
       "      <td>0.586005</td>\n",
       "      <td>0.272713</td>\n",
       "      <td>0.036010</td>\n",
       "      <td>0.106986</td>\n",
       "      <td>0.595301</td>\n",
       "      <td>0.983284</td>\n",
       "      <td>0.084079</td>\n",
       "      <td>0.660000</td>\n",
       "    </tr>\n",
       "    <tr>\n",
       "      <th>3</th>\n",
       "      <td>0.022749</td>\n",
       "      <td>0.033801</td>\n",
       "      <td>0.125044</td>\n",
       "      <td>0.263253</td>\n",
       "      <td>0.251509</td>\n",
       "      <td>0.658532</td>\n",
       "      <td>0.432160</td>\n",
       "      <td>0.344932</td>\n",
       "      <td>0.150018</td>\n",
       "      <td>0.068317</td>\n",
       "      <td>0.651297</td>\n",
       "      <td>0.989989</td>\n",
       "      <td>0.015990</td>\n",
       "      <td>0.631111</td>\n",
       "    </tr>\n",
       "    <tr>\n",
       "      <th>4</th>\n",
       "      <td>0.022148</td>\n",
       "      <td>0.029374</td>\n",
       "      <td>0.121057</td>\n",
       "      <td>0.521126</td>\n",
       "      <td>0.399670</td>\n",
       "      <td>0.448086</td>\n",
       "      <td>0.520158</td>\n",
       "      <td>0.495342</td>\n",
       "      <td>0.104383</td>\n",
       "      <td>0.069360</td>\n",
       "      <td>0.560116</td>\n",
       "      <td>0.998723</td>\n",
       "      <td>0.092782</td>\n",
       "      <td>0.693333</td>\n",
       "    </tr>\n",
       "    <tr>\n",
       "      <th>5</th>\n",
       "      <td>0.038651</td>\n",
       "      <td>0.019568</td>\n",
       "      <td>0.139449</td>\n",
       "      <td>0.719852</td>\n",
       "      <td>0.560581</td>\n",
       "      <td>0.610531</td>\n",
       "      <td>0.578661</td>\n",
       "      <td>0.387926</td>\n",
       "      <td>0.133629</td>\n",
       "      <td>0.072967</td>\n",
       "      <td>0.514078</td>\n",
       "      <td>0.986385</td>\n",
       "      <td>0.127396</td>\n",
       "      <td>0.526667</td>\n",
       "    </tr>\n",
       "    <tr>\n",
       "      <th>6</th>\n",
       "      <td>0.033301</td>\n",
       "      <td>0.136658</td>\n",
       "      <td>0.336651</td>\n",
       "      <td>0.274996</td>\n",
       "      <td>0.472140</td>\n",
       "      <td>0.331155</td>\n",
       "      <td>0.643546</td>\n",
       "      <td>0.661869</td>\n",
       "      <td>0.270651</td>\n",
       "      <td>0.239929</td>\n",
       "      <td>0.475964</td>\n",
       "      <td>0.993516</td>\n",
       "      <td>0.300521</td>\n",
       "      <td>0.397778</td>\n",
       "    </tr>\n",
       "    <tr>\n",
       "      <th>7</th>\n",
       "      <td>0.026858</td>\n",
       "      <td>0.151993</td>\n",
       "      <td>0.300627</td>\n",
       "      <td>0.115449</td>\n",
       "      <td>0.463345</td>\n",
       "      <td>0.532618</td>\n",
       "      <td>0.938389</td>\n",
       "      <td>0.465781</td>\n",
       "      <td>0.139893</td>\n",
       "      <td>0.238901</td>\n",
       "      <td>0.243669</td>\n",
       "      <td>0.991425</td>\n",
       "      <td>0.431171</td>\n",
       "      <td>0.491111</td>\n",
       "    </tr>\n",
       "    <tr>\n",
       "      <th>8</th>\n",
       "      <td>0.021739</td>\n",
       "      <td>0.132378</td>\n",
       "      <td>0.259349</td>\n",
       "      <td>0.488716</td>\n",
       "      <td>0.389581</td>\n",
       "      <td>0.411536</td>\n",
       "      <td>0.984672</td>\n",
       "      <td>0.526151</td>\n",
       "      <td>0.201324</td>\n",
       "      <td>0.236329</td>\n",
       "      <td>0.306712</td>\n",
       "      <td>0.965204</td>\n",
       "      <td>0.767177</td>\n",
       "      <td>0.255556</td>\n",
       "    </tr>\n",
       "    <tr>\n",
       "      <th>9</th>\n",
       "      <td>0.014588</td>\n",
       "      <td>0.144471</td>\n",
       "      <td>0.331099</td>\n",
       "      <td>0.759479</td>\n",
       "      <td>0.696532</td>\n",
       "      <td>0.334544</td>\n",
       "      <td>0.834204</td>\n",
       "      <td>0.611416</td>\n",
       "      <td>0.174935</td>\n",
       "      <td>0.237351</td>\n",
       "      <td>0.437982</td>\n",
       "      <td>0.967070</td>\n",
       "      <td>0.445798</td>\n",
       "      <td>0.308889</td>\n",
       "    </tr>\n",
       "  </tbody>\n",
       "</table>\n",
       "</div>"
      ],
      "text/plain": [
       "         x1        x2        x3        x4        x5        x6        x7  \\\n",
       "0  0.034633  0.206919  0.137057  0.540526  0.193941  0.699239  0.630532   \n",
       "1  0.028920  0.014315  0.276113  0.255945  0.618886  0.555407  0.782263   \n",
       "2  0.020627  0.033230  0.281116  0.525591  0.165269  0.624102  0.586005   \n",
       "3  0.022749  0.033801  0.125044  0.263253  0.251509  0.658532  0.432160   \n",
       "4  0.022148  0.029374  0.121057  0.521126  0.399670  0.448086  0.520158   \n",
       "5  0.038651  0.019568  0.139449  0.719852  0.560581  0.610531  0.578661   \n",
       "6  0.033301  0.136658  0.336651  0.274996  0.472140  0.331155  0.643546   \n",
       "7  0.026858  0.151993  0.300627  0.115449  0.463345  0.532618  0.938389   \n",
       "8  0.021739  0.132378  0.259349  0.488716  0.389581  0.411536  0.984672   \n",
       "9  0.014588  0.144471  0.331099  0.759479  0.696532  0.334544  0.834204   \n",
       "\n",
       "         x8        x9       x10       x11       x12       x13     Price  \n",
       "0  0.239410  0.027375  0.209857  0.347609  0.996394  0.102644  0.422222  \n",
       "1  0.482977  0.103031  0.106690  0.520776  0.996650  0.187120  0.368889  \n",
       "2  0.272713  0.036010  0.106986  0.595301  0.983284  0.084079  0.660000  \n",
       "3  0.344932  0.150018  0.068317  0.651297  0.989989  0.015990  0.631111  \n",
       "4  0.495342  0.104383  0.069360  0.560116  0.998723  0.092782  0.693333  \n",
       "5  0.387926  0.133629  0.072967  0.514078  0.986385  0.127396  0.526667  \n",
       "6  0.661869  0.270651  0.239929  0.475964  0.993516  0.300521  0.397778  \n",
       "7  0.465781  0.139893  0.238901  0.243669  0.991425  0.431171  0.491111  \n",
       "8  0.526151  0.201324  0.236329  0.306712  0.965204  0.767177  0.255556  \n",
       "9  0.611416  0.174935  0.237351  0.437982  0.967070  0.445798  0.308889  "
      ]
     },
     "execution_count": 6,
     "metadata": {},
     "output_type": "execute_result"
    }
   ],
   "source": [
    "#(1) Display `boston_raw`\n",
    "boston_raw.head(n=10)"
   ]
  },
  {
   "cell_type": "code",
   "execution_count": 7,
   "metadata": {},
   "outputs": [
    {
     "data": {
      "text/html": [
       "<div>\n",
       "<style scoped>\n",
       "    .dataframe tbody tr th:only-of-type {\n",
       "        vertical-align: middle;\n",
       "    }\n",
       "\n",
       "    .dataframe tbody tr th {\n",
       "        vertical-align: top;\n",
       "    }\n",
       "\n",
       "    .dataframe thead th {\n",
       "        text-align: right;\n",
       "    }\n",
       "</style>\n",
       "<table border=\"1\" class=\"dataframe\">\n",
       "  <thead>\n",
       "    <tr style=\"text-align: right;\">\n",
       "      <th></th>\n",
       "      <th>dataType</th>\n",
       "      <th>nullCount</th>\n",
       "      <th>nonNullCount</th>\n",
       "      <th>uniqueCount</th>\n",
       "    </tr>\n",
       "  </thead>\n",
       "  <tbody>\n",
       "    <tr>\n",
       "      <th>x1</th>\n",
       "      <td>float64</td>\n",
       "      <td>0</td>\n",
       "      <td>506</td>\n",
       "      <td>506</td>\n",
       "    </tr>\n",
       "    <tr>\n",
       "      <th>x2</th>\n",
       "      <td>float64</td>\n",
       "      <td>0</td>\n",
       "      <td>506</td>\n",
       "      <td>506</td>\n",
       "    </tr>\n",
       "    <tr>\n",
       "      <th>x3</th>\n",
       "      <td>float64</td>\n",
       "      <td>0</td>\n",
       "      <td>506</td>\n",
       "      <td>506</td>\n",
       "    </tr>\n",
       "    <tr>\n",
       "      <th>x4</th>\n",
       "      <td>float64</td>\n",
       "      <td>0</td>\n",
       "      <td>506</td>\n",
       "      <td>506</td>\n",
       "    </tr>\n",
       "    <tr>\n",
       "      <th>x5</th>\n",
       "      <td>float64</td>\n",
       "      <td>0</td>\n",
       "      <td>506</td>\n",
       "      <td>506</td>\n",
       "    </tr>\n",
       "    <tr>\n",
       "      <th>x6</th>\n",
       "      <td>float64</td>\n",
       "      <td>0</td>\n",
       "      <td>506</td>\n",
       "      <td>506</td>\n",
       "    </tr>\n",
       "    <tr>\n",
       "      <th>x7</th>\n",
       "      <td>float64</td>\n",
       "      <td>0</td>\n",
       "      <td>506</td>\n",
       "      <td>506</td>\n",
       "    </tr>\n",
       "    <tr>\n",
       "      <th>x8</th>\n",
       "      <td>float64</td>\n",
       "      <td>0</td>\n",
       "      <td>506</td>\n",
       "      <td>506</td>\n",
       "    </tr>\n",
       "    <tr>\n",
       "      <th>x9</th>\n",
       "      <td>float64</td>\n",
       "      <td>0</td>\n",
       "      <td>506</td>\n",
       "      <td>506</td>\n",
       "    </tr>\n",
       "    <tr>\n",
       "      <th>x10</th>\n",
       "      <td>float64</td>\n",
       "      <td>0</td>\n",
       "      <td>506</td>\n",
       "      <td>506</td>\n",
       "    </tr>\n",
       "    <tr>\n",
       "      <th>x11</th>\n",
       "      <td>float64</td>\n",
       "      <td>0</td>\n",
       "      <td>506</td>\n",
       "      <td>506</td>\n",
       "    </tr>\n",
       "    <tr>\n",
       "      <th>x12</th>\n",
       "      <td>float64</td>\n",
       "      <td>0</td>\n",
       "      <td>506</td>\n",
       "      <td>506</td>\n",
       "    </tr>\n",
       "    <tr>\n",
       "      <th>x13</th>\n",
       "      <td>float64</td>\n",
       "      <td>0</td>\n",
       "      <td>506</td>\n",
       "      <td>506</td>\n",
       "    </tr>\n",
       "    <tr>\n",
       "      <th>Price</th>\n",
       "      <td>float64</td>\n",
       "      <td>0</td>\n",
       "      <td>506</td>\n",
       "      <td>229</td>\n",
       "    </tr>\n",
       "  </tbody>\n",
       "</table>\n",
       "</div>"
      ],
      "text/plain": [
       "      dataType  nullCount  nonNullCount  uniqueCount\n",
       "x1     float64          0           506          506\n",
       "x2     float64          0           506          506\n",
       "x3     float64          0           506          506\n",
       "x4     float64          0           506          506\n",
       "x5     float64          0           506          506\n",
       "x6     float64          0           506          506\n",
       "x7     float64          0           506          506\n",
       "x8     float64          0           506          506\n",
       "x9     float64          0           506          506\n",
       "x10    float64          0           506          506\n",
       "x11    float64          0           506          506\n",
       "x12    float64          0           506          506\n",
       "x13    float64          0           506          506\n",
       "Price  float64          0           506          229"
      ]
     },
     "execution_count": 7,
     "metadata": {},
     "output_type": "execute_result"
    }
   ],
   "source": [
    "#(2) Describe `boston_raw`\n",
    "describe_df(df=boston_raw)"
   ]
  },
  {
   "cell_type": "code",
   "execution_count": 8,
   "metadata": {},
   "outputs": [
    {
     "data": {
      "text/html": [
       "<div>\n",
       "<style scoped>\n",
       "    .dataframe tbody tr th:only-of-type {\n",
       "        vertical-align: middle;\n",
       "    }\n",
       "\n",
       "    .dataframe tbody tr th {\n",
       "        vertical-align: top;\n",
       "    }\n",
       "\n",
       "    .dataframe thead th {\n",
       "        text-align: right;\n",
       "    }\n",
       "</style>\n",
       "<table border=\"1\" class=\"dataframe\">\n",
       "  <thead>\n",
       "    <tr style=\"text-align: right;\">\n",
       "      <th></th>\n",
       "      <th>count</th>\n",
       "      <th>mean</th>\n",
       "      <th>std</th>\n",
       "      <th>min</th>\n",
       "      <th>1%</th>\n",
       "      <th>10%</th>\n",
       "      <th>25%</th>\n",
       "      <th>50%</th>\n",
       "      <th>75%</th>\n",
       "      <th>90%</th>\n",
       "      <th>99%</th>\n",
       "      <th>max</th>\n",
       "    </tr>\n",
       "  </thead>\n",
       "  <tbody>\n",
       "    <tr>\n",
       "      <th>x1</th>\n",
       "      <td>506.0</td>\n",
       "      <td>0.070683</td>\n",
       "      <td>0.094121</td>\n",
       "      <td>0.0</td>\n",
       "      <td>0.009277</td>\n",
       "      <td>0.021546</td>\n",
       "      <td>0.029774</td>\n",
       "      <td>0.040230</td>\n",
       "      <td>0.070544</td>\n",
       "      <td>0.152625</td>\n",
       "      <td>0.474918</td>\n",
       "      <td>1.0</td>\n",
       "    </tr>\n",
       "    <tr>\n",
       "      <th>x2</th>\n",
       "      <td>506.0</td>\n",
       "      <td>0.135605</td>\n",
       "      <td>0.226440</td>\n",
       "      <td>0.0</td>\n",
       "      <td>0.005060</td>\n",
       "      <td>0.013862</td>\n",
       "      <td>0.020509</td>\n",
       "      <td>0.030190</td>\n",
       "      <td>0.150837</td>\n",
       "      <td>0.433315</td>\n",
       "      <td>0.889557</td>\n",
       "      <td>1.0</td>\n",
       "    </tr>\n",
       "    <tr>\n",
       "      <th>x3</th>\n",
       "      <td>506.0</td>\n",
       "      <td>0.424234</td>\n",
       "      <td>0.232037</td>\n",
       "      <td>0.0</td>\n",
       "      <td>0.064563</td>\n",
       "      <td>0.143858</td>\n",
       "      <td>0.223651</td>\n",
       "      <td>0.363078</td>\n",
       "      <td>0.654769</td>\n",
       "      <td>0.704949</td>\n",
       "      <td>0.939676</td>\n",
       "      <td>1.0</td>\n",
       "    </tr>\n",
       "    <tr>\n",
       "      <th>x4</th>\n",
       "      <td>506.0</td>\n",
       "      <td>0.505672</td>\n",
       "      <td>0.182282</td>\n",
       "      <td>0.0</td>\n",
       "      <td>0.102131</td>\n",
       "      <td>0.262666</td>\n",
       "      <td>0.385348</td>\n",
       "      <td>0.500202</td>\n",
       "      <td>0.624019</td>\n",
       "      <td>0.760341</td>\n",
       "      <td>0.916720</td>\n",
       "      <td>1.0</td>\n",
       "    </tr>\n",
       "    <tr>\n",
       "      <th>x5</th>\n",
       "      <td>506.0</td>\n",
       "      <td>0.483965</td>\n",
       "      <td>0.167281</td>\n",
       "      <td>0.0</td>\n",
       "      <td>0.109317</td>\n",
       "      <td>0.277177</td>\n",
       "      <td>0.373733</td>\n",
       "      <td>0.484539</td>\n",
       "      <td>0.594011</td>\n",
       "      <td>0.698900</td>\n",
       "      <td>0.860339</td>\n",
       "      <td>1.0</td>\n",
       "    </tr>\n",
       "    <tr>\n",
       "      <th>x6</th>\n",
       "      <td>506.0</td>\n",
       "      <td>0.475751</td>\n",
       "      <td>0.150927</td>\n",
       "      <td>0.0</td>\n",
       "      <td>0.108966</td>\n",
       "      <td>0.287963</td>\n",
       "      <td>0.378476</td>\n",
       "      <td>0.470054</td>\n",
       "      <td>0.578155</td>\n",
       "      <td>0.671596</td>\n",
       "      <td>0.836432</td>\n",
       "      <td>1.0</td>\n",
       "    </tr>\n",
       "    <tr>\n",
       "      <th>x7</th>\n",
       "      <td>506.0</td>\n",
       "      <td>0.662663</td>\n",
       "      <td>0.282371</td>\n",
       "      <td>0.0</td>\n",
       "      <td>0.039376</td>\n",
       "      <td>0.234653</td>\n",
       "      <td>0.426510</td>\n",
       "      <td>0.751473</td>\n",
       "      <td>0.914585</td>\n",
       "      <td>0.963567</td>\n",
       "      <td>0.987286</td>\n",
       "      <td>1.0</td>\n",
       "    </tr>\n",
       "    <tr>\n",
       "      <th>x8</th>\n",
       "      <td>506.0</td>\n",
       "      <td>0.317333</td>\n",
       "      <td>0.181286</td>\n",
       "      <td>0.0</td>\n",
       "      <td>0.030038</td>\n",
       "      <td>0.105378</td>\n",
       "      <td>0.173847</td>\n",
       "      <td>0.286750</td>\n",
       "      <td>0.431015</td>\n",
       "      <td>0.571865</td>\n",
       "      <td>0.791924</td>\n",
       "      <td>1.0</td>\n",
       "    </tr>\n",
       "    <tr>\n",
       "      <th>x9</th>\n",
       "      <td>506.0</td>\n",
       "      <td>0.359104</td>\n",
       "      <td>0.310675</td>\n",
       "      <td>0.0</td>\n",
       "      <td>0.027075</td>\n",
       "      <td>0.109420</td>\n",
       "      <td>0.150533</td>\n",
       "      <td>0.204117</td>\n",
       "      <td>0.802832</td>\n",
       "      <td>0.880734</td>\n",
       "      <td>0.936835</td>\n",
       "      <td>1.0</td>\n",
       "    </tr>\n",
       "    <tr>\n",
       "      <th>x10</th>\n",
       "      <td>506.0</td>\n",
       "      <td>0.422760</td>\n",
       "      <td>0.319778</td>\n",
       "      <td>0.0</td>\n",
       "      <td>0.005177</td>\n",
       "      <td>0.090098</td>\n",
       "      <td>0.177237</td>\n",
       "      <td>0.275718</td>\n",
       "      <td>0.908668</td>\n",
       "      <td>0.912402</td>\n",
       "      <td>0.916972</td>\n",
       "      <td>1.0</td>\n",
       "    </tr>\n",
       "    <tr>\n",
       "      <th>x11</th>\n",
       "      <td>506.0</td>\n",
       "      <td>0.586434</td>\n",
       "      <td>0.192157</td>\n",
       "      <td>0.0</td>\n",
       "      <td>0.090347</td>\n",
       "      <td>0.313863</td>\n",
       "      <td>0.465810</td>\n",
       "      <td>0.620059</td>\n",
       "      <td>0.734952</td>\n",
       "      <td>0.802758</td>\n",
       "      <td>0.925938</td>\n",
       "      <td>1.0</td>\n",
       "    </tr>\n",
       "    <tr>\n",
       "      <th>x12</th>\n",
       "      <td>506.0</td>\n",
       "      <td>0.892721</td>\n",
       "      <td>0.228713</td>\n",
       "      <td>0.0</td>\n",
       "      <td>0.016911</td>\n",
       "      <td>0.724106</td>\n",
       "      <td>0.938640</td>\n",
       "      <td>0.980136</td>\n",
       "      <td>0.990521</td>\n",
       "      <td>0.994179</td>\n",
       "      <td>0.998242</td>\n",
       "      <td>1.0</td>\n",
       "    </tr>\n",
       "    <tr>\n",
       "      <th>x13</th>\n",
       "      <td>506.0</td>\n",
       "      <td>0.313400</td>\n",
       "      <td>0.203680</td>\n",
       "      <td>0.0</td>\n",
       "      <td>0.020395</td>\n",
       "      <td>0.082880</td>\n",
       "      <td>0.153765</td>\n",
       "      <td>0.280829</td>\n",
       "      <td>0.437862</td>\n",
       "      <td>0.590014</td>\n",
       "      <td>0.904269</td>\n",
       "      <td>1.0</td>\n",
       "    </tr>\n",
       "    <tr>\n",
       "      <th>Price</th>\n",
       "      <td>506.0</td>\n",
       "      <td>0.389618</td>\n",
       "      <td>0.204380</td>\n",
       "      <td>0.0</td>\n",
       "      <td>0.044667</td>\n",
       "      <td>0.172222</td>\n",
       "      <td>0.267222</td>\n",
       "      <td>0.360000</td>\n",
       "      <td>0.444444</td>\n",
       "      <td>0.662222</td>\n",
       "      <td>1.000000</td>\n",
       "      <td>1.0</td>\n",
       "    </tr>\n",
       "  </tbody>\n",
       "</table>\n",
       "</div>"
      ],
      "text/plain": [
       "       count      mean       std  min        1%       10%       25%       50%  \\\n",
       "x1     506.0  0.070683  0.094121  0.0  0.009277  0.021546  0.029774  0.040230   \n",
       "x2     506.0  0.135605  0.226440  0.0  0.005060  0.013862  0.020509  0.030190   \n",
       "x3     506.0  0.424234  0.232037  0.0  0.064563  0.143858  0.223651  0.363078   \n",
       "x4     506.0  0.505672  0.182282  0.0  0.102131  0.262666  0.385348  0.500202   \n",
       "x5     506.0  0.483965  0.167281  0.0  0.109317  0.277177  0.373733  0.484539   \n",
       "x6     506.0  0.475751  0.150927  0.0  0.108966  0.287963  0.378476  0.470054   \n",
       "x7     506.0  0.662663  0.282371  0.0  0.039376  0.234653  0.426510  0.751473   \n",
       "x8     506.0  0.317333  0.181286  0.0  0.030038  0.105378  0.173847  0.286750   \n",
       "x9     506.0  0.359104  0.310675  0.0  0.027075  0.109420  0.150533  0.204117   \n",
       "x10    506.0  0.422760  0.319778  0.0  0.005177  0.090098  0.177237  0.275718   \n",
       "x11    506.0  0.586434  0.192157  0.0  0.090347  0.313863  0.465810  0.620059   \n",
       "x12    506.0  0.892721  0.228713  0.0  0.016911  0.724106  0.938640  0.980136   \n",
       "x13    506.0  0.313400  0.203680  0.0  0.020395  0.082880  0.153765  0.280829   \n",
       "Price  506.0  0.389618  0.204380  0.0  0.044667  0.172222  0.267222  0.360000   \n",
       "\n",
       "            75%       90%       99%  max  \n",
       "x1     0.070544  0.152625  0.474918  1.0  \n",
       "x2     0.150837  0.433315  0.889557  1.0  \n",
       "x3     0.654769  0.704949  0.939676  1.0  \n",
       "x4     0.624019  0.760341  0.916720  1.0  \n",
       "x5     0.594011  0.698900  0.860339  1.0  \n",
       "x6     0.578155  0.671596  0.836432  1.0  \n",
       "x7     0.914585  0.963567  0.987286  1.0  \n",
       "x8     0.431015  0.571865  0.791924  1.0  \n",
       "x9     0.802832  0.880734  0.936835  1.0  \n",
       "x10    0.908668  0.912402  0.916972  1.0  \n",
       "x11    0.734952  0.802758  0.925938  1.0  \n",
       "x12    0.990521  0.994179  0.998242  1.0  \n",
       "x13    0.437862  0.590014  0.904269  1.0  \n",
       "Price  0.444444  0.662222  1.000000  1.0  "
      ]
     },
     "execution_count": 8,
     "metadata": {},
     "output_type": "execute_result"
    }
   ],
   "source": [
    "#(3) Check the statistics of `boston_raw`\n",
    "boston_raw.describe(percentiles=[0.01, 0.1, 0.25, 0.5, 0.75, 0.9, 0.99]).transpose()"
   ]
  },
  {
   "cell_type": "markdown",
   "metadata": {},
   "source": [
    "<b></b>"
   ]
  },
  {
   "cell_type": "markdown",
   "metadata": {},
   "source": [
    "## 02. **데이터셋 전처리**"
   ]
  },
  {
   "cell_type": "markdown",
   "metadata": {},
   "source": [
    "#### 02.1. **학습 및 검증 데이터셋 분리**"
   ]
  },
  {
   "cell_type": "code",
   "execution_count": 9,
   "metadata": {},
   "outputs": [],
   "source": [
    "boston_train, boston_test = sklearn.model_selection.train_test_split(boston_raw, train_size=0.7, random_state=SEED_NUM)"
   ]
  },
  {
   "cell_type": "markdown",
   "metadata": {},
   "source": [
    "#### 02.2. **텐서 변환**"
   ]
  },
  {
   "cell_type": "code",
   "execution_count": 10,
   "metadata": {},
   "outputs": [],
   "source": [
    "boston_train = MyTensorDataset(df=boston_train, pred_label_nm='Price', data_type=torch.float32)\n",
    "boston_test = MyTensorDataset(df=boston_test, pred_label_nm='Price', data_type=torch.float32)"
   ]
  },
  {
   "cell_type": "markdown",
   "metadata": {},
   "source": [
    "#### 02.3. **데이터로더 변환**"
   ]
  },
  {
   "cell_type": "code",
   "execution_count": 11,
   "metadata": {},
   "outputs": [],
   "source": [
    "boston_train_loader = torch.utils.data.DataLoader(dataset=boston_train, batch_size=BATCH_SIZE, shuffle=True)\n",
    "boston_test_loader = torch.utils.data.DataLoader(dataset=boston_test, batch_size=BATCH_SIZE, shuffle=True)"
   ]
  },
  {
   "cell_type": "markdown",
   "metadata": {},
   "source": [
    "<b></b>"
   ]
  },
  {
   "cell_type": "markdown",
   "metadata": {},
   "source": [
    "## 03. **모델 구축 및 학습**"
   ]
  },
  {
   "cell_type": "markdown",
   "metadata": {},
   "source": [
    "#### 03.1. **모델 정의**"
   ]
  },
  {
   "cell_type": "code",
   "execution_count": 12,
   "metadata": {},
   "outputs": [
    {
     "data": {
      "text/plain": [
       "==========================================================================================\n",
       "Layer (type:depth-idx)                   Output Shape              Param #\n",
       "==========================================================================================\n",
       "MyRegressionModel                        [32, 1]                   --\n",
       "├─ModuleDict: 1-1                        --                        --\n",
       "│    └─ModuleList: 2-1                   --                        --\n",
       "│    │    └─Linear: 3-1                  [32, 128]                 1,792\n",
       "│    │    └─BatchNorm1d: 3-2             [32, 128]                 256\n",
       "│    │    └─ReLU: 3-3                    [32, 128]                 --\n",
       "│    │    └─Dropout: 3-4                 [32, 128]                 --\n",
       "│    └─ModuleList: 2-2                   --                        --\n",
       "│    │    └─Linear: 3-5                  [32, 64]                  8,256\n",
       "│    │    └─BatchNorm1d: 3-6             [32, 64]                  128\n",
       "│    │    └─ReLU: 3-7                    [32, 64]                  --\n",
       "│    │    └─Dropout: 3-8                 [32, 64]                  --\n",
       "│    └─ModuleList: 2-3                   --                        --\n",
       "│    │    └─Linear: 3-9                  [32, 32]                  2,080\n",
       "│    │    └─BatchNorm1d: 3-10            [32, 32]                  64\n",
       "│    │    └─ReLU: 3-11                   [32, 32]                  --\n",
       "│    │    └─Dropout: 3-12                [32, 32]                  --\n",
       "│    └─Linear: 2-4                       [32, 1]                   33\n",
       "==========================================================================================\n",
       "Total params: 12,609\n",
       "Trainable params: 12,609\n",
       "Non-trainable params: 0\n",
       "Total mult-adds (M): 0.40\n",
       "==========================================================================================\n",
       "Input size (MB): 0.00\n",
       "Forward/backward pass size (MB): 0.11\n",
       "Params size (MB): 0.05\n",
       "Estimated Total Size (MB): 0.17\n",
       "=========================================================================================="
      ]
     },
     "execution_count": 12,
     "metadata": {},
     "output_type": "execute_result"
    }
   ],
   "source": [
    "#(1) Define `model`\n",
    "model = MyRegressionModel(input_shape=(13, 1), device=device)\n",
    "\n",
    "#(2) Check `model`'s parameter number\n",
    "torchinfo.summary(\n",
    "    model=model, \n",
    "    input_size=[BATCH_SIZE]+list(boston_train[0][0].shape),\n",
    "    device=device\n",
    ")"
   ]
  },
  {
   "cell_type": "code",
   "execution_count": 13,
   "metadata": {},
   "outputs": [],
   "source": [
    "#(3) Define loss function\n",
    "criterion = torch.nn.MSELoss()\n",
    "\n",
    "#(4) Define optimizer(optimization method)\n",
    "optimizer = torch.optim.Adam(params=model.parameters(), lr=1e-2, weight_decay=1e-7)"
   ]
  },
  {
   "cell_type": "markdown",
   "metadata": {},
   "source": [
    "#### 03.2. **모델 체크포인트 로드**"
   ]
  },
  {
   "cell_type": "code",
   "execution_count": null,
   "metadata": {},
   "outputs": [
    {
     "name": "stdout",
     "output_type": "stream",
     "text": [
      ">> Epoch=0, Train Loss=inf\n"
     ]
    }
   ],
   "source": [
    "if USE_PRETRAIN_YN == 'Y' :\n",
    "    checkpoint = torch.load(f=MODEL_PTH, map_location=device)\n",
    "    model.load_state_dict(state_dict=checkpoint['model'])\n",
    "    optimizer.load_state_dict(state_dict=checkpoint['optimizer'])\n",
    "    epoch = checkpoint['epoch']\n",
    "    loss_hist = checkpoint['loss_hist']\n",
    "    best_loss = loss_hist[-1]\n",
    "else :\n",
    "    epoch = 0\n",
    "    loss_hist = []\n",
    "    best_loss = float('inf')\n",
    "print(f\">> Epoch={epoch}, Train Loss={best_loss}\")"
   ]
  },
  {
   "cell_type": "markdown",
   "metadata": {},
   "source": [
    "#### 03.3. **모델 학습**"
   ]
  },
  {
   "cell_type": "code",
   "execution_count": null,
   "metadata": {},
   "outputs": [
    {
     "name": "stderr",
     "output_type": "stream",
     "text": [
      "100%|██████████| 100/100 [00:13<00:00,  7.45it/s, epoch=100, loss=0.0136]\n"
     ]
    }
   ],
   "source": [
    "batch_len = len(boston_train_loader)\n",
    "progress_bar = tqdm.trange(epoch, EPOCH_NUM)\n",
    "for epoch in progress_bar : \n",
    "    running_loss = 0.0\n",
    "    model.train()\n",
    "    for inputs, targets in boston_train_loader :\n",
    "        optimizer.zero_grad() \n",
    "        preds = model(x=inputs)\n",
    "        loss = criterion(input=preds, target=targets.to(device=device))\n",
    "        loss.backward()\n",
    "        optimizer.step()\n",
    "        running_loss += loss.item()\n",
    "    running_loss_avg = running_loss / batch_len\n",
    "    loss_hist.append(running_loss_avg)\n",
    "    if running_loss_avg < best_loss :\n",
    "        best_loss = running_loss_avg\n",
    "        torch.save(\n",
    "            obj={\n",
    "                'epoch'     : epoch,\n",
    "                'loss_hist' : loss_hist,\n",
    "                'model'     : model.state_dict(),\n",
    "                'optimizer' : optimizer.state_dict()\n",
    "            }, \n",
    "            f=MODEL_PTH\n",
    "        )\n",
    "    progress_bar.set_postfix(ordered_dict={'epoch':epoch+1, 'loss':running_loss_avg}) "
   ]
  },
  {
   "cell_type": "markdown",
   "metadata": {},
   "source": [
    "<b></b>"
   ]
  },
  {
   "cell_type": "markdown",
   "metadata": {},
   "source": [
    "## 04. **모델 평가**"
   ]
  },
  {
   "cell_type": "markdown",
   "metadata": {},
   "source": [
    "#### 04.1. **최적 성능 모델 로드**"
   ]
  },
  {
   "cell_type": "code",
   "execution_count": 16,
   "metadata": {},
   "outputs": [
    {
     "name": "stdout",
     "output_type": "stream",
     "text": [
      ">> Epoch : 98, Loss : 0.008701330322461823\n"
     ]
    }
   ],
   "source": [
    "checkpoint = torch.load(f=MODEL_PTH, map_location=device)\n",
    "model.load_state_dict(state_dict=checkpoint['model'])\n",
    "print(f'>> Epoch : {checkpoint[\"epoch\"]}, Loss : {checkpoint[\"loss_hist\"][-1]}')"
   ]
  },
  {
   "cell_type": "markdown",
   "metadata": {},
   "source": [
    "#### 04.2. **과소 적합 확인**"
   ]
  },
  {
   "cell_type": "code",
   "execution_count": 18,
   "metadata": {},
   "outputs": [
    {
     "data": {
      "image/png": "[encoded data removed]",
      "text/plain": [
       "<Figure size 1200x600 with 1 Axes>"
      ]
     },
     "metadata": {},
     "output_type": "display_data"
    }
   ],
   "source": [
    "#(1) Plot traing loss\n",
    "plt.figure(figsize=(12, 6))\n",
    "plt.title(label='Training Loss')\n",
    "plt.xlabel(xlabel='epoch')\n",
    "plt.ylabel(ylabel='loss')\n",
    "plt.plot(loss_hist)\n",
    "plt.show()"
   ]
  },
  {
   "cell_type": "code",
   "execution_count": null,
   "metadata": {},
   "outputs": [
    {
     "name": "stdout",
     "output_type": "stream",
     "text": [
      ">> Train RMSE: 0.06875519365426298\n"
     ]
    }
   ],
   "source": [
    "#(2) Check RMSE\n",
    "rmse_train = compute_rmse(model=model, loader=boston_train_loader)\n",
    "print(f'>> Train RMSE: {rmse_train}')"
   ]
  },
  {
   "cell_type": "markdown",
   "metadata": {},
   "source": [
    "#### 04.3. **일반화 성능 평가**"
   ]
  },
  {
   "cell_type": "code",
   "execution_count": 19,
   "metadata": {},
   "outputs": [
    {
     "name": "stdout",
     "output_type": "stream",
     "text": [
      ">> Test RMSE : 0.10739483105033096\n"
     ]
    }
   ],
   "source": [
    "rmse_test = compute_rmse(model=model, loader=boston_test_loader)\n",
    "print(f'>> Test RMSE : {rmse_test}')"
   ]
  }
 ],
 "metadata": {
  "kernelspec": {
   "display_name": "PYTCH",
   "language": "python",
   "name": "python3"
  },
  "language_info": {
   "codemirror_mode": {
    "name": "ipython",
    "version": 3
   },
   "file_extension": ".py",
   "mimetype": "text/x-python",
   "name": "python",
   "nbconvert_exporter": "python",
   "pygments_lexer": "ipython3",
   "version": "3.10.16"
  }
 },
 "nbformat": 4,
 "nbformat_minor": 2
}
